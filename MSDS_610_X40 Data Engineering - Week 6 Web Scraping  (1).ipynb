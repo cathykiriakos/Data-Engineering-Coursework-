{
 "cells": [
  {
   "cell_type": "code",
   "execution_count": 1,
   "metadata": {},
   "outputs": [],
   "source": [
    "import requests as req"
   ]
  },
  {
   "cell_type": "code",
   "execution_count": 2,
   "metadata": {},
   "outputs": [],
   "source": [
    "res = req.get('https://www.denvergov.org/content/denvergov/en/city-of-denver-home/news.html')"
   ]
  },
  {
   "cell_type": "code",
   "execution_count": 3,
   "metadata": {},
   "outputs": [
    {
     "data": {
      "text/plain": [
       "b'\\r\\n\\r\\n\\r\\n\\r\\n\\r\\n\\r\\n\\r\\n\\r\\n\\r\\n<!DOCTYPE HTML>\\r\\n<html  lang=\"en\">\\r\\n\\r\\n\\r\\n\\r\\n\\r\\n\\r\\n\\r\\n<head>\\r\\n    <title>News | City and County of Denver</title>\\r\\n    <link rel=\"shortcut icon\" href=\"/etc/designs/denvergov/favicon.ico\"/>\\r\\n    \\r\\n\\r\\n\\r\\n\\r\\n\\r\\n\\r\\n<meta name=\"description\" content=\"Your one-stop-shop for the latest news and announcements from the mayor and agencies across the City and County of Denver.\">\\r\\n<meta name=\"keywords\" content=\"\">\\r\\n<meta name=\"tags\" content=\"\">\\r\\n<meta name=\"modified\" content=\"8 Aug 2019 08:47:27 EDT\">\\r\\n<meta name=\"viewport\" content=\"width=device-width, initial-scale=1\">\\r\\n<meta http-equiv=\"Content-Type\" content=\"text/html; charset=utf-8\">\\r\\n\\r\\n    \\r\\n\\r\\n\\r\\n\\r\\n\\r\\n\\r\\n\\r\\n\\r\\n\\r\\n\\r\\n\\r\\n\\r\\n\\r\\n\\r\\n\\r\\n\\r\\n\\r\\n\\r\\n\\r\\n\\r\\n\\r\\n\\r\\n\\r\\n\\r\\n\\r\\n\\r\\n\\r\\n\\r\\n\\r\\n\\r\\n\\r\\n\\r\\n\\r\\n<!--\\r\\n<link href=\"/content/denvergov/en/city-of-denver-home/news\" />\\r\\n<link href=\"false\" />\\r\\n-->\\r\\n\\r\\n\\r\\n\\r\\n\\r\\n\\r\\n<script>\\r\\n    var digitalData = {\\n    \"pageInstanceID\": \"www:/content/denvergov/en/city-of-denver-home/news\",\\n    \"page\": {\"pageInfo\": {\\n        \"author\": \"Chad Menard\",\\n        \"channel\": \"Direct\",\\n        \"publisher\": \"City & County of Denver\",\\n        \"language\": \"en\",\\n        \"pageID\": \"city-of-denver-home|news\",\\n        \"issueDate\": \"2019-08-08T08:47:27.697-04:00\",\\n        \"industryCodes\": \"91990404\",\\n        \"pageName\": \"News\"\\n        }},\\n    \"category\": {\\n        \"subCategory\": \"Content\",\\n        \"pageType\": \"/apps/denvergov/templates/master\",\\n        \"primaryCategory\": \"DenverGov\"\\n        },\\n    \"attributes\": {\"devopsinfo\": {\\n        \"BuildLabel\": \"B-20190924-002\",\\n        \"BuildID\": \"32526\",\\n        \"TeamProject\": \"DenverApps\",\\n        \"Environment\": \"www.denvergov.org\",\\n        \"ReleaseID\": \"6502\",\\n        \"ReleaseLabel\": \"R-20190924-002\",\\n        \"AppName\": \"DenverGov-AEM\"\\n        }}\\n    };\\r\\n</script>\\r\\n\\r\\n\\r\\n\\r\\n\\r\\n\\r\\n<!--\\r\\n<script src=\"/static/denver-data-layer/R-20160719-005/ddl.js\"></script>\\r\\n-->\\r\\n\\r\\n\\r\\n\\r\\n\\r\\n\\r\\n\\r\\n<script type=\"text/javascript\" src=\"/etc/clientlibs/denvergov/libraries/jquery-1.12.4.min.js\"></script>\\n\\r\\n\\r\\n\\r\\n<script type=\"text/javascript\" src=\"https://www.denvergov.org/denverapps/static/fortawesome/R-20190723-002/js/4d5a8445.js\"></script>\\r\\n\\r\\n<!--\\r\\n<script type=\"text/javascript\" src=\"https://www.denvergov.org/static/typekit/20150630.001/tkloader.js\"></script>\\r\\n-->\\r\\n\\r\\n<script type=\"text/javascript\">\\r\\n    (function(d) {\\r\\n        var config = {\\r\\n            kitId: \\'hrx2fun\\',\\r\\n            scriptTimeout: 3000,\\r\\n            async: true\\r\\n        },\\r\\n        h=d.documentElement,t=setTimeout(function(){h.className=h.className.replace(/\\\\bwf-loading\\\\b/g,\"\")+\" wf-inactive\";},config.scriptTimeout),tk=d.createElement(\"script\"),f=false,s=d.getElementsByTagName(\"script\")[0],a;h.className+=\" wf-loading\";tk.src=\\'https://use.typekit.net/\\'+config.kitId+\\'.js\\';tk.async=true;tk.onload=tk.onreadystatechange=function(){a=this.readyState;if(f||a&&a!=\"complete\"&&a!=\"loaded\")return;f=true;clearTimeout(t);try{Typekit.load(config)}catch(e){}};s.parentNode.insertBefore(tk,s)\\r\\n    })(document);\\r\\n</script>\\r\\n\\r\\n\\r\\n<script src=\"//assets.adobedtm.com/2bb3c01676dd85d29a8f7449479f4cd85623c62c/satelliteLib-0a7667b8ff908433ea9ace08a09a214876d1689f.js\"></script>\\r\\n\\r\\n<!--siteimprove script-->\\r\\n<script type=\"text/javascript\">\\r\\n    /*<![CDATA[*/\\r\\n    (function() {\\r\\n    var sz = document.createElement(\\'script\\'); sz.type = \\'text/javascript\\'; sz.async = true;\\r\\n    sz.src = \\'//siteimproveanalytics.com/js/siteanalyze_1302574.js\\';\\r\\n    var s = document.getElementsByTagName(\\'script\\')[0]; s.parentNode.insertBefore(sz, s);\\r\\n    })();\\r\\n    /*]]>*/\\r\\n    </script>\\r\\n    \\r\\n\\r\\n<!--end siteimprove script-->\\r\\n    \\r\\n\\r\\n\\r\\n\\r\\n\\r\\n\\r\\n<link href=\"//maxcdn.bootstrapcdn.com/font-awesome/4.1.0/css/font-awesome.min.css\" rel=\"stylesheet\">\\r\\n\\r\\n<link rel=\"stylesheet\" href=\"/etc/clientlibs/denvergov/core/page.min.css\" type=\"text/css\">\\n<link rel=\"stylesheet\" href=\"/etc/clientlibs/denvergov/core/components.min.css\" type=\"text/css\">\\n<link rel=\"stylesheet\" href=\"/etc/clientlibs/denvergov/core/design-fixes.min.css\" type=\"text/css\">\\n\\r\\n\\r\\n\\r\\n    \\r\\n    \\r\\n\\r\\n\\r\\n\\r\\n    \\n\\r\\n</head>\\r\\n\\r\\n\\r\\n\\r\\n\\r\\n\\r\\n\\r\\n\\r\\n<body>\\r\\n\\r\\n\\r\\n\\r\\n\\r\\n\\r\\n\\r\\n\\r\\n<a href=\"#skip_to_content\" class=\"skip-navigation\" title=\"Skip Navigation\">Skip navigation</a>\\r\\n\\r\\n<header class=\"denver-header denver-no-subnav noindex\">\\r\\n\\r\\n    <div id=\"global-header\">\\r\\n        <nav class=\"denver-global-nav navbar navbar-inverse\" role=\"navigation\" id=\"nav\">\\r\\n            <div class=\"container\">\\r\\n\\r\\n                <div class=\"denver-global-nav-controls navbar-right navbar-toggle with-search\">\\r\\n\\r\\n                    <form action=\"https://www.denvergov.org/Apps4/Identity/Login.aspx?REF=https://www.denvergov.org\" method=\"get\">\\r\\n                        <button type=\"submit\" class=\"denver-profile-icon navbar-toggle\" title=\"Sign in or Sign up\">\\r\\n                            <span class=\"sr-only\">Sign in or Sign up</span>\\r\\n                            <i class=\"fa fa-user fa-2x\"></i>\\r\\n                        </button>\\r\\n                    </form>\\r\\n                    <label for=\"searchForm\" class=\"hidden\">Search</label>\\r\\n                    \\r\\n\\r\\n                    <!-- SEARCH COMPONENT START - 1 of 4 places -->\\r\\n                    <form onsubmit=\"return searchResult(\\'/content/denvergov/en/city-of-denver-home/search-results.html\\',$(this));\" class=\"denver-nav-search hidden-lg hidden-md hidden-sm hidden-xs\">\\r\\n                        \\r\\n                        \\r\\n\\r\\n\\r\\n\\r\\n     \\r\\n<input type=\"text\" name=\"q\" value=\"\" placeholder=\"Search\" id=\"searchForm\" >\\r\\n\\r\\n                        \\r\\n                            <i class=\"fa fa-search\" onclick=\"searchResult(\\'/content/denvergov/en/city-of-denver-home/search-results.html\\',$(this).parent());\"></i>\\r\\n                        \\r\\n                    </form>\\r\\n                    <!-- SEARCH COMPONENT END -->\\r\\n\\r\\n                    <button type=\"button\" class=\"denver-nav-icon navbar-toggle\" title=\"Toggle navigation\" data-toggle=\"collapse\" data-target=\".dropdown-nav\">\\r\\n                        <span class=\"sr-only\">Toggle navigation</span>\\r\\n                        <i class=\"fa fa-navicon fa-2x\"></i>\\r\\n                    </button>\\r\\n\\r\\n                    <!-- SEARCH COMPONENT START - 2 of 4 -->\\r\\n                    <button type=\"button\" class=\"denver-search-icon hidden-xl navbar-toggle\" data-toggle=\"collapse\" data-target=\".denver-body-search\">\\r\\n                            <span class=\"hidden\">Search</span>  <i class=\"fa fa-search fa-2x\"></i>\\r\\n                    </button>\\r\\n                    <!-- SEARCH COMPONENT END -->\\r\\n\\r\\n                    <div class=\"menu-verbiage\" data-toggle=\"collapse\" data-target=\".dropdown-nav\">Menu</div>\\r\\n                </div>\\r\\n\\r\\n                <!-- Denver navbar logo-->\\r\\n                <div class=\"navbar-header\">\\r\\n                    <div class=\"navbar-brand denver-navbar-brand\">\\r\\n                        <div class=\"logo\"><a href=\"/content/denvergov/en.html\">\\r\\n            <img id=\"denverlogo\" alt=\"City and County of Denver\" title=\"City and County of Denver\" src=\"/etc/clientlibs/denvergov/core/assets/images/denverlogo.png\"/>\\r\\n        </a>\\r\\n</div>\\n\\r\\n                    </div>\\r\\n                </div>\\r\\n\\r\\n                <!-- Collect the nav links, forms, and other content for toggling -->\\r\\n                <div class=\"collapse navbar-collapse dropdown-nav\">\\r\\n\\r\\n\\r\\n\\r\\n\\r\\n\\r\\n\\r\\n\\r\\n<ul class=\"nav navbar-nav denver-navbar-nav\">\\r\\n    \\r\\n        \\r\\n            <li><a href=\"/content/denvergov/en/city-of-denver-home/neighborhood-services.html\">Neighborhood</a></li>\\r\\n        \\r\\n    \\r\\n        \\r\\n            <li><a href=\"/content/denvergov/en/city-of-denver-home/business-services.html\">Business</a></li>\\r\\n        \\r\\n    \\r\\n        \\r\\n            <li><a href=\"http://www.denver.org/\" target=\"_blank\">Visiting</a></li>\\r\\n        \\r\\n    \\r\\n        \\r\\n            <li><a href=\"/content/denvergov/en/city-of-denver-home/government.html\">Government</a></li>\\r\\n        \\r\\n    \\r\\n        \\r\\n            <li><a href=\"/content/denvergov/en/city-of-denver-home/online-services-center.html\">Online Services</a></li>\\r\\n        \\r\\n    \\r\\n        \\r\\n            <li><a href=\"/content/denvergov/en/city-of-denver-home/directory.html\">Directory</a></li>\\r\\n        \\r\\n    \\r\\n</ul></div>\\n\\r\\n            </div>\\r\\n        </nav>\\r\\n\\r\\n        <!-- SEARCH COMPONENT START - 3 of 4 -->\\r\\n        <form onsubmit=\"return searchResult(\\'/content/denvergov/en/city-of-denver-home/search-results.html\\',$(this));\" class=\"collapse denver-body-search hidden-xl\">\\r\\n            \\r\\n            \\r\\n\\r\\n\\r\\n\\r\\n     \\r\\n<input type=\"text\" name=\"q\" value=\"\" placeholder=\"Search\" id=\"searchForm\" >\\r\\n\\r\\n            \\r\\n                <i class=\"fa fa-search fa-2x\" onclick=\"searchResult(\\'/content/denvergov/en/city-of-denver-home/search-results.html\\',$(this).parent());\"></i>\\r\\n            \\r\\n        </form>\\r\\n        <!-- SEARCH COMPONENT END -->\\r\\n\\r\\n    </div>\\r\\n\\r\\n</header>\\r\\n\\r\\n<!-- SPACER FOR AGENCY NAV & SEARCH STARTS HERE - - - - - - - - - - - - - - - - - - - - - - - - - - -  - - - - - - - - -  -->\\r\\n<div class=\"denver-header-spacer noindex\" aria-hidden=\"true\">\\r\\n\\r\\n    <!-- SEARCH COMPONENT START - 4 of 4 -->\\r\\n    <form class=\"collapse denver-body-search hidden-md hidden-lg\">\\r\\n            <label for=\"small-search2\" class=\"hidden\">Search</label>\\r\\n        <input type=\"search\" id=\"small-search2\">\\r\\n    </form>\\r\\n    <!-- SEARCH COMPONENT END -->\\r\\n\\r\\n</div>\\r\\n<!-- SPACER FOR AGENCY NAV & SEARCH  ENDS HERE - - - - - - - - - - - - - - - - - - - - - - - - - - -  - - - - - - - - -  -->\\r\\n\\r\\n<!-- GLOBAL HEADER ENDS HERE - - - - - - - - - - - - - - - - - - - - - - - - - - -  - - - - - - - - -  -->\\r\\n<a name=\"skip_to_content\" id=\"skip_to_content\" tabindex=\"-1\"></a>\\r\\n\\r\\n\\r\\n\\r\\n\\r\\n\\r\\n\\r\\n\\r\\n\\r\\n\\r\\n<section class=\"container denver-content-area-master\">\\r\\n    <div class=\"content parsys\"><div class=\"columnControl parsys 67-33 section\">\\r\\n\\r\\n\\r\\n\\r\\n\\r\\n\\r\\n\\r\\n\\r\\n\\r\\n\\r\\n\\r\\n    <div class=\"2columns-6733-1\">\\r\\n        <div class=\"column parsys right-pad-lrg\"><div class=\"row denver-news-mainrow section\">\\r\\n\\r\\n\\r\\n\\r\\n\\r\\n\\r\\n\\r\\n\\r\\n<div class=\"col-sm-8 denver-news-mainarea\">\\r\\n    <h1><b>CITYWIDE NEWS</b></h1>\\r\\n    \\r\\n       \\r\\n            <p class=\"denver-news-results-count\">Results 1 - 6 of 176</p>\\r\\n             <!-- start article list -->\\r\\n            \\r\\n                <div class=\"denver-news-list-item\">\\r\\n                    <p class=\"denver-news-list-date\">Feb 20, 2020</p>\\r\\n                    <h3><a href=\"/content/denvergov/en/mayors-office/newsroom/2020/mayor-and-superintendent-announce-new-community-microgrants-part.html\">Mayor and Superintendent announce new community microgrants partnership to help end youth violence</a></h3>\\r\\n                    \\r\\n                    \\r\\n                        <p>Mayor Michael B. Hancock and Denver Public Schools (DPS) Superintendent Susana Cordova today announced the city will be matching the district\\xe2\\x80\\x99s $100,000 commitment \\xe2\\x80\\x93 for a total of $200,000 \\xe2\\x80\\x93 in new microgrant funding to engage community partners in the effort to help end youth violence in Denver.</p>\\r\\n                    \\r\\n                    <div style=\"clear:both;\"></div>\\r\\n                </div>\\r\\n            \\r\\n                <div class=\"denver-news-list-item\">\\r\\n                    <p class=\"denver-news-list-date\">Feb 20, 2020</p>\\r\\n                    <h3><a href=\"/content/denvergov/en/denver-city-council/news/2020/week-of-february-24--2020-meeting-schedule-and-agendas.html\">Week of February 24, 2020 Meeting Schedule and Agendas</a></h3>\\r\\n                    \\r\\n                    \\r\\n                    <div style=\"clear:both;\"></div>\\r\\n                </div>\\r\\n            \\r\\n                <div class=\"denver-news-list-item\">\\r\\n                    <p class=\"denver-news-list-date\">Feb 19, 2020</p>\\r\\n                    <h3><a href=\"/content/denvergov/en/contract-administration/current-bidding-opportunities/2020/contract-202053453.html\">Contract 202053453 2020 Citywide Chip Seal and Crack Seal</a></h3>\\r\\n                    \\r\\n                    \\r\\n                        <p>Cape Seal and Crack Seal in various locations throughout the City and County of Denver. Approximately 120 lane miles of mostly local streets to be treated with chip/cape seal resurfacing and crack seal for other selected streets.</p>\\r\\n                    \\r\\n                    <div style=\"clear:both;\"></div>\\r\\n                </div>\\r\\n            \\r\\n                <div class=\"denver-news-list-item\">\\r\\n                    <p class=\"denver-news-list-date\">Feb 19, 2020</p>\\r\\n                    <h3><a href=\"/content/denvergov/en/mayors-office/newsroom/2020/mayor-hancock-names-grace-rink-to-head-denver-s-first-climate-ag.html\">Mayor Hancock names Grace Rink to head Denver\\xe2\\x80\\x99s first Climate Agency</a></h3>\\r\\n                    \\r\\n                    \\r\\n                        <p>Mayor Michael B. Hancock today announced his appointment of Grace Rink, a leader in the sustainability field with nearly two decades of experience working on climate issues, as Denver\\xe2\\x80\\x99s first Executive Director of the new Office of Climate Action, Sustainability and Resiliency.</p>\\r\\n                    \\r\\n                    <div style=\"clear:both;\"></div>\\r\\n                </div>\\r\\n            \\r\\n                <div class=\"denver-news-list-item\">\\r\\n                    <p class=\"denver-news-list-date\">Feb 19, 2020</p>\\r\\n                    <h3><a href=\"/content/denvergov/en/environmental-health/news/newsroom_2020/save-the-food-tasting-celebration.html\">Denver Department of Public Health & Environment and Partners Host Tasting Event Featuring Food Most of Us Throw Away  </a></h3>\\r\\n                    \\r\\n                    \\r\\n                        <p>The Denver Department of Public Health & Environment (DDPHE), the Natural Resources Defense Council (NRDC) and Slow Food Denver will partner with Broadway Market restaurants tomorrow, Feb. 20, from 5-8 p.m. to showcase a tasting menu using frequently wasted ingredients.</p>\\r\\n                    \\r\\n                    <div style=\"clear:both;\"></div>\\r\\n                </div>\\r\\n            \\r\\n                <div class=\"denver-news-list-item\">\\r\\n                    <p class=\"denver-news-list-date\">Feb 18, 2020</p>\\r\\n                    <h3><a href=\"/content/denvergov/en/human-rights-and-community-partnerships/news-events/2019/changes-to-denver-anti-discrimination-ordinance-.html\">Changes Made to Denver\\'s Anti-Discrimination Ordinance </a></h3>\\r\\n                    \\r\\n                    \\r\\n                    <div style=\"clear:both;\"></div>\\r\\n                </div>\\r\\n            \\r\\n        \\r\\n        \\r\\n    \\r\\n    <!-- end article list, start pagination links -->\\r\\n    \\r\\n    <div class=\"denver-news-pagination\">\\r\\n        <ul class=\"pagination pagination-lg\">\\r\\n\\r\\n            <li class=\"disabled\">\\r\\n                <a href=\"/content/denvergov/en/city-of-denver-home/news.html?page=0\">&laquo;</a>\\r\\n            </li>\\r\\n            \\r\\n                \\r\\n                   \\r\\n                     \\r\\n                        <li class=\"active\"><a href=\"/content/denvergov/en/city-of-denver-home/news.html?page=1\">1</a></li>\\r\\n                     \\r\\n                     \\r\\n                   \\r\\n                \\r\\n                   \\r\\n                     \\r\\n                     \\r\\n                        <li><a href=\"/content/denvergov/en/city-of-denver-home/news.html?page=2\">2</a></li>\\r\\n                     \\r\\n                   \\r\\n                \\r\\n                   \\r\\n                     \\r\\n                     \\r\\n                        <li><a href=\"/content/denvergov/en/city-of-denver-home/news.html?page=3\">3</a></li>\\r\\n                     \\r\\n                   \\r\\n                \\r\\n                   \\r\\n                     \\r\\n                     \\r\\n                        <li><a href=\"/content/denvergov/en/city-of-denver-home/news.html?page=4\">4</a></li>\\r\\n                     \\r\\n                   \\r\\n                \\r\\n                   \\r\\n                     \\r\\n                     \\r\\n                        <li><a href=\"/content/denvergov/en/city-of-denver-home/news.html?page=5\">5</a></li>\\r\\n                     \\r\\n                   \\r\\n                \\r\\n                   \\r\\n                     \\r\\n                     \\r\\n                        <li><a href=\"/content/denvergov/en/city-of-denver-home/news.html?page=6\">6</a></li>\\r\\n                     \\r\\n                   \\r\\n                \\r\\n                   \\r\\n                     \\r\\n                     \\r\\n                        <li><a href=\"/content/denvergov/en/city-of-denver-home/news.html?page=7\">7</a></li>\\r\\n                     \\r\\n                   \\r\\n                \\r\\n                   \\r\\n                     \\r\\n                     \\r\\n                        <li><a href=\"/content/denvergov/en/city-of-denver-home/news.html?page=8\">8</a></li>\\r\\n                     \\r\\n                   \\r\\n                \\r\\n                   \\r\\n                     \\r\\n                     \\r\\n                        <li><a href=\"/content/denvergov/en/city-of-denver-home/news.html?page=9\">9</a></li>\\r\\n                     \\r\\n                   \\r\\n                \\r\\n                   \\r\\n                     \\r\\n                     \\r\\n                        <li><a href=\"/content/denvergov/en/city-of-denver-home/news.html?page=10\">10</a></li>\\r\\n                     \\r\\n                   \\r\\n                \\r\\n             \\r\\n            <li class=\"\">\\r\\n                \\r\\n                    \\r\\n                    \\r\\n                        <a href=\"/content/denvergov/en/city-of-denver-home/news.html?page=2\">&raquo;</a>\\r\\n                    \\r\\n                \\r\\n            </li>\\r\\n\\r\\n        </ul>\\r\\n    </div>\\r\\n    \\r\\n</div>\\r\\n<div class=\"col-sm-4 denver-news-sidebar\">\\r\\n    <div class=\"denver-news-archive-area\">\\r\\n        \\r\\n        <p class=\"denver-news-archive-links\">\\r\\n            \\r\\n        </p>\\r\\n    </div>\\r\\n</div>\\r\\n</div>\\n\\r\\n</div>\\n\\r\\n        \\r\\n     &nbsp;</div>\\r\\n\\r\\n    <div class=\"2columns-6733-2\">\\r\\n        <div class=\"column parsys\"><div class=\"rawtext section\">\\r\\n\\r\\n       <p></p><div class=\"google-translate\"><div class=\"translate-text\"><strong>Translate This Page</strong></div><div id=\"google_translate_element\"></div><script type=\"text/javascript\">\\nfunction googleTranslateElementInit() {\\n  new google.translate.TranslateElement({pageLanguage: \\'en\\', layout: google.translate.TranslateElement.FloatPosition.TOP_LEFT}, \\'google_translate_element\\');\\n}\\n\\n\\n</script><script type=\"text/javascript\" src=\"//translate.google.com/translate_a/element.js?cb=googleTranslateElementInit\"></script><p></p></div>\\n\\n<style>\\n.google-translate {clear:both;overflow:hidden;margin-bottom:20px;}\\n.goog-te-gadget {position:relative;top:-4px;}\\n.goog-te-gadget select {margin-left: 6px!important;}\\n.goog-te-gadget > div {display:block!important;}\\n.goog-te-gadget span a {font-size:0!important;}\\n.goog-te-gadget img {width: auto; display: inherit;position: relative;top: -2px;}\\n\\n#google_translate_element {float:left;}\\n.translate-text {float:left;margin-right:8px;position:relative;}\\n\\n</style>\\r\\n    \\r\\n\\r\\n</div>\\n<div class=\"rawtext section\">\\r\\n\\r\\n       <p></p><div id=\"fb-root\"></div>\\n<script>(function(d, s, id) {\\n  var js, fjs = d.getElementsByTagName(s)[0];\\n  if (d.getElementById(id)) return;\\n  js = d.createElement(s); js.id = id;\\n  js.src = \"//connect.facebook.net/en_US/sdk.js#xfbml=1&version=v2.4\";\\n  fjs.parentNode.insertBefore(js, fjs);\\n}(document, \\'script\\', \\'facebook-jssdk\\'));</script>\\n<p></p><p></p><div class=\"fb-page\" data-href=\"https://www.facebook.com/CityandCountyofDenver\" data-tabs=\"timeline\" data-height=\"800\" data-small-header=\"false\" data-adapt-container-width=\"true\" data-hide-cover=\"false\" data-show-facepile=\"false\"><div class=\"fb-xfbml-parse-ignore\"><blockquote cite=\"https://www.facebook.com/CityandCountyofDenver\"><a href=\"https://www.facebook.com/CityandCountyofDenver\">City and County of Denver</a></blockquote></div></div>\\r\\n    \\r\\n\\r\\n</div>\\n\\r\\n</div>\\n\\r\\n        \\r\\n     &nbsp;</div>\\r\\n\\r\\n<div style=\"clear: both;\"></div>\\r\\n</div>\\n\\r\\n</div>\\n\\r\\n</section>\\r\\n\\r\\n\\r\\n\\r\\n\\r\\n\\r\\n\\r\\n\\r\\n<footer class=\"denver-footer noindex\" role=\"contentinfo\">\\r\\n    <div class=\"footer parbase\">\\r\\n\\r\\n\\r\\n\\r\\n\\r\\n\\r\\n\\r\\n\\r\\n\\r\\n<div class=\"container social-bar\">\\r\\n    <div class=\"col-xs-6 col-sm-9 social-bar\">\\r\\n        <ul class=\"social-icons center-block\">\\r\\n            \\r\\n                \\r\\n                    <li>\\r\\n                        <a class=\"facebook\" href=\"http://www.facebook.com/CityandCountyofDenver\" target=\"_blank\" alt=\"Facebook\" title=\"Facebook\">\\r\\n                       \\r\\n                            <i class=\"fa fa-facebook\" aria-label=\"Facebook\">\\r\\n                            </i>\\r\\n                        </a>\\r\\n                    </li>\\r\\n                \\r\\n            \\r\\n                \\r\\n                    <li>\\r\\n                        <a class=\"youtube\" href=\"https://www.youtube.com/CityandCountyDenver\" target=\"_blank\" alt=\"Youtube\" title=\"Youtube\">\\r\\n                       \\r\\n                            <i class=\"fa fa-youtube\" aria-label=\"Youtube\">\\r\\n                            </i>\\r\\n                        </a>\\r\\n                    </li>\\r\\n                \\r\\n            \\r\\n                \\r\\n                    <li>\\r\\n                        <a class=\"flickr\" href=\"https://www.flickr.com/photos/80202894@N07/\" target=\"_blank\" alt=\"Flickr\" title=\"Flickr\">\\r\\n                       \\r\\n                            <i class=\"fa fa-flickr\" aria-label=\"Flickr\">\\r\\n                            </i>\\r\\n                        </a>\\r\\n                    </li>\\r\\n                \\r\\n            \\r\\n                \\r\\n                    <li>\\r\\n                        <a class=\"twitter\" href=\"https://twitter.com/cityofdenver\" target=\"_blank\" alt=\"Twitter\" title=\"Twitter\">\\r\\n                       \\r\\n                            <i class=\"fa fa-twitter\" aria-label=\"Twitter\">\\r\\n                            </i>\\r\\n                        </a>\\r\\n                    </li>\\r\\n                \\r\\n            \\r\\n                \\r\\n                    <li>\\r\\n                        <a class=\"instagram\" href=\"https://www.instagram.com/therealcityofdenver/\" target=\"_blank\" alt=\"Instagram\" title=\"Instagram\">\\r\\n                       \\r\\n                            <i class=\"fa fa-instagram\" aria-label=\"Instagram\">\\r\\n                            </i>\\r\\n                        </a>\\r\\n                    </li>\\r\\n                \\r\\n            \\r\\n            \\r\\n        </ul>\\r\\n    </div>\\r\\n    <div class=\"col-xs-6 col-sm-3 text-center pocketgov\">\\r\\n        <a href=\"https://www.denvergov.org/pocketgov\">\\r\\n            <span class=\"pocketgov-logo center-block\">\\r\\n                <span class=\"pocketgov-name\">\\r\\n                    pocketgov \\r\\n                </span>\\r\\n                <span class=\"pocketgov-denver\">\\r\\n                    denver\\r\\n                </span>\\r\\n            </span>\\r\\n        </a>\\r\\n    </div>\\r\\n</div>\\r\\n<div class=\"footer-copy text-center\">\\r\\n    <div class=\"container\">\\r\\n        <div class=\"row\">\\r\\n            \\r\\n                \\r\\n                    <article class=\"col-xs-4 col-sm-4 col-md-4 text-center footer-content\">\\r\\n                        <a href=\"/content/denvergov/en/city-of-denver-home/online-services-center.html\" title=\"ONLINE SERVICES\">\\r\\n                            <h5><img class=\"appImgIcon\" src=\"/content/dam/denvergov/Portals/footer/apps.png\" alt=\"ONLINE SERVICES\"/>ONLINE SERVICES</h5>\\r\\n                        </a>\\r\\n                    </article>\\r\\n                \\r\\n            \\r\\n                \\r\\n                    <article class=\"col-xs-4 col-sm-4 col-md-4 text-center footer-content\">\\r\\n                        <a href=\"https://www.denvergov.org/opendata\" title=\"OPEN DATA\">\\r\\n                            <h5><img class=\"appImgIcon\" src=\"/content/dam/denvergov/Portals/footer/database.png\" alt=\"OPEN DATA\"/>OPEN DATA</h5>\\r\\n                        </a>\\r\\n                    </article>\\r\\n                \\r\\n            \\r\\n                \\r\\n                    <article class=\"col-xs-4 col-sm-4 col-md-4 text-center footer-content\">\\r\\n                        <a href=\"/content/denvergov/en/city-of-denver-home/directory.html\" title=\"DIRECTORY\">\\r\\n                            <h5><img class=\"appImgIcon\" src=\"/content/dam/denvergov/Portals/footer/atoz.png\" alt=\"DIRECTORY\"/>DIRECTORY</h5>\\r\\n                        </a>\\r\\n                    </article>\\r\\n                \\r\\n            \\r\\n            \\r\\n        </div>\\r\\n        <div class=\"row\">\\r\\n            <div class=\"footer-copyright\">\\r\\n                <p>\\r\\n                    &#169; Copyright 2020 City and County of Denver\\r\\n                    \\r\\n                        \\r\\n                            | <a href=\"https://www.denvergov.org/jobs\">Jobs</a>\\r\\n                        \\r\\n                    \\r\\n                        \\r\\n                            | <a href=\"/content/denvergov/en/city-of-denver-home/terms-of-use.html\">Terms of Use</a>\\r\\n                        \\r\\n                    \\r\\n                        \\r\\n                            | <a href=\"/content/denvergov/en/city-of-denver-home/privacy-policy.html\">Privacy & Security Policy</a>\\r\\n                        \\r\\n                    \\r\\n                        \\r\\n                            | <a href=\"/content/denvergov/en/city-of-denver-home/cora.html\">Open Records Policy (CORA)</a>\\r\\n                        \\r\\n                    \\r\\n                        \\r\\n                            | <a href=\"/content/denvergov/en/city-of-denver-home/accessibility.html\">Accessibility</a>\\r\\n                        \\r\\n                    \\r\\n                </p>\\r\\n            </div>\\r\\n        </div>\\r\\n    </div>\\r\\n</div>\\r\\n</div>\\n\\r\\n</footer>\\r\\n\\r\\n\\r\\n\\r\\n\\r\\n\\r\\n\\r\\n\\r\\n<script type=\"text/javascript\" src=\"/etc.clientlibs/clientlibs/granite/jquery-ui.min.js\"></script>\\n<script type=\"text/javascript\" src=\"/etc/clientlibs/denvergov/libraries.min.js\"></script>\\n<script type=\"text/javascript\" src=\"/etc/clientlibs/denvergov/core/components.min.js\"></script>\\n\\r\\n\\r\\n\\r\\n    \\r\\n    \\r\\n\\r\\n\\r\\n<!-- search Form -->\\r\\n<script>\\r\\n    function searchResult(searchURL, obj){\\r\\n        window.location.href = searchURL + \"?\" + $.param({ q : obj.find(\\'input\\').val() });\\r\\n        return false;\\r\\n    }\\r\\n\\r\\n    $(document).ready(function() {\\r\\n       $(\\'input[type=search], input[type=text]\\').placeholder();\\r\\n    });\\r\\n</script>\\r\\n\\r\\n\\r\\n    <!-- UserVoice -->\\r\\n    <script>\\r\\n        // Include the UserVoice JavaScript SDK (only needed once on a page)\\r\\n        UserVoice=window.UserVoice||[];(function(){var uv=document.createElement(\\'script\\');uv.type=\\'text/javascript\\';uv.async=true;uv.src=\\'//widget.uservoice.com/Ecizix29h1gCnEsBrCfFuw.js\\';var s=document.getElementsByTagName(\\'script\\')[0];s.parentNode.insertBefore(uv,s)})();\\r\\n\\r\\n        //\\r\\n        // UserVoice Javascript SDK developer documentation:\\r\\n        // https://www.uservoice.com/o/javascript-sdk\\r\\n        //\\r\\n\\r\\n        // Set colors\\r\\n        UserVoice.push([\\'set\\', {\\r\\n            accent_color: \\'#005596\\',\\r\\n            trigger_color: \\'white\\',\\r\\n            trigger_background_color: \\'#005596\\'\\r\\n        }]);\\r\\n\\r\\n        // Identify the user and pass traits\\r\\n        // To enable, replace sample data with actual user traits and uncomment the line\\r\\n        UserVoice.push([\\'identify\\', {\\r\\n            //email:      \\'john.doe@example.com\\', // User\\xc3\\xa2\\xc2\\x80\\xc2\\x99s email address\\r\\n            //name:       \\'John Doe\\', // User\\xc3\\xa2\\xc2\\x80\\xc2\\x99s real name\\r\\n            //created_at: 1364406966, // Unix timestamp for the date the user signed up\\r\\n            //id:         123, // Optional: Unique id of the user (if set, this should not change)\\r\\n            //type:       \\'Owner\\', // Optional: segment your users by type\\r\\n            //account: {\\r\\n            //  id:           123, // Optional: associate multiple users with a single account\\r\\n            //  name:         \\'Acme, Co.\\', // Account name\\r\\n            //  created_at:   1364406966, // Unix timestamp for the date the account was created\\r\\n            //  monthly_rate: 9.99, // Decimal; monthly rate of the account\\r\\n            //  ltv:          1495.00, // Decimal; lifetime value of the account\\r\\n            //  plan:         \\'Enhanced\\' // Plan name for the account\\r\\n            //}\\r\\n        }]);\\r\\n\\r\\n        // Add default trigger to the bottom-right corner of the window:\\r\\n        UserVoice.push([\\'addTrigger\\', {mode: \\'satisfaction\\', trigger_position: \\'bottom-right\\' }]);\\r\\n\\r\\n        // Or, use your own custom trigger:\\r\\n        //UserVoice.push([\\'addTrigger\\', \\'#id\\', { mode: \\'satisfaction\\' }]);\\r\\n\\r\\n        // Autoprompt for Satisfaction and SmartVote (only displayed under certain conditions)\\r\\n        UserVoice.push([\\'autoprompt\\', {}]);\\r\\n    </script>\\r\\n\\r\\n\\r\\n<!-- Analytics -->\\r\\n<script type=\"text/javascript\">_satellite.pageBottom();</script>\\r\\n<div class=\"cloudservices servicecomponents\"><div class=\"cloudservice generictracker\">\\n    <script type=\"text/javascript\">\\n    (function(i,s,o,g,r,a,m){i[\\'GoogleAnalyticsObject\\']=r;i[r]=i[r]||function(){\\n  (i[r].q=i[r].q||[]).push(arguments)},i[r].l=1*new Date();a=s.createElement(o),\\n  m=s.getElementsByTagName(o)[0];a.async=1;a.src=g;m.parentNode.insertBefore(a,m)\\n  })(window,document,\\'script\\',\\'//www.google-analytics.com/analytics.js\\',\\'ga\\');\\n\\n  ga(\\'create\\', \\'UA-1920922-11\\', \\'auto\\');\\n  ga(\\'send\\', \\'pageview\\');\\n    </script>\\n</div>\\n\\n</div>\\n\\r\\n</body>\\r\\n\\r\\n</html>\\r\\n\\r\\n<script id=\"f5_cspm\">(function(){var f5_cspm={f5_p:\\'BPCGHBEGDNIAEHBJNCIDHAJGEAGINDDIAAGCMCBIBFKNEGAOMMFGAKHOGBGPHMGCEDDNEHDMHLKBIPICNPGEOPLOAAFANFNKAAENIFGIDMNCFGGFAAAEKFDALEPHBGGB\\',setCharAt:function(str,index,chr){if(index>str.length-1)return str;return str.substr(0,index)+chr+str.substr(index+1);},get_byte:function(str,i){var s=(i/16)|0;i=(i&15);s=s*32;return((str.charCodeAt(i+16+s)-65)<<4)|(str.charCodeAt(i+s)-65);},set_byte:function(str,i,b){var s=(i/16)|0;i=(i&15);s=s*32;str=f5_cspm.setCharAt(str,(i+16+s),String.fromCharCode((b>>4)+65));str=f5_cspm.setCharAt(str,(i+s),String.fromCharCode((b&15)+65));return str;},set_latency:function(str,latency){latency=latency&0xffff;str=f5_cspm.set_byte(str,48,(latency>>8));str=f5_cspm.set_byte(str,49,(latency&0xff));str=f5_cspm.set_byte(str,43,2);return str;},wait_perf_data:function(){try{var wp=window.performance.timing;if(wp.loadEventEnd>0){var res=wp.loadEventEnd-wp.navigationStart;if(res<60001){var cookie_val=f5_cspm.set_latency(f5_cspm.f5_p,res);window.document.cookie=\\'f5avr0350952485aaaaaaaaaaaaaaaa=\\'+encodeURIComponent(cookie_val)+\\';path=/\\';}\\nreturn;}}\\ncatch(err){return;}\\nsetTimeout(f5_cspm.wait_perf_data,100);return;},go:function(){var chunk=window.document.cookie.split(/\\\\s*;\\\\s*/);for(var i=0;i<chunk.length;++i){var pair=chunk[i].split(/\\\\s*=\\\\s*/);if(pair[0]==\\'f5_cspm\\'&&pair[1]==\\'1234\\')\\n{var d=new Date();d.setTime(d.getTime()-1000);window.document.cookie=\\'f5_cspm=;expires=\\'+d.toUTCString()+\\';path=/;\\';setTimeout(f5_cspm.wait_perf_data,100);}}}}\\nf5_cspm.go();}());</script>'"
      ]
     },
     "execution_count": 3,
     "metadata": {},
     "output_type": "execute_result"
    }
   ],
   "source": [
    "res.content"
   ]
  },
  {
   "cell_type": "markdown",
   "metadata": {},
   "source": [
    "Specify html parser to use, then import beautiful soup to clean up the content, "
   ]
  },
  {
   "cell_type": "code",
   "execution_count": 4,
   "metadata": {},
   "outputs": [
    {
     "name": "stdout",
     "output_type": "stream",
     "text": [
      "Object `bs` not found.\n"
     ]
    }
   ],
   "source": [
    "?bs"
   ]
  },
  {
   "cell_type": "code",
   "execution_count": 5,
   "metadata": {},
   "outputs": [],
   "source": [
    "from bs4 import BeautifulSoup as bs\n",
    "soup = bs(res.content, 'lxml')"
   ]
  },
  {
   "cell_type": "markdown",
   "metadata": {},
   "source": [
    "Now by utilizing beautiful soup, we have a clean version of our soup call as compared to the output of line 8"
   ]
  },
  {
   "cell_type": "code",
   "execution_count": 6,
   "metadata": {},
   "outputs": [
    {
     "data": {
      "text/plain": [
       "<!DOCTYPE HTML>\n",
       "<html lang=\"en\">\n",
       "<head>\n",
       "<title>News | City and County of Denver</title>\n",
       "<link href=\"/etc/designs/denvergov/favicon.ico\" rel=\"shortcut icon\"/>\n",
       "<meta content=\"Your one-stop-shop for the latest news and announcements from the mayor and agencies across the City and County of Denver.\" name=\"description\"/>\n",
       "<meta content=\"\" name=\"keywords\"/>\n",
       "<meta content=\"\" name=\"tags\"/>\n",
       "<meta content=\"8 Aug 2019 08:47:27 EDT\" name=\"modified\"/>\n",
       "<meta content=\"width=device-width, initial-scale=1\" name=\"viewport\"/>\n",
       "<meta content=\"text/html; charset=utf-8\" http-equiv=\"Content-Type\"/>\n",
       "<!--\n",
       "<link href=\"/content/denvergov/en/city-of-denver-home/news\" />\n",
       "<link href=\"false\" />\n",
       "-->\n",
       "<script>\n",
       "    var digitalData = {\n",
       "    \"pageInstanceID\": \"www:/content/denvergov/en/city-of-denver-home/news\",\n",
       "    \"page\": {\"pageInfo\": {\n",
       "        \"author\": \"Chad Menard\",\n",
       "        \"channel\": \"Direct\",\n",
       "        \"publisher\": \"City & County of Denver\",\n",
       "        \"language\": \"en\",\n",
       "        \"pageID\": \"city-of-denver-home|news\",\n",
       "        \"issueDate\": \"2019-08-08T08:47:27.697-04:00\",\n",
       "        \"industryCodes\": \"91990404\",\n",
       "        \"pageName\": \"News\"\n",
       "        }},\n",
       "    \"category\": {\n",
       "        \"subCategory\": \"Content\",\n",
       "        \"pageType\": \"/apps/denvergov/templates/master\",\n",
       "        \"primaryCategory\": \"DenverGov\"\n",
       "        },\n",
       "    \"attributes\": {\"devopsinfo\": {\n",
       "        \"BuildLabel\": \"B-20190924-002\",\n",
       "        \"BuildID\": \"32526\",\n",
       "        \"TeamProject\": \"DenverApps\",\n",
       "        \"Environment\": \"www.denvergov.org\",\n",
       "        \"ReleaseID\": \"6502\",\n",
       "        \"ReleaseLabel\": \"R-20190924-002\",\n",
       "        \"AppName\": \"DenverGov-AEM\"\n",
       "        }}\n",
       "    };\n",
       "</script>\n",
       "<!--\n",
       "<script src=\"/static/denver-data-layer/R-20160719-005/ddl.js\"></script>\n",
       "-->\n",
       "<script src=\"/etc/clientlibs/denvergov/libraries/jquery-1.12.4.min.js\" type=\"text/javascript\"></script>\n",
       "<script src=\"https://www.denvergov.org/denverapps/static/fortawesome/R-20190723-002/js/4d5a8445.js\" type=\"text/javascript\"></script>\n",
       "<!--\n",
       "<script type=\"text/javascript\" src=\"https://www.denvergov.org/static/typekit/20150630.001/tkloader.js\"></script>\n",
       "-->\n",
       "<script type=\"text/javascript\">\n",
       "    (function(d) {\n",
       "        var config = {\n",
       "            kitId: 'hrx2fun',\n",
       "            scriptTimeout: 3000,\n",
       "            async: true\n",
       "        },\n",
       "        h=d.documentElement,t=setTimeout(function(){h.className=h.className.replace(/\\bwf-loading\\b/g,\"\")+\" wf-inactive\";},config.scriptTimeout),tk=d.createElement(\"script\"),f=false,s=d.getElementsByTagName(\"script\")[0],a;h.className+=\" wf-loading\";tk.src='https://use.typekit.net/'+config.kitId+'.js';tk.async=true;tk.onload=tk.onreadystatechange=function(){a=this.readyState;if(f||a&&a!=\"complete\"&&a!=\"loaded\")return;f=true;clearTimeout(t);try{Typekit.load(config)}catch(e){}};s.parentNode.insertBefore(tk,s)\n",
       "    })(document);\n",
       "</script>\n",
       "<script src=\"//assets.adobedtm.com/2bb3c01676dd85d29a8f7449479f4cd85623c62c/satelliteLib-0a7667b8ff908433ea9ace08a09a214876d1689f.js\"></script>\n",
       "<!--siteimprove script-->\n",
       "<script type=\"text/javascript\">\n",
       "    /*<![CDATA[*/\n",
       "    (function() {\n",
       "    var sz = document.createElement('script'); sz.type = 'text/javascript'; sz.async = true;\n",
       "    sz.src = '//siteimproveanalytics.com/js/siteanalyze_1302574.js';\n",
       "    var s = document.getElementsByTagName('script')[0]; s.parentNode.insertBefore(sz, s);\n",
       "    })();\n",
       "    /*]]>*/\n",
       "    </script>\n",
       "<!--end siteimprove script-->\n",
       "<link href=\"//maxcdn.bootstrapcdn.com/font-awesome/4.1.0/css/font-awesome.min.css\" rel=\"stylesheet\"/>\n",
       "<link href=\"/etc/clientlibs/denvergov/core/page.min.css\" rel=\"stylesheet\" type=\"text/css\"/>\n",
       "<link href=\"/etc/clientlibs/denvergov/core/components.min.css\" rel=\"stylesheet\" type=\"text/css\"/>\n",
       "<link href=\"/etc/clientlibs/denvergov/core/design-fixes.min.css\" rel=\"stylesheet\" type=\"text/css\"/>\n",
       "</head>\n",
       "<body>\n",
       "<a class=\"skip-navigation\" href=\"#skip_to_content\" title=\"Skip Navigation\">Skip navigation</a>\n",
       "<header class=\"denver-header denver-no-subnav noindex\">\n",
       "<div id=\"global-header\">\n",
       "<nav class=\"denver-global-nav navbar navbar-inverse\" id=\"nav\" role=\"navigation\">\n",
       "<div class=\"container\">\n",
       "<div class=\"denver-global-nav-controls navbar-right navbar-toggle with-search\">\n",
       "<form action=\"https://www.denvergov.org/Apps4/Identity/Login.aspx?REF=https://www.denvergov.org\" method=\"get\">\n",
       "<button class=\"denver-profile-icon navbar-toggle\" title=\"Sign in or Sign up\" type=\"submit\">\n",
       "<span class=\"sr-only\">Sign in or Sign up</span>\n",
       "<i class=\"fa fa-user fa-2x\"></i>\n",
       "</button>\n",
       "</form>\n",
       "<label class=\"hidden\" for=\"searchForm\">Search</label>\n",
       "<!-- SEARCH COMPONENT START - 1 of 4 places -->\n",
       "<form class=\"denver-nav-search hidden-lg hidden-md hidden-sm hidden-xs\" onsubmit=\"return searchResult('/content/denvergov/en/city-of-denver-home/search-results.html',$(this));\">\n",
       "<input id=\"searchForm\" name=\"q\" placeholder=\"Search\" type=\"text\" value=\"\"/>\n",
       "<i class=\"fa fa-search\" onclick=\"searchResult('/content/denvergov/en/city-of-denver-home/search-results.html',$(this).parent());\"></i>\n",
       "</form>\n",
       "<!-- SEARCH COMPONENT END -->\n",
       "<button class=\"denver-nav-icon navbar-toggle\" data-target=\".dropdown-nav\" data-toggle=\"collapse\" title=\"Toggle navigation\" type=\"button\">\n",
       "<span class=\"sr-only\">Toggle navigation</span>\n",
       "<i class=\"fa fa-navicon fa-2x\"></i>\n",
       "</button>\n",
       "<!-- SEARCH COMPONENT START - 2 of 4 -->\n",
       "<button class=\"denver-search-icon hidden-xl navbar-toggle\" data-target=\".denver-body-search\" data-toggle=\"collapse\" type=\"button\">\n",
       "<span class=\"hidden\">Search</span> <i class=\"fa fa-search fa-2x\"></i>\n",
       "</button>\n",
       "<!-- SEARCH COMPONENT END -->\n",
       "<div class=\"menu-verbiage\" data-target=\".dropdown-nav\" data-toggle=\"collapse\">Menu</div>\n",
       "</div>\n",
       "<!-- Denver navbar logo-->\n",
       "<div class=\"navbar-header\">\n",
       "<div class=\"navbar-brand denver-navbar-brand\">\n",
       "<div class=\"logo\"><a href=\"/content/denvergov/en.html\">\n",
       "<img alt=\"City and County of Denver\" id=\"denverlogo\" src=\"/etc/clientlibs/denvergov/core/assets/images/denverlogo.png\" title=\"City and County of Denver\"/>\n",
       "</a>\n",
       "</div>\n",
       "</div>\n",
       "</div>\n",
       "<!-- Collect the nav links, forms, and other content for toggling -->\n",
       "<div class=\"collapse navbar-collapse dropdown-nav\">\n",
       "<ul class=\"nav navbar-nav denver-navbar-nav\">\n",
       "<li><a href=\"/content/denvergov/en/city-of-denver-home/neighborhood-services.html\">Neighborhood</a></li>\n",
       "<li><a href=\"/content/denvergov/en/city-of-denver-home/business-services.html\">Business</a></li>\n",
       "<li><a href=\"http://www.denver.org/\" target=\"_blank\">Visiting</a></li>\n",
       "<li><a href=\"/content/denvergov/en/city-of-denver-home/government.html\">Government</a></li>\n",
       "<li><a href=\"/content/denvergov/en/city-of-denver-home/online-services-center.html\">Online Services</a></li>\n",
       "<li><a href=\"/content/denvergov/en/city-of-denver-home/directory.html\">Directory</a></li>\n",
       "</ul></div>\n",
       "</div>\n",
       "</nav>\n",
       "<!-- SEARCH COMPONENT START - 3 of 4 -->\n",
       "<form class=\"collapse denver-body-search hidden-xl\" onsubmit=\"return searchResult('/content/denvergov/en/city-of-denver-home/search-results.html',$(this));\">\n",
       "<input id=\"searchForm\" name=\"q\" placeholder=\"Search\" type=\"text\" value=\"\"/>\n",
       "<i class=\"fa fa-search fa-2x\" onclick=\"searchResult('/content/denvergov/en/city-of-denver-home/search-results.html',$(this).parent());\"></i>\n",
       "</form>\n",
       "<!-- SEARCH COMPONENT END -->\n",
       "</div>\n",
       "</header>\n",
       "<!-- SPACER FOR AGENCY NAV & SEARCH STARTS HERE - - - - - - - - - - - - - - - - - - - - - - - - - - -  - - - - - - - - -  -->\n",
       "<div aria-hidden=\"true\" class=\"denver-header-spacer noindex\">\n",
       "<!-- SEARCH COMPONENT START - 4 of 4 -->\n",
       "<form class=\"collapse denver-body-search hidden-md hidden-lg\">\n",
       "<label class=\"hidden\" for=\"small-search2\">Search</label>\n",
       "<input id=\"small-search2\" type=\"search\"/>\n",
       "</form>\n",
       "<!-- SEARCH COMPONENT END -->\n",
       "</div>\n",
       "<!-- SPACER FOR AGENCY NAV & SEARCH  ENDS HERE - - - - - - - - - - - - - - - - - - - - - - - - - - -  - - - - - - - - -  -->\n",
       "<!-- GLOBAL HEADER ENDS HERE - - - - - - - - - - - - - - - - - - - - - - - - - - -  - - - - - - - - -  -->\n",
       "<a id=\"skip_to_content\" name=\"skip_to_content\" tabindex=\"-1\"></a>\n",
       "<section class=\"container denver-content-area-master\">\n",
       "<div class=\"content parsys\"><div class=\"columnControl parsys 67-33 section\">\n",
       "<div class=\"2columns-6733-1\">\n",
       "<div class=\"column parsys right-pad-lrg\"><div class=\"row denver-news-mainrow section\">\n",
       "<div class=\"col-sm-8 denver-news-mainarea\">\n",
       "<h1><b>CITYWIDE NEWS</b></h1>\n",
       "<p class=\"denver-news-results-count\">Results 1 - 6 of 176</p>\n",
       "<!-- start article list -->\n",
       "<div class=\"denver-news-list-item\">\n",
       "<p class=\"denver-news-list-date\">Feb 20, 2020</p>\n",
       "<h3><a href=\"/content/denvergov/en/mayors-office/newsroom/2020/mayor-and-superintendent-announce-new-community-microgrants-part.html\">Mayor and Superintendent announce new community microgrants partnership to help end youth violence</a></h3>\n",
       "<p>Mayor Michael B. Hancock and Denver Public Schools (DPS) Superintendent Susana Cordova today announced the city will be matching the district’s $100,000 commitment – for a total of $200,000 – in new microgrant funding to engage community partners in the effort to help end youth violence in Denver.</p>\n",
       "<div style=\"clear:both;\"></div>\n",
       "</div>\n",
       "<div class=\"denver-news-list-item\">\n",
       "<p class=\"denver-news-list-date\">Feb 20, 2020</p>\n",
       "<h3><a href=\"/content/denvergov/en/denver-city-council/news/2020/week-of-february-24--2020-meeting-schedule-and-agendas.html\">Week of February 24, 2020 Meeting Schedule and Agendas</a></h3>\n",
       "<div style=\"clear:both;\"></div>\n",
       "</div>\n",
       "<div class=\"denver-news-list-item\">\n",
       "<p class=\"denver-news-list-date\">Feb 19, 2020</p>\n",
       "<h3><a href=\"/content/denvergov/en/contract-administration/current-bidding-opportunities/2020/contract-202053453.html\">Contract 202053453 2020 Citywide Chip Seal and Crack Seal</a></h3>\n",
       "<p>Cape Seal and Crack Seal in various locations throughout the City and County of Denver. Approximately 120 lane miles of mostly local streets to be treated with chip/cape seal resurfacing and crack seal for other selected streets.</p>\n",
       "<div style=\"clear:both;\"></div>\n",
       "</div>\n",
       "<div class=\"denver-news-list-item\">\n",
       "<p class=\"denver-news-list-date\">Feb 19, 2020</p>\n",
       "<h3><a href=\"/content/denvergov/en/mayors-office/newsroom/2020/mayor-hancock-names-grace-rink-to-head-denver-s-first-climate-ag.html\">Mayor Hancock names Grace Rink to head Denver’s first Climate Agency</a></h3>\n",
       "<p>Mayor Michael B. Hancock today announced his appointment of Grace Rink, a leader in the sustainability field with nearly two decades of experience working on climate issues, as Denver’s first Executive Director of the new Office of Climate Action, Sustainability and Resiliency.</p>\n",
       "<div style=\"clear:both;\"></div>\n",
       "</div>\n",
       "<div class=\"denver-news-list-item\">\n",
       "<p class=\"denver-news-list-date\">Feb 19, 2020</p>\n",
       "<h3><a href=\"/content/denvergov/en/environmental-health/news/newsroom_2020/save-the-food-tasting-celebration.html\">Denver Department of Public Health &amp; Environment and Partners Host Tasting Event Featuring Food Most of Us Throw Away  </a></h3>\n",
       "<p>The Denver Department of Public Health &amp; Environment (DDPHE), the Natural Resources Defense Council (NRDC) and Slow Food Denver will partner with Broadway Market restaurants tomorrow, Feb. 20, from 5-8 p.m. to showcase a tasting menu using frequently wasted ingredients.</p>\n",
       "<div style=\"clear:both;\"></div>\n",
       "</div>\n",
       "<div class=\"denver-news-list-item\">\n",
       "<p class=\"denver-news-list-date\">Feb 18, 2020</p>\n",
       "<h3><a href=\"/content/denvergov/en/human-rights-and-community-partnerships/news-events/2019/changes-to-denver-anti-discrimination-ordinance-.html\">Changes Made to Denver's Anti-Discrimination Ordinance </a></h3>\n",
       "<div style=\"clear:both;\"></div>\n",
       "</div>\n",
       "<!-- end article list, start pagination links -->\n",
       "<div class=\"denver-news-pagination\">\n",
       "<ul class=\"pagination pagination-lg\">\n",
       "<li class=\"disabled\">\n",
       "<a href=\"/content/denvergov/en/city-of-denver-home/news.html?page=0\">«</a>\n",
       "</li>\n",
       "<li class=\"active\"><a href=\"/content/denvergov/en/city-of-denver-home/news.html?page=1\">1</a></li>\n",
       "<li><a href=\"/content/denvergov/en/city-of-denver-home/news.html?page=2\">2</a></li>\n",
       "<li><a href=\"/content/denvergov/en/city-of-denver-home/news.html?page=3\">3</a></li>\n",
       "<li><a href=\"/content/denvergov/en/city-of-denver-home/news.html?page=4\">4</a></li>\n",
       "<li><a href=\"/content/denvergov/en/city-of-denver-home/news.html?page=5\">5</a></li>\n",
       "<li><a href=\"/content/denvergov/en/city-of-denver-home/news.html?page=6\">6</a></li>\n",
       "<li><a href=\"/content/denvergov/en/city-of-denver-home/news.html?page=7\">7</a></li>\n",
       "<li><a href=\"/content/denvergov/en/city-of-denver-home/news.html?page=8\">8</a></li>\n",
       "<li><a href=\"/content/denvergov/en/city-of-denver-home/news.html?page=9\">9</a></li>\n",
       "<li><a href=\"/content/denvergov/en/city-of-denver-home/news.html?page=10\">10</a></li>\n",
       "<li class=\"\">\n",
       "<a href=\"/content/denvergov/en/city-of-denver-home/news.html?page=2\">»</a>\n",
       "</li>\n",
       "</ul>\n",
       "</div>\n",
       "</div>\n",
       "<div class=\"col-sm-4 denver-news-sidebar\">\n",
       "<div class=\"denver-news-archive-area\">\n",
       "<p class=\"denver-news-archive-links\">\n",
       "</p>\n",
       "</div>\n",
       "</div>\n",
       "</div>\n",
       "</div>\n",
       "\n",
       "        \n",
       "      </div>\n",
       "<div class=\"2columns-6733-2\">\n",
       "<div class=\"column parsys\"><div class=\"rawtext section\">\n",
       "<p></p><div class=\"google-translate\"><div class=\"translate-text\"><strong>Translate This Page</strong></div><div id=\"google_translate_element\"></div><script type=\"text/javascript\">\n",
       "function googleTranslateElementInit() {\n",
       "  new google.translate.TranslateElement({pageLanguage: 'en', layout: google.translate.TranslateElement.FloatPosition.TOP_LEFT}, 'google_translate_element');\n",
       "}\n",
       "\n",
       "\n",
       "</script><script src=\"//translate.google.com/translate_a/element.js?cb=googleTranslateElementInit\" type=\"text/javascript\"></script><p></p></div>\n",
       "<style>\n",
       ".google-translate {clear:both;overflow:hidden;margin-bottom:20px;}\n",
       ".goog-te-gadget {position:relative;top:-4px;}\n",
       ".goog-te-gadget select {margin-left: 6px!important;}\n",
       ".goog-te-gadget > div {display:block!important;}\n",
       ".goog-te-gadget span a {font-size:0!important;}\n",
       ".goog-te-gadget img {width: auto; display: inherit;position: relative;top: -2px;}\n",
       "\n",
       "#google_translate_element {float:left;}\n",
       ".translate-text {float:left;margin-right:8px;position:relative;}\n",
       "\n",
       "</style>\n",
       "</div>\n",
       "<div class=\"rawtext section\">\n",
       "<p></p><div id=\"fb-root\"></div>\n",
       "<script>(function(d, s, id) {\n",
       "  var js, fjs = d.getElementsByTagName(s)[0];\n",
       "  if (d.getElementById(id)) return;\n",
       "  js = d.createElement(s); js.id = id;\n",
       "  js.src = \"//connect.facebook.net/en_US/sdk.js#xfbml=1&version=v2.4\";\n",
       "  fjs.parentNode.insertBefore(js, fjs);\n",
       "}(document, 'script', 'facebook-jssdk'));</script>\n",
       "<p></p><p></p><div class=\"fb-page\" data-adapt-container-width=\"true\" data-height=\"800\" data-hide-cover=\"false\" data-href=\"https://www.facebook.com/CityandCountyofDenver\" data-show-facepile=\"false\" data-small-header=\"false\" data-tabs=\"timeline\"><div class=\"fb-xfbml-parse-ignore\"><blockquote cite=\"https://www.facebook.com/CityandCountyofDenver\"><a href=\"https://www.facebook.com/CityandCountyofDenver\">City and County of Denver</a></blockquote></div></div>\n",
       "</div>\n",
       "</div>\n",
       "\n",
       "        \n",
       "      </div>\n",
       "<div style=\"clear: both;\"></div>\n",
       "</div>\n",
       "</div>\n",
       "</section>\n",
       "<footer class=\"denver-footer noindex\" role=\"contentinfo\">\n",
       "<div class=\"footer parbase\">\n",
       "<div class=\"container social-bar\">\n",
       "<div class=\"col-xs-6 col-sm-9 social-bar\">\n",
       "<ul class=\"social-icons center-block\">\n",
       "<li>\n",
       "<a alt=\"Facebook\" class=\"facebook\" href=\"http://www.facebook.com/CityandCountyofDenver\" target=\"_blank\" title=\"Facebook\">\n",
       "<i aria-label=\"Facebook\" class=\"fa fa-facebook\">\n",
       "</i>\n",
       "</a>\n",
       "</li>\n",
       "<li>\n",
       "<a alt=\"Youtube\" class=\"youtube\" href=\"https://www.youtube.com/CityandCountyDenver\" target=\"_blank\" title=\"Youtube\">\n",
       "<i aria-label=\"Youtube\" class=\"fa fa-youtube\">\n",
       "</i>\n",
       "</a>\n",
       "</li>\n",
       "<li>\n",
       "<a alt=\"Flickr\" class=\"flickr\" href=\"https://www.flickr.com/photos/80202894@N07/\" target=\"_blank\" title=\"Flickr\">\n",
       "<i aria-label=\"Flickr\" class=\"fa fa-flickr\">\n",
       "</i>\n",
       "</a>\n",
       "</li>\n",
       "<li>\n",
       "<a alt=\"Twitter\" class=\"twitter\" href=\"https://twitter.com/cityofdenver\" target=\"_blank\" title=\"Twitter\">\n",
       "<i aria-label=\"Twitter\" class=\"fa fa-twitter\">\n",
       "</i>\n",
       "</a>\n",
       "</li>\n",
       "<li>\n",
       "<a alt=\"Instagram\" class=\"instagram\" href=\"https://www.instagram.com/therealcityofdenver/\" target=\"_blank\" title=\"Instagram\">\n",
       "<i aria-label=\"Instagram\" class=\"fa fa-instagram\">\n",
       "</i>\n",
       "</a>\n",
       "</li>\n",
       "</ul>\n",
       "</div>\n",
       "<div class=\"col-xs-6 col-sm-3 text-center pocketgov\">\n",
       "<a href=\"https://www.denvergov.org/pocketgov\">\n",
       "<span class=\"pocketgov-logo center-block\">\n",
       "<span class=\"pocketgov-name\">\n",
       "                    pocketgov \n",
       "                </span>\n",
       "<span class=\"pocketgov-denver\">\n",
       "                    denver\n",
       "                </span>\n",
       "</span>\n",
       "</a>\n",
       "</div>\n",
       "</div>\n",
       "<div class=\"footer-copy text-center\">\n",
       "<div class=\"container\">\n",
       "<div class=\"row\">\n",
       "<article class=\"col-xs-4 col-sm-4 col-md-4 text-center footer-content\">\n",
       "<a href=\"/content/denvergov/en/city-of-denver-home/online-services-center.html\" title=\"ONLINE SERVICES\">\n",
       "<h5><img alt=\"ONLINE SERVICES\" class=\"appImgIcon\" src=\"/content/dam/denvergov/Portals/footer/apps.png\"/>ONLINE SERVICES</h5>\n",
       "</a>\n",
       "</article>\n",
       "<article class=\"col-xs-4 col-sm-4 col-md-4 text-center footer-content\">\n",
       "<a href=\"https://www.denvergov.org/opendata\" title=\"OPEN DATA\">\n",
       "<h5><img alt=\"OPEN DATA\" class=\"appImgIcon\" src=\"/content/dam/denvergov/Portals/footer/database.png\"/>OPEN DATA</h5>\n",
       "</a>\n",
       "</article>\n",
       "<article class=\"col-xs-4 col-sm-4 col-md-4 text-center footer-content\">\n",
       "<a href=\"/content/denvergov/en/city-of-denver-home/directory.html\" title=\"DIRECTORY\">\n",
       "<h5><img alt=\"DIRECTORY\" class=\"appImgIcon\" src=\"/content/dam/denvergov/Portals/footer/atoz.png\"/>DIRECTORY</h5>\n",
       "</a>\n",
       "</article>\n",
       "</div>\n",
       "<div class=\"row\">\n",
       "<div class=\"footer-copyright\">\n",
       "<p>\n",
       "                    © Copyright 2020 City and County of Denver\n",
       "                    \n",
       "                        \n",
       "                            | <a href=\"https://www.denvergov.org/jobs\">Jobs</a>\n",
       "                        \n",
       "                    \n",
       "                        \n",
       "                            | <a href=\"/content/denvergov/en/city-of-denver-home/terms-of-use.html\">Terms of Use</a>\n",
       "                        \n",
       "                    \n",
       "                        \n",
       "                            | <a href=\"/content/denvergov/en/city-of-denver-home/privacy-policy.html\">Privacy &amp; Security Policy</a>\n",
       "                        \n",
       "                    \n",
       "                        \n",
       "                            | <a href=\"/content/denvergov/en/city-of-denver-home/cora.html\">Open Records Policy (CORA)</a>\n",
       "                        \n",
       "                    \n",
       "                        \n",
       "                            | <a href=\"/content/denvergov/en/city-of-denver-home/accessibility.html\">Accessibility</a>\n",
       "</p>\n",
       "</div>\n",
       "</div>\n",
       "</div>\n",
       "</div>\n",
       "</div>\n",
       "</footer>\n",
       "<script src=\"/etc.clientlibs/clientlibs/granite/jquery-ui.min.js\" type=\"text/javascript\"></script>\n",
       "<script src=\"/etc/clientlibs/denvergov/libraries.min.js\" type=\"text/javascript\"></script>\n",
       "<script src=\"/etc/clientlibs/denvergov/core/components.min.js\" type=\"text/javascript\"></script>\n",
       "<!-- search Form -->\n",
       "<script>\n",
       "    function searchResult(searchURL, obj){\n",
       "        window.location.href = searchURL + \"?\" + $.param({ q : obj.find('input').val() });\n",
       "        return false;\n",
       "    }\n",
       "\n",
       "    $(document).ready(function() {\n",
       "       $('input[type=search], input[type=text]').placeholder();\n",
       "    });\n",
       "</script>\n",
       "<!-- UserVoice -->\n",
       "<script>\n",
       "        // Include the UserVoice JavaScript SDK (only needed once on a page)\n",
       "        UserVoice=window.UserVoice||[];(function(){var uv=document.createElement('script');uv.type='text/javascript';uv.async=true;uv.src='//widget.uservoice.com/Ecizix29h1gCnEsBrCfFuw.js';var s=document.getElementsByTagName('script')[0];s.parentNode.insertBefore(uv,s)})();\n",
       "\n",
       "        //\n",
       "        // UserVoice Javascript SDK developer documentation:\n",
       "        // https://www.uservoice.com/o/javascript-sdk\n",
       "        //\n",
       "\n",
       "        // Set colors\n",
       "        UserVoice.push(['set', {\n",
       "            accent_color: '#005596',\n",
       "            trigger_color: 'white',\n",
       "            trigger_background_color: '#005596'\n",
       "        }]);\n",
       "\n",
       "        // Identify the user and pass traits\n",
       "        // To enable, replace sample data with actual user traits and uncomment the line\n",
       "        UserVoice.push(['identify', {\n",
       "            //email:      'john.doe@example.com', // Userâs email address\n",
       "            //name:       'John Doe', // Userâs real name\n",
       "            //created_at: 1364406966, // Unix timestamp for the date the user signed up\n",
       "            //id:         123, // Optional: Unique id of the user (if set, this should not change)\n",
       "            //type:       'Owner', // Optional: segment your users by type\n",
       "            //account: {\n",
       "            //  id:           123, // Optional: associate multiple users with a single account\n",
       "            //  name:         'Acme, Co.', // Account name\n",
       "            //  created_at:   1364406966, // Unix timestamp for the date the account was created\n",
       "            //  monthly_rate: 9.99, // Decimal; monthly rate of the account\n",
       "            //  ltv:          1495.00, // Decimal; lifetime value of the account\n",
       "            //  plan:         'Enhanced' // Plan name for the account\n",
       "            //}\n",
       "        }]);\n",
       "\n",
       "        // Add default trigger to the bottom-right corner of the window:\n",
       "        UserVoice.push(['addTrigger', {mode: 'satisfaction', trigger_position: 'bottom-right' }]);\n",
       "\n",
       "        // Or, use your own custom trigger:\n",
       "        //UserVoice.push(['addTrigger', '#id', { mode: 'satisfaction' }]);\n",
       "\n",
       "        // Autoprompt for Satisfaction and SmartVote (only displayed under certain conditions)\n",
       "        UserVoice.push(['autoprompt', {}]);\n",
       "    </script>\n",
       "<!-- Analytics -->\n",
       "<script type=\"text/javascript\">_satellite.pageBottom();</script>\n",
       "<div class=\"cloudservices servicecomponents\"><div class=\"cloudservice generictracker\">\n",
       "<script type=\"text/javascript\">\n",
       "    (function(i,s,o,g,r,a,m){i['GoogleAnalyticsObject']=r;i[r]=i[r]||function(){\n",
       "  (i[r].q=i[r].q||[]).push(arguments)},i[r].l=1*new Date();a=s.createElement(o),\n",
       "  m=s.getElementsByTagName(o)[0];a.async=1;a.src=g;m.parentNode.insertBefore(a,m)\n",
       "  })(window,document,'script','//www.google-analytics.com/analytics.js','ga');\n",
       "\n",
       "  ga('create', 'UA-1920922-11', 'auto');\n",
       "  ga('send', 'pageview');\n",
       "    </script>\n",
       "</div>\n",
       "</div>\n",
       "</body>\n",
       "</html>"
      ]
     },
     "execution_count": 6,
     "metadata": {},
     "output_type": "execute_result"
    }
   ],
   "source": [
    "soup"
   ]
  },
  {
   "cell_type": "markdown",
   "metadata": {},
   "source": [
    "Now we will move on to using the soup variable to obtain data from the website...  Navigating back to the Denver News website, we can right click on any of the links and click inspect.  This will allow us to view the html tags and code for the news articles.  Specifically we are looking for the date along with the associate title. Xpaths can be brittle and change frequently; so for this exercise we will be looking for <div class \"Denver-list-item\"> \n",
    "\n",
    "This is accomplished by utilizing the soup object, div being our first argument, and our second argument being a dictionary telling the class to be denver news list item\n"
   ]
  },
  {
   "cell_type": "code",
   "execution_count": 7,
   "metadata": {},
   "outputs": [],
   "source": [
    "divs = soup.find_all('div', {'class': 'denver-news-list-item'})"
   ]
  },
  {
   "cell_type": "code",
   "execution_count": 8,
   "metadata": {},
   "outputs": [
    {
     "data": {
      "text/plain": [
       "<div class=\"denver-news-list-item\">\n",
       "<p class=\"denver-news-list-date\">Feb 20, 2020</p>\n",
       "<h3><a href=\"/content/denvergov/en/mayors-office/newsroom/2020/mayor-and-superintendent-announce-new-community-microgrants-part.html\">Mayor and Superintendent announce new community microgrants partnership to help end youth violence</a></h3>\n",
       "<p>Mayor Michael B. Hancock and Denver Public Schools (DPS) Superintendent Susana Cordova today announced the city will be matching the district’s $100,000 commitment – for a total of $200,000 – in new microgrant funding to engage community partners in the effort to help end youth violence in Denver.</p>\n",
       "<div style=\"clear:both;\"></div>\n",
       "</div>"
      ]
     },
     "execution_count": 8,
     "metadata": {},
     "output_type": "execute_result"
    }
   ],
   "source": [
    "divs[0]"
   ]
  },
  {
   "cell_type": "markdown",
   "metadata": {},
   "source": [
    "Getting the numeber of articles on this page: "
   ]
  },
  {
   "cell_type": "code",
   "execution_count": 9,
   "metadata": {},
   "outputs": [
    {
     "data": {
      "text/plain": [
       "6"
      ]
     },
     "execution_count": 9,
     "metadata": {},
     "output_type": "execute_result"
    }
   ],
   "source": [
    "len(divs)"
   ]
  },
  {
   "cell_type": "markdown",
   "metadata": {},
   "source": [
    "We can see that these are beautiful soup tag objects, as shown below "
   ]
  },
  {
   "cell_type": "code",
   "execution_count": 10,
   "metadata": {},
   "outputs": [
    {
     "data": {
      "text/plain": [
       "bs4.element.Tag"
      ]
     },
     "execution_count": 10,
     "metadata": {},
     "output_type": "execute_result"
    }
   ],
   "source": [
    "type(divs[0])"
   ]
  },
  {
   "cell_type": "markdown",
   "metadata": {},
   "source": [
    "With this we can view the text inside of it"
   ]
  },
  {
   "cell_type": "code",
   "execution_count": 11,
   "metadata": {},
   "outputs": [
    {
     "data": {
      "text/plain": [
       "'\\nFeb 20, 2020\\nMayor and Superintendent announce new community microgrants partnership to help end youth violence\\nMayor Michael B. Hancock and Denver Public Schools (DPS) Superintendent Susana Cordova today announced the city will be matching the district’s $100,000 commitment – for a total of $200,000 – in new microgrant funding to engage community partners in the effort to help end youth violence in Denver.\\n\\n'"
      ]
     },
     "execution_count": 11,
     "metadata": {},
     "output_type": "execute_result"
    }
   ],
   "source": [
    "divs[0].text"
   ]
  },
  {
   "cell_type": "markdown",
   "metadata": {},
   "source": [
    "We can get certain components as shown below: "
   ]
  },
  {
   "cell_type": "code",
   "execution_count": 13,
   "metadata": {},
   "outputs": [],
   "source": [
    "divs[0].get('href')"
   ]
  },
  {
   "cell_type": "markdown",
   "metadata": {},
   "source": [
    "Looking at the element below we can see the date is noted in the second paragrahp tag with a class showing us dates.   A clean layout which is not typical of most websites "
   ]
  },
  {
   "cell_type": "code",
   "execution_count": 14,
   "metadata": {},
   "outputs": [
    {
     "data": {
      "text/plain": [
       "<div class=\"denver-news-list-item\">\n",
       "<p class=\"denver-news-list-date\">Feb 20, 2020</p>\n",
       "<h3><a href=\"/content/denvergov/en/mayors-office/newsroom/2020/mayor-and-superintendent-announce-new-community-microgrants-part.html\">Mayor and Superintendent announce new community microgrants partnership to help end youth violence</a></h3>\n",
       "<p>Mayor Michael B. Hancock and Denver Public Schools (DPS) Superintendent Susana Cordova today announced the city will be matching the district’s $100,000 commitment – for a total of $200,000 – in new microgrant funding to engage community partners in the effort to help end youth violence in Denver.</p>\n",
       "<div style=\"clear:both;\"></div>\n",
       "</div>"
      ]
     },
     "execution_count": 14,
     "metadata": {},
     "output_type": "execute_result"
    }
   ],
   "source": [
    "divs[0]"
   ]
  },
  {
   "cell_type": "code",
   "execution_count": 15,
   "metadata": {},
   "outputs": [
    {
     "data": {
      "text/plain": [
       "<p class=\"denver-news-list-date\">Feb 20, 2020</p>"
      ]
     },
     "execution_count": 15,
     "metadata": {},
     "output_type": "execute_result"
    }
   ],
   "source": [
    "divs[0].find('p', {'class': 'denver-news-list-date'})"
   ]
  },
  {
   "cell_type": "code",
   "execution_count": 16,
   "metadata": {},
   "outputs": [],
   "source": [
    "import pandas as pd"
   ]
  },
  {
   "cell_type": "code",
   "execution_count": 17,
   "metadata": {},
   "outputs": [
    {
     "data": {
      "text/plain": [
       "Timestamp('2020-02-20 00:00:00')"
      ]
     },
     "execution_count": 17,
     "metadata": {},
     "output_type": "execute_result"
    }
   ],
   "source": [
    "pd.to_datetime(divs[0].find('p', {'class': 'denver-news-list-date'}).text)"
   ]
  },
  {
   "cell_type": "code",
   "execution_count": 18,
   "metadata": {},
   "outputs": [],
   "source": [
    "BASE_URL = 'https://www.denvergov.org'"
   ]
  },
  {
   "cell_type": "code",
   "execution_count": 19,
   "metadata": {},
   "outputs": [
    {
     "data": {
      "text/plain": [
       "<a href=\"/content/denvergov/en/mayors-office/newsroom/2020/mayor-and-superintendent-announce-new-community-microgrants-part.html\">Mayor and Superintendent announce new community microgrants partnership to help end youth violence</a>"
      ]
     },
     "execution_count": 19,
     "metadata": {},
     "output_type": "execute_result"
    }
   ],
   "source": [
    "divs[0].find('a')"
   ]
  },
  {
   "cell_type": "code",
   "execution_count": 20,
   "metadata": {},
   "outputs": [
    {
     "data": {
      "text/plain": [
       "'Mayor and Superintendent announce new community microgrants partnership to help end youth violence'"
      ]
     },
     "execution_count": 20,
     "metadata": {},
     "output_type": "execute_result"
    }
   ],
   "source": [
    "divs[0].find('a').text #giving us the title "
   ]
  },
  {
   "cell_type": "code",
   "execution_count": 21,
   "metadata": {},
   "outputs": [
    {
     "data": {
      "text/plain": [
       "'/content/denvergov/en/mayors-office/newsroom/2020/mayor-and-superintendent-announce-new-community-microgrants-part.html'"
      ]
     },
     "execution_count": 21,
     "metadata": {},
     "output_type": "execute_result"
    }
   ],
   "source": [
    "divs[0].find('a').get('href')"
   ]
  },
  {
   "cell_type": "code",
   "execution_count": 22,
   "metadata": {},
   "outputs": [
    {
     "data": {
      "text/plain": [
       "'https://www.denvergov.org/content/denvergov/en/mayors-office/newsroom/2020/mayor-and-superintendent-announce-new-community-microgrants-part.html'"
      ]
     },
     "execution_count": 22,
     "metadata": {},
     "output_type": "execute_result"
    }
   ],
   "source": [
    "BASE_URL + divs[0].find('a').get('href')"
   ]
  },
  {
   "cell_type": "markdown",
   "metadata": {},
   "source": [
    "Now we have all the different elements of the web page, so now we just need to loop through each of the divs "
   ]
  },
  {
   "cell_type": "code",
   "execution_count": 23,
   "metadata": {},
   "outputs": [],
   "source": [
    "for d in divs:\n",
    "    #get date \n",
    "    date = pd.to_datetime(d.find('p', {'class': 'denver-news-list-date'}).text)\n",
    "    #get link\n",
    "    link = d.find('a')\n",
    "    #get href component \n",
    "    href = BASE_URL + link.get('href')\n",
    "    #get title \n",
    "    title = link.text"
   ]
  },
  {
   "cell_type": "code",
   "execution_count": 24,
   "metadata": {},
   "outputs": [
    {
     "data": {
      "text/plain": [
       "\"Changes Made to Denver's Anti-Discrimination Ordinance \""
      ]
     },
     "execution_count": 24,
     "metadata": {},
     "output_type": "execute_result"
    }
   ],
   "source": [
    "title"
   ]
  },
  {
   "cell_type": "code",
   "execution_count": 25,
   "metadata": {},
   "outputs": [
    {
     "data": {
      "text/plain": [
       "Timestamp('2020-02-18 00:00:00')"
      ]
     },
     "execution_count": 25,
     "metadata": {},
     "output_type": "execute_result"
    }
   ],
   "source": [
    "date"
   ]
  },
  {
   "cell_type": "code",
   "execution_count": 26,
   "metadata": {},
   "outputs": [
    {
     "data": {
      "text/plain": [
       "'https://www.denvergov.org/content/denvergov/en/human-rights-and-community-partnerships/news-events/2019/changes-to-denver-anti-discrimination-ordinance-.html'"
      ]
     },
     "execution_count": 26,
     "metadata": {},
     "output_type": "execute_result"
    }
   ],
   "source": [
    "href"
   ]
  },
  {
   "cell_type": "markdown",
   "metadata": {},
   "source": [
    "The next thing to address is the number of pages, the url will change with the page number. So what we want to do is loop through all the pages, and this is accomplished by utilizing the curly brackets to incorporate all pages as shown below.  The call will fill in the curly brackets.  Format(2) identifies the page that we want.  Below we get a nice view of the url pattern. "
   ]
  },
  {
   "cell_type": "code",
   "execution_count": 27,
   "metadata": {},
   "outputs": [
    {
     "name": "stdout",
     "output_type": "stream",
     "text": [
      "https://www.denvergov.org/content/denvergov/en/city-of-denver-home/news.html?page=2\n",
      "https://www.denvergov.org/content/denvergov/en/city-of-denver-home/news.html?page=2\n",
      "https://www.denvergov.org/content/denvergov/en/city-of-denver-home/news.html?page=2\n",
      "https://www.denvergov.org/content/denvergov/en/city-of-denver-home/news.html?page=2\n",
      "https://www.denvergov.org/content/denvergov/en/city-of-denver-home/news.html?page=2\n",
      "https://www.denvergov.org/content/denvergov/en/city-of-denver-home/news.html?page=2\n",
      "https://www.denvergov.org/content/denvergov/en/city-of-denver-home/news.html?page=2\n",
      "https://www.denvergov.org/content/denvergov/en/city-of-denver-home/news.html?page=2\n",
      "https://www.denvergov.org/content/denvergov/en/city-of-denver-home/news.html?page=2\n"
     ]
    }
   ],
   "source": [
    "for i in range(1,10):\n",
    "    print('https://www.denvergov.org/content/denvergov/en/city-of-denver-home/news.html?page={}'.format(2))"
   ]
  },
  {
   "cell_type": "markdown",
   "metadata": {},
   "source": [
    "The last step is to find the last page, you can refernce the results x of x number.  We can accomplish this by setting the page in the url to a large one, 100 works for this example.  In my results p 29 was the last one. So we can rerun the loop with the updated parameters: "
   ]
  },
  {
   "cell_type": "code",
   "execution_count": 106,
   "metadata": {},
   "outputs": [
    {
     "data": {
      "text/plain": [
       "[1,\n",
       " 2,\n",
       " 3,\n",
       " 4,\n",
       " 5,\n",
       " 6,\n",
       " 7,\n",
       " 8,\n",
       " 9,\n",
       " 10,\n",
       " 11,\n",
       " 12,\n",
       " 13,\n",
       " 14,\n",
       " 15,\n",
       " 16,\n",
       " 17,\n",
       " 18,\n",
       " 19,\n",
       " 20,\n",
       " 21,\n",
       " 22,\n",
       " 23,\n",
       " 24,\n",
       " 25,\n",
       " 26,\n",
       " 27,\n",
       " 28]"
      ]
     },
     "execution_count": 106,
     "metadata": {},
     "output_type": "execute_result"
    }
   ],
   "source": [
    "list(range(1,29)) #note it only goes from 1:28"
   ]
  },
  {
   "cell_type": "code",
   "execution_count": 107,
   "metadata": {},
   "outputs": [
    {
     "name": "stdout",
     "output_type": "stream",
     "text": [
      "https://www.denvergov.org/content/denvergov/en/city-of-denver-home/news.html?page=1\n",
      "https://www.denvergov.org/content/denvergov/en/city-of-denver-home/news.html?page=2\n",
      "https://www.denvergov.org/content/denvergov/en/city-of-denver-home/news.html?page=3\n",
      "https://www.denvergov.org/content/denvergov/en/city-of-denver-home/news.html?page=4\n",
      "https://www.denvergov.org/content/denvergov/en/city-of-denver-home/news.html?page=5\n",
      "https://www.denvergov.org/content/denvergov/en/city-of-denver-home/news.html?page=6\n",
      "https://www.denvergov.org/content/denvergov/en/city-of-denver-home/news.html?page=7\n",
      "https://www.denvergov.org/content/denvergov/en/city-of-denver-home/news.html?page=8\n",
      "https://www.denvergov.org/content/denvergov/en/city-of-denver-home/news.html?page=9\n",
      "https://www.denvergov.org/content/denvergov/en/city-of-denver-home/news.html?page=10\n",
      "https://www.denvergov.org/content/denvergov/en/city-of-denver-home/news.html?page=11\n",
      "https://www.denvergov.org/content/denvergov/en/city-of-denver-home/news.html?page=12\n",
      "https://www.denvergov.org/content/denvergov/en/city-of-denver-home/news.html?page=13\n",
      "https://www.denvergov.org/content/denvergov/en/city-of-denver-home/news.html?page=14\n",
      "https://www.denvergov.org/content/denvergov/en/city-of-denver-home/news.html?page=15\n",
      "https://www.denvergov.org/content/denvergov/en/city-of-denver-home/news.html?page=16\n",
      "https://www.denvergov.org/content/denvergov/en/city-of-denver-home/news.html?page=17\n",
      "https://www.denvergov.org/content/denvergov/en/city-of-denver-home/news.html?page=18\n",
      "https://www.denvergov.org/content/denvergov/en/city-of-denver-home/news.html?page=19\n",
      "https://www.denvergov.org/content/denvergov/en/city-of-denver-home/news.html?page=20\n",
      "https://www.denvergov.org/content/denvergov/en/city-of-denver-home/news.html?page=21\n",
      "https://www.denvergov.org/content/denvergov/en/city-of-denver-home/news.html?page=22\n",
      "https://www.denvergov.org/content/denvergov/en/city-of-denver-home/news.html?page=23\n",
      "https://www.denvergov.org/content/denvergov/en/city-of-denver-home/news.html?page=24\n",
      "https://www.denvergov.org/content/denvergov/en/city-of-denver-home/news.html?page=25\n",
      "https://www.denvergov.org/content/denvergov/en/city-of-denver-home/news.html?page=26\n",
      "https://www.denvergov.org/content/denvergov/en/city-of-denver-home/news.html?page=27\n",
      "https://www.denvergov.org/content/denvergov/en/city-of-denver-home/news.html?page=28\n",
      "https://www.denvergov.org/content/denvergov/en/city-of-denver-home/news.html?page=29\n"
     ]
    }
   ],
   "source": [
    "#to get to page 29 set range from 1:30, giving us all pages from the website\n",
    "for i in range(1,30):\n",
    "    print('https://www.denvergov.org/content/denvergov/en/city-of-denver-home/news.html?page={}'.format(i))"
   ]
  },
  {
   "cell_type": "markdown",
   "metadata": {},
   "source": [
    "Now we can combine all the elements into one consise loop as shown below: "
   ]
  },
  {
   "cell_type": "code",
   "execution_count": 108,
   "metadata": {},
   "outputs": [],
   "source": [
    "for i in range(1,30):\n",
    "    url = ('https://www.denvergov.org/content/denvergov/en/city-of-denver-home/news.html?page={}'.format(i))\n",
    "    res = req.get(url)"
   ]
  },
  {
   "cell_type": "code",
   "execution_count": 109,
   "metadata": {},
   "outputs": [
    {
     "data": {
      "application/vnd.jupyter.widget-view+json": {
       "model_id": "645edea83ac941b79151d56a10993c63",
       "version_major": 2,
       "version_minor": 0
      },
      "text/plain": [
       "HBox(children=(IntProgress(value=0, max=29), HTML(value='')))"
      ]
     },
     "metadata": {},
     "output_type": "display_data"
    }
   ],
   "source": [
    "from pymongo import MongoClient\n",
    "from tqdm import tqdm_notebook #getting a status bar\n",
    "\n",
    "PAGE_URL = 'https://www.denvergov.org/content/denvergov/en/city-of-denver-home/news.html?page={}'\n",
    "\n",
    "#Store in MongoDB\n",
    "client = MongoClient()\n",
    "#create db \n",
    "db = client['news']\n",
    "#set up collection\n",
    "coll = db['denver']\n",
    "\n",
    "for page in tqdm_notebook(range(1,30)):\n",
    "    if page==3:\n",
    "        break\n",
    "    url = PAGE_URL.format(page)\n",
    "    res = req.get(url)\n",
    "    soup = bs(res.content)\n",
    "    divs = soup.find_all('div', {'class': 'denver-news-list-item'})\n",
    "    \n",
    "    for d in divs: \n",
    "        date = pd.to_datetime(d.find('p', {'class': 'denver-news-list-date'}).text)\n",
    "        link = d.find('a')\n",
    "        href = BASE_URL + link.get('href')\n",
    "        title = link.text\n",
    "        \n",
    "        #giving keys and values using dictionary\n",
    "        coll.insert_one({'date': date,\n",
    "                        'link': href,\n",
    "                        'title': title})\n",
    "        \n",
    "#Close connection MogoDb\n",
    "client.close()"
   ]
  },
  {
   "cell_type": "code",
   "execution_count": 110,
   "metadata": {},
   "outputs": [
    {
     "data": {
      "application/vnd.jupyter.widget-view+json": {
       "model_id": "c880385b1a2d4cd5952cb12d55ae88af",
       "version_major": 2,
       "version_minor": 0
      },
      "text/plain": [
       "HBox(children=(IntProgress(value=0, max=29), HTML(value='')))"
      ]
     },
     "metadata": {},
     "output_type": "display_data"
    },
    {
     "ename": "ValueError",
     "evalue": "NaTType does not support utcoffset",
     "output_type": "error",
     "traceback": [
      "\u001b[1;31m---------------------------------------------------------------------------\u001b[0m",
      "\u001b[1;31mValueError\u001b[0m                                Traceback (most recent call last)",
      "\u001b[1;32m<ipython-input-110-84a1b6fa701f>\u001b[0m in \u001b[0;36m<module>\u001b[1;34m()\u001b[0m\n\u001b[0;32m     28\u001b[0m         coll.insert_one({'date': date,\n\u001b[0;32m     29\u001b[0m                         \u001b[1;34m'link'\u001b[0m\u001b[1;33m:\u001b[0m \u001b[0mhref\u001b[0m\u001b[1;33m,\u001b[0m\u001b[1;33m\u001b[0m\u001b[0m\n\u001b[1;32m---> 30\u001b[1;33m                         'title': title})\n\u001b[0m\u001b[0;32m     31\u001b[0m \u001b[1;33m\u001b[0m\u001b[0m\n\u001b[0;32m     32\u001b[0m \u001b[1;31m#Close connection MogoDb\u001b[0m\u001b[1;33m\u001b[0m\u001b[1;33m\u001b[0m\u001b[0m\n",
      "\u001b[1;32m~\\Anaconda3.5\\lib\\site-packages\\pymongo\\collection.py\u001b[0m in \u001b[0;36minsert_one\u001b[1;34m(self, document, bypass_document_validation, session)\u001b[0m\n\u001b[0;32m    696\u001b[0m                          \u001b[0mwrite_concern\u001b[0m\u001b[1;33m=\u001b[0m\u001b[0mwrite_concern\u001b[0m\u001b[1;33m,\u001b[0m\u001b[1;33m\u001b[0m\u001b[0m\n\u001b[0;32m    697\u001b[0m                          \u001b[0mbypass_doc_val\u001b[0m\u001b[1;33m=\u001b[0m\u001b[0mbypass_document_validation\u001b[0m\u001b[1;33m,\u001b[0m\u001b[1;33m\u001b[0m\u001b[0m\n\u001b[1;32m--> 698\u001b[1;33m                          session=session),\n\u001b[0m\u001b[0;32m    699\u001b[0m             write_concern.acknowledged)\n\u001b[0;32m    700\u001b[0m \u001b[1;33m\u001b[0m\u001b[0m\n",
      "\u001b[1;32m~\\Anaconda3.5\\lib\\site-packages\\pymongo\\collection.py\u001b[0m in \u001b[0;36m_insert\u001b[1;34m(self, docs, ordered, check_keys, manipulate, write_concern, op_id, bypass_doc_val, session)\u001b[0m\n\u001b[0;32m    610\u001b[0m             return self._insert_one(\n\u001b[0;32m    611\u001b[0m                 \u001b[0mdocs\u001b[0m\u001b[1;33m,\u001b[0m \u001b[0mordered\u001b[0m\u001b[1;33m,\u001b[0m \u001b[0mcheck_keys\u001b[0m\u001b[1;33m,\u001b[0m \u001b[0mmanipulate\u001b[0m\u001b[1;33m,\u001b[0m \u001b[0mwrite_concern\u001b[0m\u001b[1;33m,\u001b[0m \u001b[0mop_id\u001b[0m\u001b[1;33m,\u001b[0m\u001b[1;33m\u001b[0m\u001b[0m\n\u001b[1;32m--> 612\u001b[1;33m                 bypass_doc_val, session)\n\u001b[0m\u001b[0;32m    613\u001b[0m \u001b[1;33m\u001b[0m\u001b[0m\n\u001b[0;32m    614\u001b[0m         \u001b[0mids\u001b[0m \u001b[1;33m=\u001b[0m \u001b[1;33m[\u001b[0m\u001b[1;33m]\u001b[0m\u001b[1;33m\u001b[0m\u001b[0m\n",
      "\u001b[1;32m~\\Anaconda3.5\\lib\\site-packages\\pymongo\\collection.py\u001b[0m in \u001b[0;36m_insert_one\u001b[1;34m(self, doc, ordered, check_keys, manipulate, write_concern, op_id, bypass_doc_val, session)\u001b[0m\n\u001b[0;32m    598\u001b[0m \u001b[1;33m\u001b[0m\u001b[0m\n\u001b[0;32m    599\u001b[0m         self.__database.client._retryable_write(\n\u001b[1;32m--> 600\u001b[1;33m             acknowledged, _insert_command, session)\n\u001b[0m\u001b[0;32m    601\u001b[0m \u001b[1;33m\u001b[0m\u001b[0m\n\u001b[0;32m    602\u001b[0m         \u001b[1;32mif\u001b[0m \u001b[1;32mnot\u001b[0m \u001b[0misinstance\u001b[0m\u001b[1;33m(\u001b[0m\u001b[0mdoc\u001b[0m\u001b[1;33m,\u001b[0m \u001b[0mRawBSONDocument\u001b[0m\u001b[1;33m)\u001b[0m\u001b[1;33m:\u001b[0m\u001b[1;33m\u001b[0m\u001b[0m\n",
      "\u001b[1;32m~\\Anaconda3.5\\lib\\site-packages\\pymongo\\mongo_client.py\u001b[0m in \u001b[0;36m_retryable_write\u001b[1;34m(self, retryable, func, session)\u001b[0m\n\u001b[0;32m   1490\u001b[0m         \u001b[1;34m\"\"\"Internal retryable write helper.\"\"\"\u001b[0m\u001b[1;33m\u001b[0m\u001b[0m\n\u001b[0;32m   1491\u001b[0m         \u001b[1;32mwith\u001b[0m \u001b[0mself\u001b[0m\u001b[1;33m.\u001b[0m\u001b[0m_tmp_session\u001b[0m\u001b[1;33m(\u001b[0m\u001b[0msession\u001b[0m\u001b[1;33m)\u001b[0m \u001b[1;32mas\u001b[0m \u001b[0ms\u001b[0m\u001b[1;33m:\u001b[0m\u001b[1;33m\u001b[0m\u001b[0m\n\u001b[1;32m-> 1492\u001b[1;33m             \u001b[1;32mreturn\u001b[0m \u001b[0mself\u001b[0m\u001b[1;33m.\u001b[0m\u001b[0m_retry_with_session\u001b[0m\u001b[1;33m(\u001b[0m\u001b[0mretryable\u001b[0m\u001b[1;33m,\u001b[0m \u001b[0mfunc\u001b[0m\u001b[1;33m,\u001b[0m \u001b[0ms\u001b[0m\u001b[1;33m,\u001b[0m \u001b[1;32mNone\u001b[0m\u001b[1;33m)\u001b[0m\u001b[1;33m\u001b[0m\u001b[0m\n\u001b[0m\u001b[0;32m   1493\u001b[0m \u001b[1;33m\u001b[0m\u001b[0m\n\u001b[0;32m   1494\u001b[0m     \u001b[1;32mdef\u001b[0m \u001b[0m_reset_server\u001b[0m\u001b[1;33m(\u001b[0m\u001b[0mself\u001b[0m\u001b[1;33m,\u001b[0m \u001b[0maddress\u001b[0m\u001b[1;33m)\u001b[0m\u001b[1;33m:\u001b[0m\u001b[1;33m\u001b[0m\u001b[0m\n",
      "\u001b[1;32m~\\Anaconda3.5\\lib\\site-packages\\pymongo\\mongo_client.py\u001b[0m in \u001b[0;36m_retry_with_session\u001b[1;34m(self, retryable, func, session, bulk)\u001b[0m\n\u001b[0;32m   1383\u001b[0m                             \u001b[1;32mraise\u001b[0m \u001b[0mlast_error\u001b[0m\u001b[1;33m\u001b[0m\u001b[0m\n\u001b[0;32m   1384\u001b[0m                         \u001b[0mretryable\u001b[0m \u001b[1;33m=\u001b[0m \u001b[1;32mFalse\u001b[0m\u001b[1;33m\u001b[0m\u001b[0m\n\u001b[1;32m-> 1385\u001b[1;33m                     \u001b[1;32mreturn\u001b[0m \u001b[0mfunc\u001b[0m\u001b[1;33m(\u001b[0m\u001b[0msession\u001b[0m\u001b[1;33m,\u001b[0m \u001b[0msock_info\u001b[0m\u001b[1;33m,\u001b[0m \u001b[0mretryable\u001b[0m\u001b[1;33m)\u001b[0m\u001b[1;33m\u001b[0m\u001b[0m\n\u001b[0m\u001b[0;32m   1386\u001b[0m             \u001b[1;32mexcept\u001b[0m \u001b[0mServerSelectionTimeoutError\u001b[0m\u001b[1;33m:\u001b[0m\u001b[1;33m\u001b[0m\u001b[0m\n\u001b[0;32m   1387\u001b[0m                 \u001b[1;32mif\u001b[0m \u001b[0mis_retrying\u001b[0m\u001b[1;33m(\u001b[0m\u001b[1;33m)\u001b[0m\u001b[1;33m:\u001b[0m\u001b[1;33m\u001b[0m\u001b[0m\n",
      "\u001b[1;32m~\\Anaconda3.5\\lib\\site-packages\\pymongo\\collection.py\u001b[0m in \u001b[0;36m_insert_command\u001b[1;34m(session, sock_info, retryable_write)\u001b[0m\n\u001b[0;32m    593\u001b[0m                 \u001b[0msession\u001b[0m\u001b[1;33m=\u001b[0m\u001b[0msession\u001b[0m\u001b[1;33m,\u001b[0m\u001b[1;33m\u001b[0m\u001b[0m\n\u001b[0;32m    594\u001b[0m                 \u001b[0mclient\u001b[0m\u001b[1;33m=\u001b[0m\u001b[0mself\u001b[0m\u001b[1;33m.\u001b[0m\u001b[0m__database\u001b[0m\u001b[1;33m.\u001b[0m\u001b[0mclient\u001b[0m\u001b[1;33m,\u001b[0m\u001b[1;33m\u001b[0m\u001b[0m\n\u001b[1;32m--> 595\u001b[1;33m                 retryable_write=retryable_write)\n\u001b[0m\u001b[0;32m    596\u001b[0m \u001b[1;33m\u001b[0m\u001b[0m\n\u001b[0;32m    597\u001b[0m             \u001b[0m_check_write_command_response\u001b[0m\u001b[1;33m(\u001b[0m\u001b[0mresult\u001b[0m\u001b[1;33m)\u001b[0m\u001b[1;33m\u001b[0m\u001b[0m\n",
      "\u001b[1;32m~\\Anaconda3.5\\lib\\site-packages\\pymongo\\pool.py\u001b[0m in \u001b[0;36mcommand\u001b[1;34m(self, dbname, spec, slave_ok, read_preference, codec_options, check, allowable_errors, check_keys, read_concern, write_concern, parse_write_concern_error, collation, session, client, retryable_write, publish_events, user_fields)\u001b[0m\n\u001b[0;32m    616\u001b[0m         \u001b[1;31m# Catch socket.error, KeyboardInterrupt, etc. and close ourselves.\u001b[0m\u001b[1;33m\u001b[0m\u001b[1;33m\u001b[0m\u001b[0m\n\u001b[0;32m    617\u001b[0m         \u001b[1;32mexcept\u001b[0m \u001b[0mBaseException\u001b[0m \u001b[1;32mas\u001b[0m \u001b[0merror\u001b[0m\u001b[1;33m:\u001b[0m\u001b[1;33m\u001b[0m\u001b[0m\n\u001b[1;32m--> 618\u001b[1;33m             \u001b[0mself\u001b[0m\u001b[1;33m.\u001b[0m\u001b[0m_raise_connection_failure\u001b[0m\u001b[1;33m(\u001b[0m\u001b[0merror\u001b[0m\u001b[1;33m)\u001b[0m\u001b[1;33m\u001b[0m\u001b[0m\n\u001b[0m\u001b[0;32m    619\u001b[0m \u001b[1;33m\u001b[0m\u001b[0m\n\u001b[0;32m    620\u001b[0m     \u001b[1;32mdef\u001b[0m \u001b[0msend_message\u001b[0m\u001b[1;33m(\u001b[0m\u001b[0mself\u001b[0m\u001b[1;33m,\u001b[0m \u001b[0mmessage\u001b[0m\u001b[1;33m,\u001b[0m \u001b[0mmax_doc_size\u001b[0m\u001b[1;33m)\u001b[0m\u001b[1;33m:\u001b[0m\u001b[1;33m\u001b[0m\u001b[0m\n",
      "\u001b[1;32m~\\Anaconda3.5\\lib\\site-packages\\pymongo\\pool.py\u001b[0m in \u001b[0;36mcommand\u001b[1;34m(self, dbname, spec, slave_ok, read_preference, codec_options, check, allowable_errors, check_keys, read_concern, write_concern, parse_write_concern_error, collation, session, client, retryable_write, publish_events, user_fields)\u001b[0m\n\u001b[0;32m    611\u001b[0m                            \u001b[0muse_op_msg\u001b[0m\u001b[1;33m=\u001b[0m\u001b[0mself\u001b[0m\u001b[1;33m.\u001b[0m\u001b[0mop_msg_enabled\u001b[0m\u001b[1;33m,\u001b[0m\u001b[1;33m\u001b[0m\u001b[0m\n\u001b[0;32m    612\u001b[0m                            \u001b[0munacknowledged\u001b[0m\u001b[1;33m=\u001b[0m\u001b[0munacknowledged\u001b[0m\u001b[1;33m,\u001b[0m\u001b[1;33m\u001b[0m\u001b[0m\n\u001b[1;32m--> 613\u001b[1;33m                            user_fields=user_fields)\n\u001b[0m\u001b[0;32m    614\u001b[0m         \u001b[1;32mexcept\u001b[0m \u001b[0mOperationFailure\u001b[0m\u001b[1;33m:\u001b[0m\u001b[1;33m\u001b[0m\u001b[0m\n\u001b[0;32m    615\u001b[0m             \u001b[1;32mraise\u001b[0m\u001b[1;33m\u001b[0m\u001b[0m\n",
      "\u001b[1;32m~\\Anaconda3.5\\lib\\site-packages\\pymongo\\network.py\u001b[0m in \u001b[0;36mcommand\u001b[1;34m(sock, dbname, spec, slave_ok, is_mongos, read_preference, codec_options, session, client, check, allowable_errors, address, check_keys, listeners, max_bson_size, read_concern, parse_write_concern_error, collation, compression_ctx, use_op_msg, unacknowledged, user_fields)\u001b[0m\n\u001b[0;32m    127\u001b[0m         request_id, msg, size, max_doc_size = message._op_msg(\n\u001b[0;32m    128\u001b[0m             \u001b[0mflags\u001b[0m\u001b[1;33m,\u001b[0m \u001b[0mspec\u001b[0m\u001b[1;33m,\u001b[0m \u001b[0mdbname\u001b[0m\u001b[1;33m,\u001b[0m \u001b[0mread_preference\u001b[0m\u001b[1;33m,\u001b[0m \u001b[0mslave_ok\u001b[0m\u001b[1;33m,\u001b[0m \u001b[0mcheck_keys\u001b[0m\u001b[1;33m,\u001b[0m\u001b[1;33m\u001b[0m\u001b[0m\n\u001b[1;32m--> 129\u001b[1;33m             codec_options, ctx=compression_ctx)\n\u001b[0m\u001b[0;32m    130\u001b[0m         \u001b[1;31m# If this is an unacknowledged write then make sure the encoded doc(s)\u001b[0m\u001b[1;33m\u001b[0m\u001b[1;33m\u001b[0m\u001b[0m\n\u001b[0;32m    131\u001b[0m         \u001b[1;31m# are small enough, otherwise rely on the server to return an error.\u001b[0m\u001b[1;33m\u001b[0m\u001b[1;33m\u001b[0m\u001b[0m\n",
      "\u001b[1;32m~\\Anaconda3.5\\lib\\site-packages\\pymongo\\message.py\u001b[0m in \u001b[0;36m_op_msg\u001b[1;34m(flags, command, dbname, read_preference, slave_ok, check_keys, opts, ctx)\u001b[0m\n\u001b[0;32m    702\u001b[0m                 flags, command, identifier, docs, check_keys, opts, ctx)\n\u001b[0;32m    703\u001b[0m         return _op_msg_uncompressed(\n\u001b[1;32m--> 704\u001b[1;33m             flags, command, identifier, docs, check_keys, opts)\n\u001b[0m\u001b[0;32m    705\u001b[0m     \u001b[1;32mfinally\u001b[0m\u001b[1;33m:\u001b[0m\u001b[1;33m\u001b[0m\u001b[0m\n\u001b[0;32m    706\u001b[0m         \u001b[1;31m# Add the field back to the command.\u001b[0m\u001b[1;33m\u001b[0m\u001b[1;33m\u001b[0m\u001b[0m\n",
      "\u001b[1;32mpandas\\_libs\\tslibs\\nattype.pyx\u001b[0m in \u001b[0;36mpandas._libs.tslibs.nattype._make_error_func.f\u001b[1;34m()\u001b[0m\n",
      "\u001b[1;31mValueError\u001b[0m: NaTType does not support utcoffset"
     ]
    }
   ],
   "source": [
    "from pymongo import MongoClient\n",
    "from tqdm import tqdm_notebook #getting a status bar\n",
    "\n",
    "PAGE_URL = 'https://www.denvergov.org/content/denvergov/en/city-of-denver-home/news.html?page={}'\n",
    "\n",
    "#Store in MongoDB\n",
    "client = MongoClient()\n",
    "#create db \n",
    "db = client['news']\n",
    "#set up collection\n",
    "coll = db['denver']\n",
    "\n",
    "for page in tqdm_notebook(range(1,30)):\n",
    "    #if page==3:\n",
    "      #  break\n",
    "    url = PAGE_URL.format(page)\n",
    "    res = req.get(url)\n",
    "    soup = bs(res.content)\n",
    "    divs = soup.find_all('div', {'class': 'denver-news-list-item'})\n",
    "    \n",
    "    for d in divs: \n",
    "        date = pd.to_datetime(d.find('p', {'class': 'denver-news-list-date'}).text)\n",
    "        link = d.find('a')\n",
    "        href = BASE_URL + link.get('href')\n",
    "        title = link.text\n",
    "        \n",
    "        #giving keys and values using dictionary\n",
    "        coll.insert_one({'date': date,\n",
    "                        'link': href,\n",
    "                        'title': title})\n",
    "        \n",
    "#Close connection MogoDb\n",
    "client.close()"
   ]
  },
  {
   "cell_type": "code",
   "execution_count": 111,
   "metadata": {},
   "outputs": [
    {
     "name": "stdout",
     "output_type": "stream",
     "text": [
      "{'_id': ObjectId('5e529b34734666673dc8aa03'),\n",
      " 'date': datetime.datetime(2020, 2, 20, 0, 0),\n",
      " 'link': 'https://www.denvergov.org/content/denvergov/en/mayors-office/newsroom/2020/mayor-and-superintendent-announce-new-community-microgrants-part.html',\n",
      " 'title': 'Mayor and Superintendent announce new community microgrants '\n",
      "          'partnership to help end youth violence'}\n"
     ]
    }
   ],
   "source": [
    "from pprint import pprint \n",
    "\n",
    "client = MongoClient()\n",
    "db = client['news']\n",
    "coll = db['denver']\n",
    "\n",
    "pprint(coll.find_one())"
   ]
  },
  {
   "cell_type": "markdown",
   "metadata": {},
   "source": [
    "For my web scraping deliverable I decided that I would scrape the colorado news at https://www.colorado.gov/news"
   ]
  },
  {
   "cell_type": "code",
   "execution_count": 28,
   "metadata": {},
   "outputs": [],
   "source": [
    "res2 = req.get('https://www.colorado.gov/news')"
   ]
  },
  {
   "cell_type": "code",
   "execution_count": 29,
   "metadata": {},
   "outputs": [
    {
     "data": {
      "text/plain": [
       "b'<!DOCTYPE html>\\n  <!--[if IEMobile 7]><html class=\"no-js ie iem7\" lang=\"en\" dir=\"ltr\"><![endif]-->\\n  <!--[if lte IE 6]><html class=\"no-js ie lt-ie9 lt-ie8 lt-ie7\" lang=\"en\" dir=\"ltr\"><![endif]-->\\n  <!--[if (IE 7)&(!IEMobile)]><html class=\"no-js ie lt-ie9 lt-ie8\" lang=\"en\" dir=\"ltr\"><![endif]-->\\n  <!--[if IE 8]><html class=\"no-js ie lt-ie9\" lang=\"en\" dir=\"ltr\"><![endif]-->\\n  <!--[if (gte IE 9)|(gt IEMobile 7)]><html class=\"no-js ie\" lang=\"en\" dir=\"ltr\" prefix=\"content: http://purl.org/rss/1.0/modules/content/ dc: http://purl.org/dc/terms/ foaf: http://xmlns.com/foaf/0.1/ og: http://ogp.me/ns# rdfs: http://www.w3.org/2000/01/rdf-schema# sioc: http://rdfs.org/sioc/ns# sioct: http://rdfs.org/sioc/types# skos: http://www.w3.org/2004/02/skos/core# xsd: http://www.w3.org/2001/XMLSchema#\"><![endif]-->\\n  <!--[if !IE]><!--><html class=\"no-js\" lang=\"en\" dir=\"ltr\" prefix=\"content: http://purl.org/rss/1.0/modules/content/ dc: http://purl.org/dc/terms/ foaf: http://xmlns.com/foaf/0.1/ og: http://ogp.me/ns# rdfs: http://www.w3.org/2000/01/rdf-schema# sioc: http://rdfs.org/sioc/ns# sioct: http://rdfs.org/sioc/types# skos: http://www.w3.org/2004/02/skos/core# xsd: http://www.w3.org/2001/XMLSchema#\"><!--<![endif]-->\\n<head>\\n  <meta charset=\"utf-8\" /><script type=\"text/javascript\">(window.NREUM||(NREUM={})).loader_config={xpid:\"XQ4BUVJRGwoAXFRRAQk=\",licenseKey:\"b4a288a9ff\",applicationID:\"9085368\"};window.NREUM||(NREUM={}),__nr_require=function(t,n,e){function r(e){if(!n[e]){var o=n[e]={exports:{}};t[e][0].call(o.exports,function(n){var o=t[e][1][n];return r(o||n)},o,o.exports)}return n[e].exports}if(\"function\"==typeof __nr_require)return __nr_require;for(var o=0;o<e.length;o++)r(e[o]);return r}({1:[function(t,n,e){function r(t){try{s.console&&console.log(t)}catch(n){}}var o,i=t(\"ee\"),a=t(21),s={};try{o=localStorage.getItem(\"__nr_flags\").split(\",\"),console&&\"function\"==typeof console.log&&(s.console=!0,o.indexOf(\"dev\")!==-1&&(s.dev=!0),o.indexOf(\"nr_dev\")!==-1&&(s.nrDev=!0))}catch(c){}s.nrDev&&i.on(\"internal-error\",function(t){r(t.stack)}),s.dev&&i.on(\"fn-err\",function(t,n,e){r(e.stack)}),s.dev&&(r(\"NR AGENT IN DEVELOPMENT MODE\"),r(\"flags: \"+a(s,function(t,n){return t}).join(\", \")))},{}],2:[function(t,n,e){function r(t,n,e,r,s){try{p?p-=1:o(s||new UncaughtException(t,n,e),!0)}catch(f){try{i(\"ierr\",[f,c.now(),!0])}catch(d){}}return\"function\"==typeof u&&u.apply(this,a(arguments))}function UncaughtException(t,n,e){this.message=t||\"Uncaught error with no additional information\",this.sourceURL=n,this.line=e}function o(t,n){var e=n?null:c.now();i(\"err\",[t,e])}var i=t(\"handle\"),a=t(22),s=t(\"ee\"),c=t(\"loader\"),f=t(\"gos\"),u=window.onerror,d=!1,l=\"nr@seenError\",p=0;c.features.err=!0,t(1),window.onerror=r;try{throw new Error}catch(h){\"stack\"in h&&(t(9),t(8),\"addEventListener\"in window&&t(5),c.xhrWrappable&&t(10),d=!0)}s.on(\"fn-start\",function(t,n,e){d&&(p+=1)}),s.on(\"fn-err\",function(t,n,e){d&&!e[l]&&(f(e,l,function(){return!0}),this.thrown=!0,o(e))}),s.on(\"fn-end\",function(){d&&!this.thrown&&p>0&&(p-=1)}),s.on(\"internal-error\",function(t){i(\"ierr\",[t,c.now(),!0])})},{}],3:[function(t,n,e){t(\"loader\").features.ins=!0},{}],4:[function(t,n,e){function r(t){}if(window.performance&&window.performance.timing&&window.performance.getEntriesByType){var o=t(\"ee\"),i=t(\"handle\"),a=t(9),s=t(8),c=\"learResourceTimings\",f=\"addEventListener\",u=\"resourcetimingbufferfull\",d=\"bstResource\",l=\"resource\",p=\"-start\",h=\"-end\",m=\"fn\"+p,w=\"fn\"+h,v=\"bstTimer\",g=\"pushState\",y=t(\"loader\");y.features.stn=!0,t(7),\"addEventListener\"in window&&t(5);var x=NREUM.o.EV;o.on(m,function(t,n){var e=t[0];e instanceof x&&(this.bstStart=y.now())}),o.on(w,function(t,n){var e=t[0];e instanceof x&&i(\"bst\",[e,n,this.bstStart,y.now()])}),a.on(m,function(t,n,e){this.bstStart=y.now(),this.bstType=e}),a.on(w,function(t,n){i(v,[n,this.bstStart,y.now(),this.bstType])}),s.on(m,function(){this.bstStart=y.now()}),s.on(w,function(t,n){i(v,[n,this.bstStart,y.now(),\"requestAnimationFrame\"])}),o.on(g+p,function(t){this.time=y.now(),this.startPath=location.pathname+location.hash}),o.on(g+h,function(t){i(\"bstHist\",[location.pathname+location.hash,this.startPath,this.time])}),f in window.performance&&(window.performance[\"c\"+c]?window.performance[f](u,function(t){i(d,[window.performance.getEntriesByType(l)]),window.performance[\"c\"+c]()},!1):window.performance[f](\"webkit\"+u,function(t){i(d,[window.performance.getEntriesByType(l)]),window.performance[\"webkitC\"+c]()},!1)),document[f](\"scroll\",r,{passive:!0}),document[f](\"keypress\",r,!1),document[f](\"click\",r,!1)}},{}],5:[function(t,n,e){function r(t){for(var n=t;n&&!n.hasOwnProperty(u);)n=Object.getPrototypeOf(n);n&&o(n)}function o(t){s.inPlace(t,[u,d],\"-\",i)}function i(t,n){return t[1]}var a=t(\"ee\").get(\"events\"),s=t(\"wrap-function\")(a,!0),c=t(\"gos\"),f=XMLHttpRequest,u=\"addEventListener\",d=\"removeEventListener\";n.exports=a,\"getPrototypeOf\"in Object?(r(document),r(window),r(f.prototype)):f.prototype.hasOwnProperty(u)&&(o(window),o(f.prototype)),a.on(u+\"-start\",function(t,n){var e=t[1],r=c(e,\"nr@wrapped\",function(){function t(){if(\"function\"==typeof e.handleEvent)return e.handleEvent.apply(e,arguments)}var n={object:t,\"function\":e}[typeof e];return n?s(n,\"fn-\",null,n.name||\"anonymous\"):e});this.wrapped=t[1]=r}),a.on(d+\"-start\",function(t){t[1]=this.wrapped||t[1]})},{}],6:[function(t,n,e){function r(t,n,e){var r=t[n];\"function\"==typeof r&&(t[n]=function(){var t=i(arguments),n={};o.emit(e+\"before-start\",[t],n);var a;n[m]&&n[m].dt&&(a=n[m].dt);var s=r.apply(this,t);return o.emit(e+\"start\",[t,a],s),s.then(function(t){return o.emit(e+\"end\",[null,t],s),t},function(t){throw o.emit(e+\"end\",[t],s),t})})}var o=t(\"ee\").get(\"fetch\"),i=t(22),a=t(21);n.exports=o;var s=window,c=\"fetch-\",f=c+\"body-\",u=[\"arrayBuffer\",\"blob\",\"json\",\"text\",\"formData\"],d=s.Request,l=s.Response,p=s.fetch,h=\"prototype\",m=\"nr@context\";d&&l&&p&&(a(u,function(t,n){r(d[h],n,f),r(l[h],n,f)}),r(s,\"fetch\",c),o.on(c+\"end\",function(t,n){var e=this;if(n){var r=n.headers.get(\"content-length\");null!==r&&(e.rxSize=r),o.emit(c+\"done\",[null,n],e)}else o.emit(c+\"done\",[t],e)}))},{}],7:[function(t,n,e){var r=t(\"ee\").get(\"history\"),o=t(\"wrap-function\")(r);n.exports=r;var i=window.history&&window.history.constructor&&window.history.constructor.prototype,a=window.history;i&&i.pushState&&i.replaceState&&(a=i),o.inPlace(a,[\"pushState\",\"replaceState\"],\"-\")},{}],8:[function(t,n,e){var r=t(\"ee\").get(\"raf\"),o=t(\"wrap-function\")(r),i=\"equestAnimationFrame\";n.exports=r,o.inPlace(window,[\"r\"+i,\"mozR\"+i,\"webkitR\"+i,\"msR\"+i],\"raf-\"),r.on(\"raf-start\",function(t){t[0]=o(t[0],\"fn-\")})},{}],9:[function(t,n,e){function r(t,n,e){t[0]=a(t[0],\"fn-\",null,e)}function o(t,n,e){this.method=e,this.timerDuration=isNaN(t[1])?0:+t[1],t[0]=a(t[0],\"fn-\",this,e)}var i=t(\"ee\").get(\"timer\"),a=t(\"wrap-function\")(i),s=\"setTimeout\",c=\"setInterval\",f=\"clearTimeout\",u=\"-start\",d=\"-\";n.exports=i,a.inPlace(window,[s,\"setImmediate\"],s+d),a.inPlace(window,[c],c+d),a.inPlace(window,[f,\"clearImmediate\"],f+d),i.on(c+u,r),i.on(s+u,o)},{}],10:[function(t,n,e){function r(t,n){d.inPlace(n,[\"onreadystatechange\"],\"fn-\",s)}function o(){var t=this,n=u.context(t);t.readyState>3&&!n.resolved&&(n.resolved=!0,u.emit(\"xhr-resolved\",[],t)),d.inPlace(t,g,\"fn-\",s)}function i(t){y.push(t),h&&(b?b.then(a):w?w(a):(E=-E,O.data=E))}function a(){for(var t=0;t<y.length;t++)r([],y[t]);y.length&&(y=[])}function s(t,n){return n}function c(t,n){for(var e in t)n[e]=t[e];return n}t(5);var f=t(\"ee\"),u=f.get(\"xhr\"),d=t(\"wrap-function\")(u),l=NREUM.o,p=l.XHR,h=l.MO,m=l.PR,w=l.SI,v=\"readystatechange\",g=[\"onload\",\"onerror\",\"onabort\",\"onloadstart\",\"onloadend\",\"onprogress\",\"ontimeout\"],y=[];n.exports=u;var x=window.XMLHttpRequest=function(t){var n=new p(t);try{u.emit(\"new-xhr\",[n],n),n.addEventListener(v,o,!1)}catch(e){try{u.emit(\"internal-error\",[e])}catch(r){}}return n};if(c(p,x),x.prototype=p.prototype,d.inPlace(x.prototype,[\"open\",\"send\"],\"-xhr-\",s),u.on(\"send-xhr-start\",function(t,n){r(t,n),i(n)}),u.on(\"open-xhr-start\",r),h){var b=m&&m.resolve();if(!w&&!m){var E=1,O=document.createTextNode(E);new h(a).observe(O,{characterData:!0})}}else f.on(\"fn-end\",function(t){t[0]&&t[0].type===v||a()})},{}],11:[function(t,n,e){function r(t){if(!i(t))return null;var n=window.NREUM;if(!n.loader_config)return null;var e=(n.loader_config.accountID||\"\").toString()||null,r=(n.loader_config.agentID||\"\").toString()||null,s=(n.loader_config.trustKey||\"\").toString()||null;if(!e||!r)return null;var c=a.generateCatId(),f=a.generateCatId(),u=Date.now(),d=o(c,f,u,e,r,s);return{header:d,guid:c,traceId:f,timestamp:u}}function o(t,n,e,r,o,i){var a=\"btoa\"in window&&\"function\"==typeof window.btoa;if(!a)return null;var s={v:[0,1],d:{ty:\"Browser\",ac:r,ap:o,id:t,tr:n,ti:e}};return i&&r!==i&&(s.d.tk=i),btoa(JSON.stringify(s))}function i(t){var n=!1,e=!1,r={};if(\"init\"in NREUM&&\"distributed_tracing\"in NREUM.init&&(r=NREUM.init.distributed_tracing,e=!!r.enabled),e)if(t.sameOrigin)n=!0;else if(r.allowed_origins instanceof Array)for(var o=0;o<r.allowed_origins.length;o++){var i=s(r.allowed_origins[o]);if(t.hostname===i.hostname&&t.protocol===i.protocol&&t.port===i.port){n=!0;break}}return e&&n}var a=t(19),s=t(13);n.exports={generateTracePayload:r,shouldGenerateTrace:i}},{}],12:[function(t,n,e){function r(t){var n=this.params,e=this.metrics;if(!this.ended){this.ended=!0;for(var r=0;r<l;r++)t.removeEventListener(d[r],this.listener,!1);n.aborted||(e.duration=a.now()-this.startTime,this.loadCaptureCalled||4!==t.readyState?null==n.status&&(n.status=0):i(this,t),e.cbTime=this.cbTime,u.emit(\"xhr-done\",[t],t),s(\"xhr\",[n,e,this.startTime]))}}function o(t,n){var e=c(n),r=t.params;r.host=e.hostname+\":\"+e.port,r.pathname=e.pathname,t.parsedOrigin=c(n),t.sameOrigin=t.parsedOrigin.sameOrigin}function i(t,n){t.params.status=n.status;var e=w(n,t.lastSize);if(e&&(t.metrics.rxSize=e),t.sameOrigin){var r=n.getResponseHeader(\"X-NewRelic-App-Data\");r&&(t.params.cat=r.split(\", \").pop())}t.loadCaptureCalled=!0}var a=t(\"loader\");if(a.xhrWrappable){var s=t(\"handle\"),c=t(13),f=t(11).generateTracePayload,u=t(\"ee\"),d=[\"load\",\"error\",\"abort\",\"timeout\"],l=d.length,p=t(\"id\"),h=t(17),m=t(16),w=t(14),v=window.XMLHttpRequest;a.features.xhr=!0,t(10),t(6),u.on(\"new-xhr\",function(t){var n=this;n.totalCbs=0,n.called=0,n.cbTime=0,n.end=r,n.ended=!1,n.xhrGuids={},n.lastSize=null,n.loadCaptureCalled=!1,t.addEventListener(\"load\",function(e){i(n,t)},!1),h&&(h>34||h<10)||window.opera||t.addEventListener(\"progress\",function(t){n.lastSize=t.loaded},!1)}),u.on(\"open-xhr-start\",function(t){this.params={method:t[0]},o(this,t[1]),this.metrics={}}),u.on(\"open-xhr-end\",function(t,n){\"loader_config\"in NREUM&&\"xpid\"in NREUM.loader_config&&this.sameOrigin&&n.setRequestHeader(\"X-NewRelic-ID\",NREUM.loader_config.xpid);var e=f(this.parsedOrigin);e&&e.header&&(n.setRequestHeader(\"newrelic\",e.header),this.dt=e)}),u.on(\"send-xhr-start\",function(t,n){var e=this.metrics,r=t[0],o=this;if(e&&r){var i=m(r);i&&(e.txSize=i)}this.startTime=a.now(),this.listener=function(t){try{\"abort\"!==t.type||o.loadCaptureCalled||(o.params.aborted=!0),(\"load\"!==t.type||o.called===o.totalCbs&&(o.onloadCalled||\"function\"!=typeof n.onload))&&o.end(n)}catch(e){try{u.emit(\"internal-error\",[e])}catch(r){}}};for(var s=0;s<l;s++)n.addEventListener(d[s],this.listener,!1)}),u.on(\"xhr-cb-time\",function(t,n,e){this.cbTime+=t,n?this.onloadCalled=!0:this.called+=1,this.called!==this.totalCbs||!this.onloadCalled&&\"function\"==typeof e.onload||this.end(e)}),u.on(\"xhr-load-added\",function(t,n){var e=\"\"+p(t)+!!n;this.xhrGuids&&!this.xhrGuids[e]&&(this.xhrGuids[e]=!0,this.totalCbs+=1)}),u.on(\"xhr-load-removed\",function(t,n){var e=\"\"+p(t)+!!n;this.xhrGuids&&this.xhrGuids[e]&&(delete this.xhrGuids[e],this.totalCbs-=1)}),u.on(\"addEventListener-end\",function(t,n){n instanceof v&&\"load\"===t[0]&&u.emit(\"xhr-load-added\",[t[1],t[2]],n)}),u.on(\"removeEventListener-end\",function(t,n){n instanceof v&&\"load\"===t[0]&&u.emit(\"xhr-load-removed\",[t[1],t[2]],n)}),u.on(\"fn-start\",function(t,n,e){n instanceof v&&(\"onload\"===e&&(this.onload=!0),(\"load\"===(t[0]&&t[0].type)||this.onload)&&(this.xhrCbStart=a.now()))}),u.on(\"fn-end\",function(t,n){this.xhrCbStart&&u.emit(\"xhr-cb-time\",[a.now()-this.xhrCbStart,this.onload,n],n)}),u.on(\"fetch-before-start\",function(t){var n,e=t[1]||{};\"string\"==typeof t[0]?n=t[0]:t[0]&&t[0].url&&(n=t[0].url),n&&(this.parsedOrigin=c(n),this.sameOrigin=this.parsedOrigin.sameOrigin);var r=f(this.parsedOrigin);if(r&&r.header){var o=r.header;if(\"string\"==typeof t[0]){var i={};for(var a in e)i[a]=e[a];i.headers=new Headers(e.headers||{}),i.headers.set(\"newrelic\",o),this.dt=r,t.length>1?t[1]=i:t.push(i)}else t[0]&&t[0].headers&&(t[0].headers.append(\"newrelic\",o),this.dt=r)}})}},{}],13:[function(t,n,e){var r={};n.exports=function(t){if(t in r)return r[t];var n=document.createElement(\"a\"),e=window.location,o={};n.href=t,o.port=n.port;var i=n.href.split(\"://\");!o.port&&i[1]&&(o.port=i[1].split(\"/\")[0].split(\"@\").pop().split(\":\")[1]),o.port&&\"0\"!==o.port||(o.port=\"https\"===i[0]?\"443\":\"80\"),o.hostname=n.hostname||e.hostname,o.pathname=n.pathname,o.protocol=i[0],\"/\"!==o.pathname.charAt(0)&&(o.pathname=\"/\"+o.pathname);var a=!n.protocol||\":\"===n.protocol||n.protocol===e.protocol,s=n.hostname===document.domain&&n.port===e.port;return o.sameOrigin=a&&(!n.hostname||s),\"/\"===o.pathname&&(r[t]=o),o}},{}],14:[function(t,n,e){function r(t,n){var e=t.responseType;return\"json\"===e&&null!==n?n:\"arraybuffer\"===e||\"blob\"===e||\"json\"===e?o(t.response):\"text\"===e||\"document\"===e||\"\"===e||void 0===e?o(t.responseText):void 0}var o=t(16);n.exports=r},{}],15:[function(t,n,e){function r(){}function o(t,n,e){return function(){return i(t,[f.now()].concat(s(arguments)),n?null:this,e),n?void 0:this}}var i=t(\"handle\"),a=t(21),s=t(22),c=t(\"ee\").get(\"tracer\"),f=t(\"loader\"),u=NREUM;\"undefined\"==typeof window.newrelic&&(newrelic=u);var d=[\"setPageViewName\",\"setCustomAttribute\",\"setErrorHandler\",\"finished\",\"addToTrace\",\"inlineHit\",\"addRelease\"],l=\"api-\",p=l+\"ixn-\";a(d,function(t,n){u[n]=o(l+n,!0,\"api\")}),u.addPageAction=o(l+\"addPageAction\",!0),u.setCurrentRouteName=o(l+\"routeName\",!0),n.exports=newrelic,u.interaction=function(){return(new r).get()};var h=r.prototype={createTracer:function(t,n){var e={},r=this,o=\"function\"==typeof n;return i(p+\"tracer\",[f.now(),t,e],r),function(){if(c.emit((o?\"\":\"no-\")+\"fn-start\",[f.now(),r,o],e),o)try{return n.apply(this,arguments)}catch(t){throw c.emit(\"fn-err\",[arguments,this,t],e),t}finally{c.emit(\"fn-end\",[f.now()],e)}}}};a(\"actionText,setName,setAttribute,save,ignore,onEnd,getContext,end,get\".split(\",\"),function(t,n){h[n]=o(p+n)}),newrelic.noticeError=function(t,n){\"string\"==typeof t&&(t=new Error(t)),i(\"err\",[t,f.now(),!1,n])}},{}],16:[function(t,n,e){n.exports=function(t){if(\"string\"==typeof t&&t.length)return t.length;if(\"object\"==typeof t){if(\"undefined\"!=typeof ArrayBuffer&&t instanceof ArrayBuffer&&t.byteLength)return t.byteLength;if(\"undefined\"!=typeof Blob&&t instanceof Blob&&t.size)return t.size;if(!(\"undefined\"!=typeof FormData&&t instanceof FormData))try{return JSON.stringify(t).length}catch(n){return}}}},{}],17:[function(t,n,e){var r=0,o=navigator.userAgent.match(/Firefox[\\\\/\\\\s](\\\\d+\\\\.\\\\d+)/);o&&(r=+o[1]),n.exports=r},{}],18:[function(t,n,e){function r(t,n){var e=t.getEntries();e.forEach(function(t){\"first-paint\"===t.name?c(\"timing\",[\"fp\",Math.floor(t.startTime)]):\"first-contentful-paint\"===t.name&&c(\"timing\",[\"fcp\",Math.floor(t.startTime)])})}function o(t,n){var e=t.getEntries();e.length>0&&c(\"lcp\",[e[e.length-1]])}function i(t){if(t instanceof u&&!l){var n,e=Math.round(t.timeStamp);n=e>1e12?Date.now()-e:f.now()-e,l=!0,c(\"timing\",[\"fi\",e,{type:t.type,fid:n}])}}if(!(\"init\"in NREUM&&\"page_view_timing\"in NREUM.init&&\"enabled\"in NREUM.init.page_view_timing&&NREUM.init.page_view_timing.enabled===!1)){var a,s,c=t(\"handle\"),f=t(\"loader\"),u=NREUM.o.EV;if(\"PerformanceObserver\"in window&&\"function\"==typeof window.PerformanceObserver){a=new PerformanceObserver(r),s=new PerformanceObserver(o);try{a.observe({entryTypes:[\"paint\"]}),s.observe({entryTypes:[\"largest-contentful-paint\"]})}catch(d){}}if(\"addEventListener\"in document){var l=!1,p=[\"click\",\"keydown\",\"mousedown\",\"pointerdown\",\"touchstart\"];p.forEach(function(t){document.addEventListener(t,i,!1)})}}},{}],19:[function(t,n,e){function r(){function t(){return n?15&n[e++]:16*Math.random()|0}var n=null,e=0,r=window.crypto||window.msCrypto;r&&r.getRandomValues&&(n=r.getRandomValues(new Uint8Array(31)));for(var o,i=\"xxxxxxxx-xxxx-4xxx-yxxx-xxxxxxxxxxxx\",a=\"\",s=0;s<i.length;s++)o=i[s],\"x\"===o?a+=t().toString(16):\"y\"===o?(o=3&t()|8,a+=o.toString(16)):a+=o;return a}function o(){function t(){return n?15&n[e++]:16*Math.random()|0}var n=null,e=0,r=window.crypto||window.msCrypto;r&&r.getRandomValues&&Uint8Array&&(n=r.getRandomValues(new Uint8Array(31)));for(var o=[],i=0;i<16;i++)o.push(t().toString(16));return o.join(\"\")}n.exports={generateUuid:r,generateCatId:o}},{}],20:[function(t,n,e){function r(t,n){if(!o)return!1;if(t!==o)return!1;if(!n)return!0;if(!i)return!1;for(var e=i.split(\".\"),r=n.split(\".\"),a=0;a<r.length;a++)if(r[a]!==e[a])return!1;return!0}var o=null,i=null,a=/Version\\\\/(\\\\S+)\\\\s+Safari/;if(navigator.userAgent){var s=navigator.userAgent,c=s.match(a);c&&s.indexOf(\"Chrome\")===-1&&s.indexOf(\"Chromium\")===-1&&(o=\"Safari\",i=c[1])}n.exports={agent:o,version:i,match:r}},{}],21:[function(t,n,e){function r(t,n){var e=[],r=\"\",i=0;for(r in t)o.call(t,r)&&(e[i]=n(r,t[r]),i+=1);return e}var o=Object.prototype.hasOwnProperty;n.exports=r},{}],22:[function(t,n,e){function r(t,n,e){n||(n=0),\"undefined\"==typeof e&&(e=t?t.length:0);for(var r=-1,o=e-n||0,i=Array(o<0?0:o);++r<o;)i[r]=t[n+r];return i}n.exports=r},{}],23:[function(t,n,e){n.exports={exists:\"undefined\"!=typeof window.performance&&window.performance.timing&&\"undefined\"!=typeof window.performance.timing.navigationStart}},{}],ee:[function(t,n,e){function r(){}function o(t){function n(t){return t&&t instanceof r?t:t?c(t,s,i):i()}function e(e,r,o,i){if(!l.aborted||i){t&&t(e,r,o);for(var a=n(o),s=m(e),c=s.length,f=0;f<c;f++)s[f].apply(a,r);var d=u[y[e]];return d&&d.push([x,e,r,a]),a}}function p(t,n){g[t]=m(t).concat(n)}function h(t,n){var e=g[t];if(e)for(var r=0;r<e.length;r++)e[r]===n&&e.splice(r,1)}function m(t){return g[t]||[]}function w(t){return d[t]=d[t]||o(e)}function v(t,n){f(t,function(t,e){n=n||\"feature\",y[e]=n,n in u||(u[n]=[])})}var g={},y={},x={on:p,addEventListener:p,removeEventListener:h,emit:e,get:w,listeners:m,context:n,buffer:v,abort:a,aborted:!1};return x}function i(){return new r}function a(){(u.api||u.feature)&&(l.aborted=!0,u=l.backlog={})}var s=\"nr@context\",c=t(\"gos\"),f=t(21),u={},d={},l=n.exports=o();l.backlog=u},{}],gos:[function(t,n,e){function r(t,n,e){if(o.call(t,n))return t[n];var r=e();if(Object.defineProperty&&Object.keys)try{return Object.defineProperty(t,n,{value:r,writable:!0,enumerable:!1}),r}catch(i){}return t[n]=r,r}var o=Object.prototype.hasOwnProperty;n.exports=r},{}],handle:[function(t,n,e){function r(t,n,e,r){o.buffer([t],r),o.emit(t,n,e)}var o=t(\"ee\").get(\"handle\");n.exports=r,r.ee=o},{}],id:[function(t,n,e){function r(t){var n=typeof t;return!t||\"object\"!==n&&\"function\"!==n?-1:t===window?0:a(t,i,function(){return o++})}var o=1,i=\"nr@id\",a=t(\"gos\");n.exports=r},{}],loader:[function(t,n,e){function r(){if(!E++){var t=b.info=NREUM.info,n=p.getElementsByTagName(\"script\")[0];if(setTimeout(u.abort,3e4),!(t&&t.licenseKey&&t.applicationID&&n))return u.abort();f(y,function(n,e){t[n]||(t[n]=e)}),c(\"mark\",[\"onload\",a()+b.offset],null,\"api\");var e=p.createElement(\"script\");e.src=\"https://\"+t.agent,n.parentNode.insertBefore(e,n)}}function o(){\"complete\"===p.readyState&&i()}function i(){c(\"mark\",[\"domContent\",a()+b.offset],null,\"api\")}function a(){return O.exists&&performance.now?Math.round(performance.now()):(s=Math.max((new Date).getTime(),s))-b.offset}var s=(new Date).getTime(),c=t(\"handle\"),f=t(21),u=t(\"ee\"),d=t(20),l=window,p=l.document,h=\"addEventListener\",m=\"attachEvent\",w=l.XMLHttpRequest,v=w&&w.prototype;NREUM.o={ST:setTimeout,SI:l.setImmediate,CT:clearTimeout,XHR:w,REQ:l.Request,EV:l.Event,PR:l.Promise,MO:l.MutationObserver};var g=\"\"+location,y={beacon:\"bam.nr-data.net\",errorBeacon:\"bam.nr-data.net\",agent:\"js-agent.newrelic.com/nr-1167.min.js\"},x=w&&v&&v[h]&&!/CriOS/.test(navigator.userAgent),b=n.exports={offset:s,now:a,origin:g,features:{},xhrWrappable:x,userAgent:d};t(15),t(18),p[h]?(p[h](\"DOMContentLoaded\",i,!1),l[h](\"load\",r,!1)):(p[m](\"onreadystatechange\",o),l[m](\"onload\",r)),c(\"mark\",[\"firstbyte\",s],null,\"api\");var E=0,O=t(23)},{}],\"wrap-function\":[function(t,n,e){function r(t){return!(t&&t instanceof Function&&t.apply&&!t[a])}var o=t(\"ee\"),i=t(22),a=\"nr@original\",s=Object.prototype.hasOwnProperty,c=!1;n.exports=function(t,n){function e(t,n,e,o){function nrWrapper(){var r,a,s,c;try{a=this,r=i(arguments),s=\"function\"==typeof e?e(r,a):e||{}}catch(f){l([f,\"\",[r,a,o],s])}u(n+\"start\",[r,a,o],s);try{return c=t.apply(a,r)}catch(d){throw u(n+\"err\",[r,a,d],s),d}finally{u(n+\"end\",[r,a,c],s)}}return r(t)?t:(n||(n=\"\"),nrWrapper[a]=t,d(t,nrWrapper),nrWrapper)}function f(t,n,o,i){o||(o=\"\");var a,s,c,f=\"-\"===o.charAt(0);for(c=0;c<n.length;c++)s=n[c],a=t[s],r(a)||(t[s]=e(a,f?s+o:o,i,s))}function u(e,r,o){if(!c||n){var i=c;c=!0;try{t.emit(e,r,o,n)}catch(a){l([a,e,r,o])}c=i}}function d(t,n){if(Object.defineProperty&&Object.keys)try{var e=Object.keys(t);return e.forEach(function(e){Object.defineProperty(n,e,{get:function(){return t[e]},set:function(n){return t[e]=n,n}})}),n}catch(r){l([r])}for(var o in t)s.call(t,o)&&(n[o]=t[o]);return n}function l(n){try{t.emit(\"internal-error\",n)}catch(e){}}return t||(t=o),e.inPlace=f,e.flag=a,e}},{}]},{},[\"loader\",2,12,4,3]);</script>\\n<meta name=\"Generator\" content=\"Drupal 7 (http://drupal.org)\" />\\n<link rel=\"shortcut icon\" href=\"https://www.colorado.gov/sites/default/files/favicon.ico\" type=\"image/vnd.microsoft.icon\" />\\n<link rel=\"profile\" href=\"https://www.w3.org/1999/xhtml/vocab\" />\\n<meta name=\"HandheldFriendly\" content=\"true\" />\\n<meta name=\"MobileOptimized\" content=\"width\" />\\n<meta http-equiv=\"cleartype\" content=\"on\" />\\n<link rel=\"apple-touch-icon-precomposed\" href=\"https://www.colorado.gov/sites/all/themes/omega/omega/apple-touch-icon-precomposed-114x114.png\" sizes=\"114x114\" />\\n<link rel=\"apple-touch-icon-precomposed\" href=\"https://www.colorado.gov/sites/all/themes/omega/omega/apple-touch-icon-precomposed-144x144.png\" sizes=\"144x144\" />\\n<link rel=\"apple-touch-icon-precomposed\" href=\"https://www.colorado.gov/sites/all/themes/omega/omega/apple-touch-icon-precomposed-72x72.png\" sizes=\"72x72\" />\\n<link rel=\"apple-touch-icon-precomposed\" href=\"https://www.colorado.gov/sites/all/themes/omega/omega/apple-touch-icon-precomposed.png\" />\\n<meta name=\"viewport\" content=\"width=device-width, minimum-scale=1.0, maximum-scale=1.0\" />\\n  <title>Latest News | Colorado.gov</title>\\n  <link type=\"text/css\" rel=\"stylesheet\" href=\"https://www.colorado.gov/sites/default/files/css/css_ouuKCcMsO3ATXMWUHVi4N-VhoTgdR1DttsA324xlXwg.css\" media=\"all\" />\\n<link type=\"text/css\" rel=\"stylesheet\" href=\"https://www.colorado.gov/sites/default/files/css/css_2pJEPuHW5oZeN4Qn4xiBcgeJRJfXZ0dYoaFyWPYtWNE.css\" media=\"all\" />\\n<link type=\"text/css\" rel=\"stylesheet\" href=\"https://www.colorado.gov/sites/default/files/css/css_5nHOwVT1EAsMudMDGg1Bv8q5SZHis6mk0cmlxOSRk-Q.css\" media=\"all\" />\\n\\n<!--[if lte IE 8]>\\n<link type=\"text/css\" rel=\"stylesheet\" href=\"https://www.colorado.gov/sites/all/themes/colorado_gov/css/ie-lte-8.css?q58u70\" media=\"all\" />\\n<![endif]-->\\n\\n<!--[if lte IE 7]>\\n<link type=\"text/css\" rel=\"stylesheet\" href=\"https://www.colorado.gov/sites/all/themes/colorado_gov/css/ie-lte-7.css?q58u70\" media=\"all\" />\\n<![endif]-->\\n\\n<!--[if IE 6]>\\n<link type=\"text/css\" rel=\"stylesheet\" href=\"https://www.colorado.gov/sites/all/themes/colorado_gov/css/ie-6.css?q58u70\" media=\"all\" />\\n<![endif]-->\\n<link type=\"text/css\" rel=\"stylesheet\" href=\"https://www.colorado.gov/sites/default/files/css/css_jUBkLqZj-a-eIfZHLE7nQO3ql3oGtU-UyRvyVuuZAXQ.css\" media=\"all\" />\\n  <script>document.cookie = \\'adaptive_image=\\' + Math.max(screen.width, screen.height) + \\'; path=/\\';</script>\\n<script src=\"https://www.colorado.gov/sites/default/files/js/js_xmSTppMSa146VwDF2wc_0CgRKXlO4AFRpDnC9PxTCzw.js\"></script>\\n<script src=\"https://www.colorado.gov/sites/default/files/js/js_H7q2xORKmR9AN8Qx5spKEIBp7R_wG2apAswJoCUZY7I.js\"></script>\\n<script src=\"https://www.colorado.gov/sites/default/files/js/js_LYnsNokJ3hCwYVzOkOBap0cPdxFI3f_jpkPxZtvMMyw.js\"></script>\\n\\n<!--[if (gte IE 6)&(lte IE 8)]>\\n<script src=\"https://www.colorado.gov/sites/default/files/js/js_A_U-5-tob6Ni8NWZVDSwNIGfUBPEmx51QxDhZbBIRGc.js\"></script>\\n<![endif]-->\\n<script src=\"https://www.colorado.gov/sites/default/files/js/js_mEGA-lkaqzKTJb0LnmIlSIvq7SSVWKJgsdzqLCdsx1g.js\"></script>\\n<script defer=\"defer\" src=\"//script.crazyegg.com/pages/scripts/0011/7387.js\"></script>\\n<script src=\"https://www.colorado.gov/sites/default/files/js/js_gPqjYq7fqdMzw8-29XWQIVoDSWTmZCGy9OqaHppNxuQ.js\"></script>\\n<script>(function(i,s,o,g,r,a,m){i[\"GoogleAnalyticsObject\"]=r;i[r]=i[r]||function(){(i[r].q=i[r].q||[]).push(arguments)},i[r].l=1*new Date();a=s.createElement(o),m=s.getElementsByTagName(o)[0];a.async=1;a.src=g;m.parentNode.insertBefore(a,m)})(window,document,\"script\",\"https://www.google-analytics.com/analytics.js\",\"ga\");ga(\"create\", \"UA-15981586-5\", {\"cookieDomain\":\"auto\"});ga(\"require\", \"linkid\", \"linkid.js\");ga(\"require\", \"displayfeatures\");ga(\"set\", \"anonymizeIp\", true);ga(\"send\", \"pageview\");</script>\\n<script src=\"https://www.colorado.gov/sites/default/files/js/js_XxnCis21icV6euhAXEKEYO-Fd0jBJpnruJ7EXMN160g.js\"></script>\\n<script src=\"https://www.colorado.gov/sites/default/files/js/js_e8UIpcMWDGOtm-L2V9aNE7iw_2pLaL25jIgWwV6F-BA.js\"></script>\\n<script>jQuery.extend(Drupal.settings, {\"basePath\":\"\\\\/\",\"pathPrefix\":\"\",\"urlIsAjaxTrusted\":{\"\\\\/news\":true},\"facetapi\":{\"facets\":[{\"limit\":\"20\",\"id\":\"facetapi-facet-search-apistate-agencies-index-block-field-executive-office\",\"searcher\":\"search_api@state_agencies_index\",\"realmName\":\"block\",\"facetName\":\"field_executive_office\",\"queryType\":null,\"widget\":\"facetapi_links\",\"showMoreText\":\"Show more\",\"showFewerText\":\"Show fewer\"},{\"limit\":20,\"id\":\"facetapi-facet-search-apistate-agencies-index-block-field-state-agency-related\",\"searcher\":\"search_api@state_agencies_index\",\"realmName\":\"block\",\"facetName\":\"field_state_agency_related\",\"queryType\":null,\"widget\":\"facetapi_links\",\"showMoreText\":\"Show more\",\"showFewerText\":\"Show fewer\"},{\"limit\":\"20\",\"id\":\"facetapi-facet-search-apistate-agencies-index-block-field-executive-officename\",\"searcher\":\"search_api@state_agencies_index\",\"realmName\":\"block\",\"facetName\":\"field_executive_office:name\",\"queryType\":null,\"widget\":\"collapsible\",\"showMoreText\":\"Show more\",\"showFewerText\":\"Show fewer\"},{\"limit\":\"20\",\"id\":\"facetapi-facet-search-apistate-agencies-index-block-field-state-agencyname\",\"searcher\":\"search_api@state_agencies_index\",\"realmName\":\"block\",\"facetName\":\"field_state_agency:name\",\"queryType\":null,\"widget\":\"collapsible\",\"showMoreText\":\"Show more\",\"showFewerText\":\"Show fewer\"}]},\"equalHeightsModule\":{\"classes\":[{\"selector\":\"#latest_news-block, .bean-tiles .sixth\",\"mediaquery\":\"\",\"minheight\":\"\",\"maxheight\":\"\",\"overflow\":\"auto\"},{\"selector\":\".card\",\"mediaquery\":\"\",\"minheight\":\"\",\"maxheight\":\"\",\"overflow\":\"auto\"},{\"selector\":\"#contact-overlay .card p\",\"mediaquery\":\"\",\"minheight\":\"\",\"maxheight\":\"\",\"overflow\":\"auto\"},{\"selector\":\"#contact-overlay .card\",\"mediaquery\":\"\",\"minheight\":\"322\",\"maxheight\":\"\",\"overflow\":\"auto\"}],\"imagesloaded_ie8\":1},\"googleanalytics\":{\"trackOutbound\":1,\"trackMailto\":1,\"trackDownload\":1,\"trackDownloadExtensions\":\"7z|aac|arc|arj|asf|asx|avi|bin|csv|doc(x|m)?|dot(x|m)?|exe|flv|gif|gz|gzip|hqx|jar|jpe?g|js|mp(2|3|4|e?g)|mov(ie)?|msi|msp|pdf|phps|png|ppt(x|m)?|pot(x|m)?|pps(x|m)?|ppam|sld(x|m)?|thmx|qtm?|ra(m|r)?|sea|sit|tar|tgz|torrent|txt|wav|wma|wmv|wpd|xls(x|m|b)?|xlt(x|m)|xlam|xml|z|zip\"},\"facetapi_collapsible\":{\"field_executive_office:name\":{\"keep_open\":0,\"expand\":0,\"collapsible_children\":1},\"field_state_agency:name\":{\"keep_open\":0,\"expand\":0,\"collapsible_children\":1}}});</script>\\n</head>\\n<body class=\"html not-front not-logged-in page-news section-news\">\\n  <a href=\"#main-content\" class=\"element-invisible element-focusable\">Skip to main content</a>\\n      <!-- Header -->\\n  \\n<!-- Alerts -->\\n\\n<header id=\"main-header\" class=\"\">\\n\\t<div class=\"container\">\\n\\t  <a href=\"/\" title=\"Home\" rel=\"home\" class=\"site-logo\">\\n\\t\\t<img id=\"main-logo\" src=\"/sites/all/themes/colorado_gov/logo.svg\" alt=\"Home\" />\\n\\t  </a>\\n\\t  \\n\\t  <ul class=\"header-utilities\">\\n\\t    <li class=\"search-btn\">Search</li>\\n\\t    <li class=\"contact-us-btn\">Contact Us</li>\\n\\t    <li class=\"menu-toggle-btn \"><span class=\"hamburger\"></span><span class=\"menu-toggle-title\">Menu</span></li>\\n\\t  </ul>\\n\\t</div>\\n</header>\\n<!-- end header -->\\n  <div class=\"content-container\">\\n\\n    <div id=\"main-content\" class=\"main-content\">\\n\\n\\t   <!-- Title -->\\n\\t\\t<div class=\"grid--row padded-x-2 grey\">\\n\\t\\t    <div class=\"grid--2-3 rwd\">\\n\\t\\t    \\t<h1 class=\"heading--news\">Latest News</h1>\\n\\t\\t      \\t\\t    </div>\\n\\t\\t    <div class=\"grid--1-3 rwd\">\\n\\t\\t    \\t<ul class=\"breadcrumb\">\\n\\t\\t    \\t\\t<li><a href=\"/\">Home</a></li>\\n\\t\\t    \\t\\t<li>News</li>\\n\\t\\t    \\t</ul>\\n\\t\\t      \\t\\t    </div>\\n\\t\\t</div>\\n\\n\\t\\t<div class=\"grid--row padded-x-2\">\\n\\t\\t    <!-- Main Content -->\\n\\t\\t    <main class=\"grid--4-5\">\\n\\t\\t    \\t<div class=\"content-wrap\">\\n\\t\\t    \\t\\t<div class=\"view view-nv view-id-nv view-display-id-page view-dom-id-919fe3251d0e664b0718760b93191ced\">\\n        \\n  \\n  \\n      <div class=\"view-content\">\\n        <h3>February</h3>\\n  <div class=\"views-row views-row-1 views-row-odd views-row-first views-row-last\">\\n    <div class=\"view-page-item\">\\n<div class=\"date margin-b\">\\n\\t<span class=\"field-content\"><span class=\"date-display-single\" property=\"dc:date\" datatype=\"xsd:dateTime\" content=\"2020-02-17T07:54:43-07:00\">Monday, February 17, 2020</span></span></div>\\n\\t<h3 class=\"no-padding x-small lighter-text\"><span class=\"field-content\"><a href=\"https://www.colorado.gov/pacific/cssrc/news/schoolsafetygov-launches-help-educators-administrators-parents-and-law-enforcement-prepare\">SchoolSafety.gov Launches to Help Educators, Administrators, Parents, and Law Enforcement Prepare for Threats</a></span></h3>\\n<div class=\"margin-b lighter-text smaller-text-views\">\\n\\t<span class=\"field-content\">From Department of Public Safety, School Safety Resource Center  </span></div>\\n</div>  </div>\\n  <h3>January</h3>\\n  <div class=\"views-row views-row-1 views-row-odd views-row-first views-row-last\">\\n    <div class=\"view-page-item\">\\n<div class=\"date margin-b\">\\n\\t<span class=\"field-content\"><span class=\"date-display-single\" property=\"dc:date\" datatype=\"xsd:dateTime\" content=\"2020-01-23T10:42:41-07:00\">Thursday, January 23, 2020</span></span></div>\\n\\t<h3 class=\"no-padding x-small lighter-text\"><span class=\"field-content\"><a href=\"https://www.colorado.gov/pacific/hcpf/news/report-shows-hospitals-continue-increase-prices-coloradans-private-insurance\">Report Shows Hospitals Continue to Increase Prices for Coloradans with Private Insurance</a></span></h3>\\n<div class=\"margin-b lighter-text smaller-text-views\">\\n\\t<span class=\"field-content\">From Department of Health Care Policy and Financing  </span></div>\\n</div>  </div>\\n  <h3>December</h3>\\n  <div class=\"views-row views-row-1 views-row-odd views-row-first views-row-last\">\\n    <div class=\"view-page-item\">\\n<div class=\"date margin-b\">\\n\\t<span class=\"field-content\"><span class=\"date-display-single\" property=\"dc:date\" datatype=\"xsd:dateTime\" content=\"2019-12-19T15:52:12-07:00\">Thursday, December 19, 2019</span></span></div>\\n\\t<h3 class=\"no-padding x-small lighter-text\"><span class=\"field-content\"><a href=\"https://www.colorado.gov/pacific/hcpf/news/colorado-medicaid-selected-federal-program-reduce-maternal-opioid-misuse\">Colorado Medicaid Selected for Federal Program  to Reduce Maternal Opioid Misuse</a></span></h3>\\n<div class=\"margin-b lighter-text smaller-text-views\">\\n\\t<span class=\"field-content\">From Department of Health Care Policy and Financing  </span></div>\\n</div>  </div>\\n  <h3>November</h3>\\n  <div class=\"views-row views-row-1 views-row-odd views-row-first\">\\n    <div class=\"view-page-item\">\\n<div class=\"date margin-b\">\\n\\t<span class=\"field-content\"><span class=\"date-display-single\" property=\"dc:date\" datatype=\"xsd:dateTime\" content=\"2019-11-27T15:21:10-07:00\">Wednesday, November 27, 2019</span></span></div>\\n\\t<h3 class=\"no-padding x-small lighter-text\"><span class=\"field-content\"><a href=\"https://www.colorado.gov/pacific/cdle/news/public-comment-open-colorado-overtime-rule\">Public Comment Open for Colorado Overtime Rule</a></span></h3>\\n<div class=\"margin-b lighter-text smaller-text-views\">\\n\\t<span class=\"field-content\">From Department of Labor and Employment  </span></div>\\n</div>  </div>\\n  <div class=\"views-row views-row-2 views-row-even\">\\n    <div class=\"view-page-item\">\\n<div class=\"date margin-b\">\\n\\t<span class=\"field-content\"><span class=\"date-display-single\" property=\"dc:date\" datatype=\"xsd:dateTime\" content=\"2019-11-26T18:07:26-07:00\">Tuesday, November 26, 2019</span></span></div>\\n\\t<h3 class=\"no-padding x-small lighter-text\"><span class=\"field-content\"><a href=\"https://www.colorado.gov/pacific/cdle/news/expected-revisions-colorado-nonfarm-payroll-jobs-2\">Expected Revisions to Colorado Nonfarm Payroll Jobs</a></span></h3>\\n<div class=\"margin-b lighter-text smaller-text-views\">\\n\\t<span class=\"field-content\">From Department of Labor and Employment  </span></div>\\n</div>  </div>\\n  <div class=\"views-row views-row-3 views-row-odd\">\\n    <div class=\"view-page-item\">\\n<div class=\"date margin-b\">\\n\\t<span class=\"field-content\"><span class=\"date-display-single\" property=\"dc:date\" datatype=\"xsd:dateTime\" content=\"2019-11-25T13:04:30-07:00\">Monday, November 25, 2019</span></span></div>\\n\\t<h3 class=\"no-padding x-small lighter-text\"><span class=\"field-content\"><a href=\"https://www.colorado.gov/pacific/cdle/news/gov-jared-polis-joins-20-state-agencies-rural-state-job-and-resource-fair\">Gov. Jared Polis Joins 20+ State Agencies in Rural State Job and Resource Fair </a></span></h3>\\n<div class=\"margin-b lighter-text smaller-text-views\">\\n\\t<span class=\"field-content\">From Department of Labor and Employment  </span></div>\\n</div>  </div>\\n  <div class=\"views-row views-row-4 views-row-even\">\\n    <div class=\"view-page-item\">\\n<div class=\"date margin-b\">\\n\\t<span class=\"field-content\"><span class=\"date-display-single\" property=\"dc:date\" datatype=\"xsd:dateTime\" content=\"2019-11-18T16:53:37-07:00\">Monday, November 18, 2019</span></span></div>\\n\\t<h3 class=\"no-padding x-small lighter-text\"><span class=\"field-content\"><a href=\"https://www.colorado.gov/pacific/cdle/news/colorado-employment-situation-october-2019\">Colorado Employment Situation - October 2019</a></span></h3>\\n<div class=\"margin-b lighter-text smaller-text-views\">\\n\\t<span class=\"field-content\">From Department of Labor and Employment  </span></div>\\n</div>  </div>\\n  <div class=\"views-row views-row-5 views-row-odd\">\\n    <div class=\"view-page-item\">\\n<div class=\"date margin-b\">\\n\\t<span class=\"field-content\"><span class=\"date-display-single\" property=\"dc:date\" datatype=\"xsd:dateTime\" content=\"2019-11-15T15:06:33-07:00\">Friday, November 15, 2019</span></span></div>\\n\\t<h3 class=\"no-padding x-small lighter-text\"><span class=\"field-content\"><a href=\"https://www.colorado.gov/pacific/hcpf/news/public-option-recommendation-make-health-care-more-affordable-0\">Public Option Recommendation to Make Health Care More Affordable</a></span></h3>\\n<div class=\"margin-b lighter-text smaller-text-views\">\\n\\t<span class=\"field-content\">From Department of Health Care Policy and Financing  </span></div>\\n</div>  </div>\\n  <div class=\"views-row views-row-6 views-row-even\">\\n    <div class=\"view-page-item\">\\n<div class=\"date margin-b\">\\n\\t<span class=\"field-content\"><span class=\"date-display-single\" property=\"dc:date\" datatype=\"xsd:dateTime\" content=\"2019-11-12T11:29:14-07:00\">Tuesday, November 12, 2019</span></span></div>\\n\\t<h3 class=\"no-padding x-small lighter-text\"><span class=\"field-content\"><a href=\"https://www.colorado.gov/pacific/cdle/news/state-agencies-hold-job-fair-november-23\">State Agencies to Hold Job Fair November 23</a></span></h3>\\n<div class=\"margin-b lighter-text smaller-text-views\">\\n\\t<span class=\"field-content\">From Department of Labor and Employment  </span></div>\\n</div>  </div>\\n  <div class=\"views-row views-row-7 views-row-odd views-row-last\">\\n    <div class=\"view-page-item\">\\n<div class=\"date margin-b\">\\n\\t<span class=\"field-content\"><span class=\"date-display-single\" property=\"dc:date\" datatype=\"xsd:dateTime\" content=\"2019-11-06T11:46:50-07:00\">Wednesday, November 6, 2019</span></span></div>\\n\\t<h3 class=\"no-padding x-small lighter-text\"><span class=\"field-content\"><a href=\"https://www.colorado.gov/pacific/cdle/news/%E2%80%9Capprenticeships-make-colorado-stronger%E2%80%9D-%E2%80%94-business-experiential-learning-commission-and-lt-gov\">\\xe2\\x80\\x9cApprenticeships Make Colorado Stronger\\xe2\\x80\\x9d \\xe2\\x80\\x94 Business Experiential-Learning Commission and Lt. Gov. Primavera Honor Apprenticeship Advocates in \\xe2\\x80\\x9cCelebration of Excellence\\xe2\\x80\\x9d Award Ceremony </a></span></h3>\\n<div class=\"margin-b lighter-text smaller-text-views\">\\n\\t<span class=\"field-content\">From Department of Labor and Employment  </span></div>\\n</div>  </div>\\n    </div>\\n  \\n      <h2 class=\"element-invisible\">Pages</h2><ul class=\"pager\"><li class=\"pager__item pager__item--current\">1</li>\\n<li class=\"pager__item\"><a title=\"Go to page 2\" href=\"/news?page=1\">2</a></li>\\n<li class=\"pager__item\"><a title=\"Go to page 3\" href=\"/news?page=2\">3</a></li>\\n<li class=\"pager__item\"><a title=\"Go to page 4\" href=\"/news?page=3\">4</a></li>\\n<li class=\"pager__item\"><a title=\"Go to page 5\" href=\"/news?page=4\">5</a></li>\\n<li class=\"pager__item\"><a title=\"Go to page 6\" href=\"/news?page=5\">6</a></li>\\n<li class=\"pager__item\"><a title=\"Go to page 7\" href=\"/news?page=6\">7</a></li>\\n<li class=\"pager__item\"><a title=\"Go to page 8\" href=\"/news?page=7\">8</a></li>\\n<li class=\"pager__item\"><a title=\"Go to page 9\" href=\"/news?page=8\">9</a></li>\\n<li class=\"pager__item pager__item--ellipsis\">\\xe2\\x80\\xa6</li>\\n<li class=\"pager__item pager__item--next\"><a title=\"Go to next page\" href=\"/news?page=1\">next \\xe2\\x80\\xba</a></li>\\n<li class=\"pager__item pager__item--last\"><a href=\"/news?page=69\"></a></li>\\n</ul>  \\n  \\n  \\n  \\n  \\n</div>\\t\\t    \\t</div>\\n\\t\\t    </main>\\n\\t\\t    <!-- Sidebar -->\\n\\t\\t    <aside class=\"grid--1-5\" aria-label=\"filter by\">\\n\\t\\t        <aside class=\"l-region l-region--sidebar-second\">\\n    <div id=\"block-facetapi-ufxklr9hzq4mu3iozrjuhh4a5yfwprnj\" class=\"block block--facetapi facetapi-collapsible block--facetapi-ufxklr9hzq4mu3iozrjuhh4a5yfwprnj\">\\n        <h2 class=\"block__title\">Executive Office</h2>\\n      <div class=\"block__content\">\\n    <div class=\"facet-collapsible-wrapper\" id=\"facet-collapsible-field-executive-office:name\"><ul class=\"facetapi-collapsible facetapi-facet-field-executive-officename facetapi-collapsible\" id=\"facetapi-facet-search-apistate-agencies-index-block-field-executive-officename\"><li class=\"leaf\"><div class=\"facetapi-facet facetapi-inactive\"><a href=\"/news?f%5B0%5D=field_executive_office%253Aname%3AOffice%20of%20the%20Governor\" rel=\"nofollow\" class=\"facetapi-inactive\" id=\"facetapi-link--3\">Office of the Governor (207)<span class=\"element-invisible\"> Apply Office of the Governor filter </span></a></div></li>\\n<li class=\"leaf\"><div class=\"facetapi-facet facetapi-inactive\"><a href=\"/news?f%5B0%5D=field_executive_office%253Aname%3AOffice%20of%20Lieutenant%20Governor\" rel=\"nofollow\" class=\"facetapi-inactive\" id=\"facetapi-link--4\">Office of Lieutenant Governor (24)<span class=\"element-invisible\"> Apply Office of Lieutenant Governor filter </span></a></div></li>\\n</ul></div>  </div>\\n</div>\\n<div id=\"block-facetapi-pd0ucomka8gmv2rffe1s6y7xxo4qru2n\" class=\"block block--facetapi facetapi-collapsible block--facetapi-pd0ucomka8gmv2rffe1s6y7xxo4qru2n\">\\n        <h2 class=\"block__title\">State Agency</h2>\\n      <div class=\"block__content\">\\n    <div class=\"facet-collapsible-wrapper\" id=\"facet-collapsible-field-state-agency:name\"><ul class=\"facetapi-collapsible facetapi-facet-field-state-agencyname facetapi-collapsible\" id=\"facetapi-facet-search-apistate-agencies-index-block-field-state-agencyname\"><li class=\"leaf\"><div class=\"facetapi-facet facetapi-inactive\"><a href=\"/news?f%5B0%5D=field_state_agency%253Aname%3ADepartment%20of%20Labor%20and%20Employment%2C%20Division%20of%20Oil%20and%20Public%20Safety\" rel=\"nofollow\" class=\"facetapi-inactive\" id=\"facetapi-link--5\">Department of Labor and Employment, Division of Oil and Public Safety (78)<span class=\"element-invisible\"> Apply Department of Labor and Employment, Division of Oil and Public Safety filter </span></a></div></li>\\n<li class=\"leaf\"><div class=\"facetapi-facet facetapi-inactive\"><a href=\"/news?f%5B0%5D=field_state_agency%253Aname%3ADepartment%20of%20Labor%20and%20Employment\" rel=\"nofollow\" class=\"facetapi-inactive\" id=\"facetapi-link--6\">Department of Labor and Employment (73)<span class=\"element-invisible\"> Apply Department of Labor and Employment filter </span></a></div></li>\\n<li class=\"leaf\"><div class=\"facetapi-facet facetapi-inactive\"><a href=\"/news?f%5B0%5D=field_state_agency%253Aname%3ADepartment%20of%20Public%20Health%20%26%20Environment\" rel=\"nofollow\" class=\"facetapi-inactive\" id=\"facetapi-link--7\">Department of Public Health &amp; Environment (54)<span class=\"element-invisible\"> Apply Department of Public Health &amp; Environment filter </span></a></div></li>\\n<li class=\"leaf\"><div class=\"facetapi-facet facetapi-inactive\"><a href=\"/news?f%5B0%5D=field_state_agency%253Aname%3ADepartment%20of%20Regulatory%20Agencies\" rel=\"nofollow\" class=\"facetapi-inactive\" id=\"facetapi-link--8\">Department of Regulatory Agencies (51)<span class=\"element-invisible\"> Apply Department of Regulatory Agencies filter </span></a></div></li>\\n<li class=\"leaf\"><div class=\"facetapi-facet facetapi-inactive\"><a href=\"/news?f%5B0%5D=field_state_agency%253Aname%3ADepartment%20of%20Health%20Care%20Policy%20and%20Financing\" rel=\"nofollow\" class=\"facetapi-inactive\" id=\"facetapi-link--9\">Department of Health Care Policy and Financing (49)<span class=\"element-invisible\"> Apply Department of Health Care Policy and Financing filter </span></a></div></li>\\n<li class=\"leaf\"><div class=\"facetapi-facet facetapi-inactive\"><a href=\"/news?f%5B0%5D=field_state_agency%253Aname%3ADepartment%20of%20Public%20Safety\" rel=\"nofollow\" class=\"facetapi-inactive\" id=\"facetapi-link--10\">Department of Public Safety (43)<span class=\"element-invisible\"> Apply Department of Public Safety filter </span></a></div></li>\\n<li class=\"leaf\"><div class=\"facetapi-facet facetapi-inactive\"><a href=\"/news?f%5B0%5D=field_state_agency%253Aname%3ADepartment%20of%20Agriculture\" rel=\"nofollow\" class=\"facetapi-inactive\" id=\"facetapi-link--11\">Department of Agriculture (42)<span class=\"element-invisible\"> Apply Department of Agriculture filter </span></a></div></li>\\n<li class=\"leaf\"><div class=\"facetapi-facet facetapi-inactive\"><a href=\"/news?f%5B0%5D=field_state_agency%253Aname%3AColorado%20Energy%20Office\" rel=\"nofollow\" class=\"facetapi-inactive\" id=\"facetapi-link--12\">Colorado Energy Office (33)<span class=\"element-invisible\"> Apply Colorado Energy Office filter </span></a></div></li>\\n<li class=\"leaf\"><div class=\"facetapi-facet facetapi-inactive\"><a href=\"/news?f%5B0%5D=field_state_agency%253Aname%3ADepartment%20of%20Personnel%20and%20Administration\" rel=\"nofollow\" class=\"facetapi-inactive\" id=\"facetapi-link--13\">Department of Personnel and Administration (19)<span class=\"element-invisible\"> Apply Department of Personnel and Administration filter </span></a></div></li>\\n<li class=\"leaf\"><div class=\"facetapi-facet facetapi-inactive\"><a href=\"/news?f%5B0%5D=field_state_agency%253Aname%3AColorado%20Workforce%20Development%20Council\" rel=\"nofollow\" class=\"facetapi-inactive\" id=\"facetapi-link--14\">Colorado Workforce Development Council (17)<span class=\"element-invisible\"> Apply Colorado Workforce Development Council filter </span></a></div></li>\\n<li class=\"leaf\"><div class=\"facetapi-facet facetapi-inactive\"><a href=\"/news?f%5B0%5D=field_state_agency%253Aname%3ADepartment%20of%20Public%20Safety%2C%20School%20Safety%20Resource%20Center\" rel=\"nofollow\" class=\"facetapi-inactive\" id=\"facetapi-link--15\">Department of Public Safety, School Safety Resource Center (13)<span class=\"element-invisible\"> Apply Department of Public Safety, School Safety Resource Center filter </span></a></div></li>\\n<li class=\"leaf\"><div class=\"facetapi-facet facetapi-inactive\"><a href=\"/news?f%5B0%5D=field_state_agency%253Aname%3ADepartment%20of%20Agriculture%2C%20Animal%20Health%20Division\" rel=\"nofollow\" class=\"facetapi-inactive\" id=\"facetapi-link--16\">Department of Agriculture, Animal Health Division (5)<span class=\"element-invisible\"> Apply Department of Agriculture, Animal Health Division filter </span></a></div></li>\\n<li class=\"leaf\"><div class=\"facetapi-facet facetapi-inactive\"><a href=\"/news?f%5B0%5D=field_state_agency%253Aname%3ADepartment%20of%20Human%20Services\" rel=\"nofollow\" class=\"facetapi-inactive\" id=\"facetapi-link--17\">Department of Human Services (1)<span class=\"element-invisible\"> Apply Department of Human Services filter </span></a></div></li>\\n<li class=\"leaf\"><div class=\"facetapi-facet facetapi-inactive\"><a href=\"/news?f%5B0%5D=field_state_agency%253Aname%3ADepartment%20of%20Revenue\" rel=\"nofollow\" class=\"facetapi-inactive\" id=\"facetapi-link--18\">Department of Revenue (1)<span class=\"element-invisible\"> Apply Department of Revenue filter </span></a></div></li>\\n<li class=\"leaf\"><div class=\"facetapi-facet facetapi-inactive\"><a href=\"/news?f%5B0%5D=field_state_agency%253Aname%3ADepartment%20of%20Revenue%2C%20Division%20of%20Motor%20Vehicle\" rel=\"nofollow\" class=\"facetapi-inactive\" id=\"facetapi-link--19\">Department of Revenue, Division of Motor Vehicle (1)<span class=\"element-invisible\"> Apply Department of Revenue, Division of Motor Vehicle filter </span></a></div></li>\\n<li class=\"leaf\"><div class=\"facetapi-facet facetapi-inactive\"><a href=\"/news?f%5B0%5D=field_state_agency%253Aname%3ADepartment%20of%20Revenue%2C%20Division%20of%20Taxation\" rel=\"nofollow\" class=\"facetapi-inactive\" id=\"facetapi-link--20\">Department of Revenue, Division of Taxation (1)<span class=\"element-invisible\"> Apply Department of Revenue, Division of Taxation filter </span></a></div></li>\\n</ul></div>  </div>\\n</div>\\n  </aside>\\n\\t\\t    </aside>\\n\\t\\t</div>\\n\\n      <!-- Search Overlay -->\\n      <div class=\"overlay\" id=\"search-overlay\">\\n\\n\\t<div class=\"grid--row grey padded-x-2\">\\n\\t\\t\\t<!-- Close Button -->\\n\\t\\t\\t<div class=\"close-overlay-btn\">\\n\\t\\t\\t</div>\\n\\n\\t\\t\\t<div class=\"grid--1-3 type-to-search\">\\n\\t\\t\\t  <h3 class=\"overlay-header green\" id=\"search\" aria-labelledby=\"ID\">Search</h3>\\n\\t\\t\\t</div>\\n\\t\\t\\t<!-- end grid 1-3 -->\\n\\n\\t\\t\\t<div class=\"grid--2-3 popular-search align-right padded-r-x\">\\n\\t\\t\\t\\t<span>Popular Search Terms:</span>\\n\\n\\t\\t\\t\\t<!-- The following three lines of code are used to dynamically pull in and populate search terms from Google.\\n\\t\\t\\t\\tWe have had some issues with https and have decided to leave out for now, with every intention of coming back and fixing. -->\\n\\n\\n\\t\\t\\t\\t<div id=\"queries\"></div>\\n\\t\\t\\t\\t<script src=\"https://cse.google.com/query_renderer.js\"></script>\\n\\t\\t\\t\\t<script src=\"https://cse.google.com/api/005331801672446424340/cse/vmhybt5tx_s/queries/js?view=month&callback=(new+PopularQueryRenderer(document.getElementById(%22queries%22))).render\"></script>\\n\\n\\t\\t\\t  \\t\\t\\t</div>\\n\\t\\t\\t<!-- end grid 2-3 -->\\n\\t</div>\\n\\t<!-- end row -->\\n\\n\\t<!-- Large Search Input -->\\n\\t<div class=\"grid--row\">\\n\\t\\t<div class=\"grid--1 padded-x-2\">\\n          <p id=\"access-popular-search-terms\" hidden aria-hidden=\"true\">Press shift tab to access popular search terms</p>\\n          <gcse:searchbox-only resultsUrl=\"/search\" queryParameterName=\"tid\"></gcse:searchbox-only>\\n  </div>\\n\\n\\t</div>\\n\\t<!-- end row -->\\n\\n\\t<div class=\"grid--row\">\\n\\t\\t<div class=\"grid--1 padded-x-2\">\\n\\n\\t\\t</div>\\n\\t</div>\\n\\t<!-- end row -->\\n</div>\\n<!-- end overlay -->\\n      <!-- Contact Overlay -->\\n      <div class=\"overlay is-overlay-not-visible\" id=\"contact-overlay\">\\n\\n\\t<div class=\"grid--row grey padded-x-2\">\\n\\t\\t\\t<!-- Close Button -->\\n\\t\\t\\t<div class=\"close-overlay-btn\">\\n\\t\\t\\t</div>\\n\\n\\t\\t\\t<div class=\"grid--1\">\\n\\t\\t\\t\\t<h3 class=\"overlay-header green\">Contact Us</h3>\\n\\t\\t\\t</div>\\n\\t</div>\\n\\t<!-- end row -->\\n\\n\\t<div class=\"grid--row padded-x-2\">\\n\\n\\t\\t<form id=\"contact-us-form\">\\n\\t\\t\\t<input id=\"contact-us-input\" type=\"text\" class=\"large-search-input\" placeholder=\"Agency Lookup by Keywords\" aria-describedby=\"contact-us-supporting-text\">\\n\\t\\t\\t<button aria-label=\"search contacts\" class=\"search-submit-btn\"></button>\\n\\t\\t</form>\\n\\t\\t<!-- end form -->\\n\\n\\t\\t<div class=\"supporting-text\">\\n\\t\\t\\t<p id=\"contact-us-supporting-text\">\\n\\t\\t\\t\\tSearch results contain all keywords. Press \\'esc\\' to close overlay.<br />\\n\\t\\t\\t</p>\\n\\t\\t\\t<p>\\n\\t\\t\\t\\tExample: \"Motor Vehicle\" will only present results for \"Motor Vehicle\" not \"Motor\" or \"Vehicle\".\\n\\t\\t\\t</p>\\n\\t\\t</div>\\n\\n\\t\\t<svg xmlns=\"http://www.w3.org/2000/svg\" version=\"1.1\" height=\"0px\">\\n\\t\\t  <defs>\\n\\t\\t    <filter id=\"goo\">\\n\\t\\t      <feGaussianBlur in=\"SourceGraphic\" stdDeviation=\"10\" result=\"blur\" />\\n\\t\\t      <feColorMatrix in=\"blur\" mode=\"matrix\" values=\"1 0 0 0 0  0 1 0 0 0  0 0 1 0 0  0 0 0 19 -9\" result=\"goo\" />\\n\\t\\t      <feComposite in=\"SourceGraphic\" in2=\"goo\" operator=\"atop\" />\\n\\t\\t    </filter>\\n\\t\\t  </defs>\\n\\t\\t</svg>\\n\\n\\t\\t<!-- Departments -->\\n\\t\\t<div id=\"contact-us-response-area\">\\n\\n\\t\\t</div>\\n\\n\\t\\t<!-- Cards -->\\n\\t\\t<div class=\"equal-height-card card grey margin-y\">\\n\\t\\t\\t<div class=\"card-title\">\\n\\t\\t\\t\\tGet In Touch\\n\\t\\t\\t</div>\\n\\t\\t\\t<div class=\"content\">\\n\\t\\t\\t\\t<p class=\"no-margin\">\\n\\t\\t\\t\\t\\t<a href=\"/submit-case\">\\n\\t\\t\\t\\t\\t\\tEmail\\n\\t\\t\\t\\t\\t</a><br/>\\n\\t\\t\\t\\t\\t<a href=\"/submit-case\">\\n\\t\\t\\t\\t\\t\\tReport a Problem or Ask a Question\\n\\t\\t\\t\\t\\t</a><br />\\n\\t\\t\\t\\t\\tFor technical support on online services <br />\\n\\t\\t\\t\\t\\tcall 303-534-3468 X 0<br/>\\n\\t\\t\\t\\t\\tPlease note that we are not a state agency\\n\\t\\t\\t\\t</p>\\n\\t\\t\\t\\t<a class=\"card-btn\" href=\"javascript://Chat\" id=\"liveagent_button_online_573400000008OR4\" style=\"display: none;\" onclick=\"liveagent.startChat(\\'573400000008OR4\\')\">\\n\\t\\t\\t\\t\\t<img alt=\"Live Chat is online\" src=\"sites/all/themes/colorado_gov/images/icons/live_chat_online_blue.svg\" alt=\"\">\\n\\t\\t\\t\\t</a>\\n\\t\\t\\t\\t<a class=\"card-btn\" href=\"javascript://Chat\" id=\"liveagent_button_offline_573400000008OR4\" style=\"display: none;\" onclick=\"liveagent.startChat(\\'573400000008OR4\\')\">\\n\\t\\t\\t\\t\\t<img alt=\"Live chat is offline\" src=\"sites/all/themes/colorado_gov/images/icons/live_chat_offline_gray.svg\" alt=\"\">\\n\\t\\t\\t\\t</a>\\n\\t\\t\\t</div>\\n\\t\\t</div>\\n\\n\\t\\t<div class=\"equal-height-card card grey margin-y\">\\n\\t\\t\\t<div class=\"card-title\">\\n\\t\\t\\t\\tGovernment Directories\\n\\t\\t\\t</div>\\n\\t\\t\\t<div class=\"content\">\\n\\t\\t\\t\\t<p class=\"no-margin\">\\n\\t\\t\\t\\t<a href=\"http://www.colorado.gov/apps/oit/directory/start.jsf\">\\n\\t\\t\\t\\t\\tState Employee Directory\\n\\t\\t\\t\\t</a><br />\\n\\t\\t\\t\\t<a href=\"/state-agencies\">\\n\\t\\t\\t\\t\\tState Agency Directory\\n\\t\\t\\t\\t</a><br />\\n\\t\\t\\t\\t<a href=\"https://dola.colorado.gov/lgis/\">\\n\\t\\t\\t\\t\\tLocal Government Directory\\n\\t\\t\\t\\t</a>\\n\\t\\t\\t\\t</p>\\n\\t\\t\\t\\t<a class=\"card-btn\" href=\"https://sipacoloradogov.maps.arcgis.com/apps/webappviewer/index.html?id=4a33a01e6a3d4530adb9f98c5d5455f5\">\\n\\t\\t\\t\\t\\t<img alt=\"Find government services near you\" src=\"sites/all/themes/colorado_gov/images/icons/gov_services_blue.svg\" alt=\"\">\\n\\t\\t\\t\\t</a>\\n\\t\\t\\t</div>\\n\\t\\t</div>\\n\\n\\t\\t<div class=\"equal-height-card card grey margin-y\">\\n\\t\\t\\t<div class=\"card-title\">\\n\\t\\t\\t\\tCitizens Assistance\\n\\t\\t\\t</div>\\n\\t\\t\\t<div class=\"content\">\\n\\t\\t\\t\\t<p class=\"no-margin\">\\n\\t\\t\\t\\t\\t<a href=\"/gethelp\">Explore this interactive service</a> designed to help citizens with common questions.\\n\\t\\t\\t\\t</p>\\n\\t\\t\\t\\t<a class=\"card-btn\" href=\"/apps/feedback/servlet/begin?application=colorado-cms-website\">\\n\\t\\t\\t\\t\\t<img alt=\"Leave feedback\" src=\"sites/all/themes/colorado_gov/images/icons/feedback_blue.svg\" alt=\"\">\\n\\t\\t\\t\\t</a>\\n\\t\\t\\t</div>\\n\\t\\t</div>\\n\\n\\t</div>\\n</div>\\n<!-- end overlay -->\\n      <!-- Footer -->\\n      \\n<!-- Live Chat -->\\n<script type=\"text/javascript\">\\n  if (!window._laq) { \\n  \\twindow._laq = []; \\n  }\\n\\n  window._laq.push( function() {\\n  \\tliveagent.showWhenOnline(\\n  \\t\\t\\'573400000008OR4\\', \\n  \\t\\tdocument.getElementById(\\'liveagent_button_online_573400000008OR4\\')\\n  \\t);\\n  \\tliveagent.showWhenOffline(\\n  \\t\\t\\'573400000008OR4\\', \\n  \\t\\tdocument.getElementById(\\'liveagent_button_offline_573400000008OR4\\')\\n  \\t);\\n  });\\n</script>\\n<script type=\\'text/javascript\\' src=\\'https://c.la2c1.salesforceliveagent.com/content/g/deployment.js\\'></script>\\n<script type=\\'text/javascript\\'>\\n\\tliveagent.init(\\'https://d.la2c1.salesforceliveagent.com/chat\\', \\'572400000008OQu\\', \\'00D40000000MqIX\\');\\n</script>\\n\\n<footer id=\"main-footer\" class=\"internal\">\\n\\n\\t<!-- Main content | Menus and Online Chat -->\\n\\t<div class=\"footer--main-content padded-x-2 padded-b\">\\n\\t\\t<!-- Online -->\\n\\t\\t<!--  <a class=\"support-box\" id=\"liveagent_button_online_573400000008OR4\" style=\"display: none;\" href=\"javascript://Chat\" onclick=\"liveagent.startChat(\\'573400000008OR4\\')\">\\n\\t    </a> -->\\n\\t\\t<!-- Offline -->\\n\\t   <!--  <div class=\"support-box\" id=\"liveagent_button_offline_573400000008OR4\" style=\"display: none;\">\\n\\t    </div> -->\\n\\t\\t<div class=\"container footer-menus max-width padded-x-2\">\\n\\t\\t\\t  <div class=\"l-region l-region--footer\">\\n    <div id=\"block-block-1\" class=\"block block--block colorblock block--block-1\">\\n        <h2 class=\"block__title\">Gov. Jared Polis</h2>\\n      <div class=\"block__content\">\\n     <p><img alt=\"\" class=\"media-image\" height=\"384\" style=\"width: 110px; height: 88px;\" width=\"480\" typeof=\"foaf:Image\" src=\"https://www.colorado.gov/sites/default/files/styles/large/public/governor_polis_img_footer.jpg?itok=AYvATqab\" />\\xc2\\xa0<a href=\"/governor\">Homepage</a></p>\\n<p>\\xc2\\xa0<a href=\"/governor/contact-us\">Contact</a></p>\\n<div class=\"gov-social-links\">\\n<p><a href=\"https://www.facebook.com/jaredpolis\"><img alt=\"\" class=\"media-image\" height=\"58\" style=\"width: 20px; height: 20px;\" width=\"57\" typeof=\"foaf:Image\" src=\"https://www.colorado.gov/sites/default/files/facebook-icon.png\" /></a><a href=\"https://twitter.com/GovofCO\"><img alt=\"\" class=\"media-image\" height=\"47\" style=\"width: 24px; height: 20px;\" width=\"57\" typeof=\"foaf:Image\" src=\"https://www.colorado.gov/sites/default/files/twitter-icon.png\" /></a><a href=\"https://www.instagram.com/govofco/\"><img alt=\"\" class=\"media-image\" height=\"30\" style=\"width: 20px; height: 20px;\" width=\"30\" typeof=\"foaf:Image\" src=\"https://www.colorado.gov/sites/default/files/instgram-icon.png\" /></a></p>\\n</div>\\n   </div>\\n</div>\\n<nav id=\"block-menu-menu-alerts\" role=\"navigation\" class=\"block block--menu block--menu-menu-alerts\">\\n        <h2 class=\"block__title\">Alerts</h2>\\n    \\n  <ul class=\"menu\"><li class=\"first leaf\"><a href=\"https://www.colorado.gov/sites/default/files/ERG_Master_PageView_01.03.19.pdf\" title=\"\">Emergency Response Guide</a></li>\\n<li class=\"leaf\"><a href=\"http://www.dhsem.state.co.us/emergency-management/emergency-management\" title=\"\">Emergency Management</a></li>\\n<li class=\"leaf\"><a href=\"https://www.readycolorado.com/\" title=\"\">Community Preparedness</a></li>\\n<li class=\"leaf\"><a href=\"http://www.dhsem.state.co.us/home\" title=\"\">Homeland Security</a></li>\\n<li class=\"leaf\"><a href=\"http://www.cotrip.org/travelAlerts.htm\" title=\"\">Travel Alerts</a></li>\\n<li class=\"leaf\"><a href=\"http://www.cotrip.org/roadConditions.htm\" title=\"\">Road Conditions</a></li>\\n<li class=\"last leaf\"><a href=\"http://www.oit.state.co.us/ois\" title=\"\">Cyber Security</a></li>\\n</ul></nav>\\n<nav id=\"block-menu-menu-help-center\" role=\"navigation\" class=\"block block--menu accordionclear block--menu-menu-help-center\">\\n        <h2 class=\"block__title\">Help Center</h2>\\n    \\n  <ul class=\"menu\"><li class=\"first leaf\"><a href=\"/state-agencies\" title=\"\">State Agencies</a></li>\\n<li class=\"leaf\"><a href=\"http://www.colorado.gov/apps/oit/directory/start.jsf\" title=\"\">State Employee Directory</a></li>\\n<li class=\"leaf\"><a href=\"https://dashboard.state.co.us/\" title=\"\">Governor&#039;s Dashboard</a></li>\\n<li class=\"leaf\"><a href=\"https://www.colorado.gov/apps/oit/transparency/index.html\" title=\"\">Transparency Online Project (TOPS)</a></li>\\n<li class=\"leaf\"><a href=\"/registered-services\" title=\"\">Registered Services</a></li>\\n<li class=\"leaf\"><a href=\"http://www.colorado.gov/apps/feedback/servlet/begin?application=colorado-cms-website\" title=\"\">Feedback</a></li>\\n<li class=\"leaf\"><a href=\"https://211colorado.communityos.org/cms/home\" title=\"\">211 Health</a></li>\\n<li class=\"leaf\"><a href=\"http://www.wc211.org/\" title=\"\">211 Health Western Colorado</a></li>\\n<li class=\"leaf\"><a href=\"http://www.cotrip.org/home.htm\" title=\"\">511 Traffic</a></li>\\n<li class=\"last leaf\"><a href=\"http://call811.com/\" title=\"\">811 Dig</a></li>\\n</ul></nav>\\n<nav id=\"block-menu-menu-policies\" role=\"navigation\" class=\"block block--menu block--menu-menu-policies\">\\n        <h2 class=\"block__title\">Policies</h2>\\n    \\n  <ul class=\"menu\"><li class=\"first leaf\"><a href=\"/accessibility-standards\" title=\"\">Accessibility</a></li>\\n<li class=\"leaf\"><a href=\"/legal-notices\" title=\"\">Legal Notices</a></li>\\n<li class=\"leaf\"><a href=\"/linking-policy\" title=\"\">Linking Policy</a></li>\\n<li class=\"leaf\"><a href=\"/privacy-statement\" title=\"\">Privacy Statement</a></li>\\n<li class=\"leaf\"><a href=\"/security-statement\" title=\"\">Security Statement</a></li>\\n<li class=\"last leaf\"><a href=\"/supported-browsers\" title=\"\">Supported Browsers</a></li>\\n</ul></nav>\\n  </div>\\n\\t\\t</div>\\n\\t</div>\\n\\n\\t<!-- Copyright and Social -->\\n\\t<div class=\"footer--bottom-content padded-x-2\">\\n\\t\\t<div class=\"container max-width padded-x\">\\n\\t\\t\\t<div class=\"copyright grid--2-3\">\\n\\t\\t\\t\\t&copy; 2020 State of Colorado\\n\\t\\t\\t</div>\\n\\n\\t\\t\\t<div class=\"social-icons grid--1-3\">\\n\\t\\t\\t\\t<a href=\"https://www.facebook.com/Colorado.gov/timeline\" class=\"facebook-icon\" title=\"Visit our Facebook Page\"></a>\\n\\t\\t\\t\\t<a href=\"https://twitter.com/coloradogov\" class=\"twitter-icon\" title=\"Visit our Twitter Feed\" ></a>\\n\\t\\t\\t</div>\\n\\t\\t</div>\\n\\t</div>\\n\\n</footer>    </div>\\n    <!-- end main content -->\\n\\n     <!-- Navigation -->\\n    \\n<div class=\"l-nav is-nav-collapsed\">\\n    <div class=\"l-region l-region--navigation\">\\n    <nav id=\"block-system-main-menu\" role=\"navigation\" class=\"block block--system block--menu block--system-main-menu\">\\n      \\n  <ul class=\"menu\"><li class=\"first leaf\"><a href=\"http://www.colorado.gov/governor\" title=\"\">Governor</a></li>\\n<li class=\"expanded\"><span title=\"\" class=\"nolink\">Government</span><ul class=\"menu\"><li class=\"first leaf\"><a href=\"/state-agencies\" title=\"\">State Agencies</a></li>\\n<li class=\"leaf\"><a href=\"/government-branches\">Branches of Government</a></li>\\n<li class=\"last leaf\"><a href=\"/local-government\" title=\"\">Local Government</a></li>\\n</ul></li>\\n<li class=\"expanded\"><span title=\"\" class=\"nolink\">Business</span><ul class=\"menu\"><li class=\"first leaf\"><a href=\"/businesses-employers\" title=\"\">Businesses &amp; Employers</a></li>\\n<li class=\"last leaf\"><a href=\"/business-resources\" title=\"\">Resources</a></li>\\n</ul></li>\\n<li class=\"expanded\"><span title=\"\" class=\"nolink\">Employment</span><ul class=\"menu\"><li class=\"first leaf\"><a href=\"/jobs-training\" title=\"\">Jobs &amp; Training</a></li>\\n<li class=\"leaf\"><a href=\"/unemployment\">Unemployment</a></li>\\n<li class=\"last leaf\"><a href=\"/professional-licenses\">Professional Licenses</a></li>\\n</ul></li>\\n<li class=\"expanded\"><span title=\"\" class=\"nolink\">Education</span><ul class=\"menu\"><li class=\"first leaf\"><a href=\"/k-12-education\" title=\"\">K - 12 Education</a></li>\\n<li class=\"last leaf\"><a href=\"/higher-education\" title=\"\">Higher Education</a></li>\\n</ul></li>\\n<li class=\"expanded\"><span title=\"\" class=\"nolink\">Residents</span><ul class=\"menu\"><li class=\"first leaf\"><a href=\"/family-resources\">Family Resources</a></li>\\n<li class=\"last leaf\"><a href=\"/civic-resources\">Civic Resources</a></li>\\n</ul></li>\\n<li class=\"expanded\"><span title=\"\" class=\"nolink\">Visitors</span><ul class=\"menu\"><li class=\"first leaf\"><a href=\"/outdoor-activities\">Outdoor Activities</a></li>\\n<li class=\"last leaf\"><a href=\"/leisure-activities\">Leisure Activities</a></li>\\n</ul></li>\\n<li class=\"expanded\"><span title=\"\" class=\"nolink\">About Colorado</span><ul class=\"menu\"><li class=\"first leaf\"><a href=\"/colorado-history\" title=\"\">Colorado&#039;s History</a></li>\\n<li class=\"last leaf\"><a href=\"/state-information\">State Information</a></li>\\n</ul></li>\\n<li class=\"last leaf\"><a href=\"/online-services\" title=\"\">Online Services</a></li>\\n</ul></nav>\\n  </div>\\n</div>\\n\\n<div id=\"nav-info\" class=\"is-hidden\">\\n\\tpress enter to expand a category\\n</div>\\n<!-- end nav -->\\n    \\n  </div>\\n  <!-- end content-container -->\\n    <script type=\"text/javascript\">window.NREUM||(NREUM={});NREUM.info={\"beacon\":\"bam.nr-data.net\",\"licenseKey\":\"b4a288a9ff\",\"applicationID\":\"9085368\",\"transactionName\":\"YQFSMhBXDRcHVkxeC1hLZRQLGQoKAlBAGRReFA==\",\"queueTime\":0,\"applicationTime\":18,\"atts\":\"TUZRRFhNHhk=\",\"errorBeacon\":\"bam.nr-data.net\",\"agent\":\"\"}</script></body>\\n</html>\\n'"
      ]
     },
     "execution_count": 29,
     "metadata": {},
     "output_type": "execute_result"
    }
   ],
   "source": [
    "res2.content"
   ]
  },
  {
   "cell_type": "code",
   "execution_count": 30,
   "metadata": {},
   "outputs": [],
   "source": [
    "bs?\n",
    "from bs4 import BeautifulSoup as bs\n",
    "soup2 = bs(res2.content)"
   ]
  },
  {
   "cell_type": "code",
   "execution_count": 31,
   "metadata": {},
   "outputs": [
    {
     "data": {
      "text/plain": [
       "<!DOCTYPE html>\n",
       "<!--[if IEMobile 7]><html class=\"no-js ie iem7\" lang=\"en\" dir=\"ltr\"><![endif]--><!--[if lte IE 6]><html class=\"no-js ie lt-ie9 lt-ie8 lt-ie7\" lang=\"en\" dir=\"ltr\"><![endif]--><!--[if (IE 7)&(!IEMobile)]><html class=\"no-js ie lt-ie9 lt-ie8\" lang=\"en\" dir=\"ltr\"><![endif]--><!--[if IE 8]><html class=\"no-js ie lt-ie9\" lang=\"en\" dir=\"ltr\"><![endif]--><!--[if (gte IE 9)|(gt IEMobile 7)]><html class=\"no-js ie\" lang=\"en\" dir=\"ltr\" prefix=\"content: http://purl.org/rss/1.0/modules/content/ dc: http://purl.org/dc/terms/ foaf: http://xmlns.com/foaf/0.1/ og: http://ogp.me/ns# rdfs: http://www.w3.org/2000/01/rdf-schema# sioc: http://rdfs.org/sioc/ns# sioct: http://rdfs.org/sioc/types# skos: http://www.w3.org/2004/02/skos/core# xsd: http://www.w3.org/2001/XMLSchema#\"><![endif]--><!--[if !IE]><!--><html class=\"no-js\" dir=\"ltr\" lang=\"en\" prefix=\"content: http://purl.org/rss/1.0/modules/content/ dc: http://purl.org/dc/terms/ foaf: http://xmlns.com/foaf/0.1/ og: http://ogp.me/ns# rdfs: http://www.w3.org/2000/01/rdf-schema# sioc: http://rdfs.org/sioc/ns# sioct: http://rdfs.org/sioc/types# skos: http://www.w3.org/2004/02/skos/core# xsd: http://www.w3.org/2001/XMLSchema#\"><!--<![endif]-->\n",
       "<head>\n",
       "<meta charset=\"utf-8\"/><script type=\"text/javascript\">(window.NREUM||(NREUM={})).loader_config={xpid:\"XQ4BUVJRGwoAXFRRAQk=\",licenseKey:\"b4a288a9ff\",applicationID:\"9085368\"};window.NREUM||(NREUM={}),__nr_require=function(t,n,e){function r(e){if(!n[e]){var o=n[e]={exports:{}};t[e][0].call(o.exports,function(n){var o=t[e][1][n];return r(o||n)},o,o.exports)}return n[e].exports}if(\"function\"==typeof __nr_require)return __nr_require;for(var o=0;o<e.length;o++)r(e[o]);return r}({1:[function(t,n,e){function r(t){try{s.console&&console.log(t)}catch(n){}}var o,i=t(\"ee\"),a=t(21),s={};try{o=localStorage.getItem(\"__nr_flags\").split(\",\"),console&&\"function\"==typeof console.log&&(s.console=!0,o.indexOf(\"dev\")!==-1&&(s.dev=!0),o.indexOf(\"nr_dev\")!==-1&&(s.nrDev=!0))}catch(c){}s.nrDev&&i.on(\"internal-error\",function(t){r(t.stack)}),s.dev&&i.on(\"fn-err\",function(t,n,e){r(e.stack)}),s.dev&&(r(\"NR AGENT IN DEVELOPMENT MODE\"),r(\"flags: \"+a(s,function(t,n){return t}).join(\", \")))},{}],2:[function(t,n,e){function r(t,n,e,r,s){try{p?p-=1:o(s||new UncaughtException(t,n,e),!0)}catch(f){try{i(\"ierr\",[f,c.now(),!0])}catch(d){}}return\"function\"==typeof u&&u.apply(this,a(arguments))}function UncaughtException(t,n,e){this.message=t||\"Uncaught error with no additional information\",this.sourceURL=n,this.line=e}function o(t,n){var e=n?null:c.now();i(\"err\",[t,e])}var i=t(\"handle\"),a=t(22),s=t(\"ee\"),c=t(\"loader\"),f=t(\"gos\"),u=window.onerror,d=!1,l=\"nr@seenError\",p=0;c.features.err=!0,t(1),window.onerror=r;try{throw new Error}catch(h){\"stack\"in h&&(t(9),t(8),\"addEventListener\"in window&&t(5),c.xhrWrappable&&t(10),d=!0)}s.on(\"fn-start\",function(t,n,e){d&&(p+=1)}),s.on(\"fn-err\",function(t,n,e){d&&!e[l]&&(f(e,l,function(){return!0}),this.thrown=!0,o(e))}),s.on(\"fn-end\",function(){d&&!this.thrown&&p>0&&(p-=1)}),s.on(\"internal-error\",function(t){i(\"ierr\",[t,c.now(),!0])})},{}],3:[function(t,n,e){t(\"loader\").features.ins=!0},{}],4:[function(t,n,e){function r(t){}if(window.performance&&window.performance.timing&&window.performance.getEntriesByType){var o=t(\"ee\"),i=t(\"handle\"),a=t(9),s=t(8),c=\"learResourceTimings\",f=\"addEventListener\",u=\"resourcetimingbufferfull\",d=\"bstResource\",l=\"resource\",p=\"-start\",h=\"-end\",m=\"fn\"+p,w=\"fn\"+h,v=\"bstTimer\",g=\"pushState\",y=t(\"loader\");y.features.stn=!0,t(7),\"addEventListener\"in window&&t(5);var x=NREUM.o.EV;o.on(m,function(t,n){var e=t[0];e instanceof x&&(this.bstStart=y.now())}),o.on(w,function(t,n){var e=t[0];e instanceof x&&i(\"bst\",[e,n,this.bstStart,y.now()])}),a.on(m,function(t,n,e){this.bstStart=y.now(),this.bstType=e}),a.on(w,function(t,n){i(v,[n,this.bstStart,y.now(),this.bstType])}),s.on(m,function(){this.bstStart=y.now()}),s.on(w,function(t,n){i(v,[n,this.bstStart,y.now(),\"requestAnimationFrame\"])}),o.on(g+p,function(t){this.time=y.now(),this.startPath=location.pathname+location.hash}),o.on(g+h,function(t){i(\"bstHist\",[location.pathname+location.hash,this.startPath,this.time])}),f in window.performance&&(window.performance[\"c\"+c]?window.performance[f](u,function(t){i(d,[window.performance.getEntriesByType(l)]),window.performance[\"c\"+c]()},!1):window.performance[f](\"webkit\"+u,function(t){i(d,[window.performance.getEntriesByType(l)]),window.performance[\"webkitC\"+c]()},!1)),document[f](\"scroll\",r,{passive:!0}),document[f](\"keypress\",r,!1),document[f](\"click\",r,!1)}},{}],5:[function(t,n,e){function r(t){for(var n=t;n&&!n.hasOwnProperty(u);)n=Object.getPrototypeOf(n);n&&o(n)}function o(t){s.inPlace(t,[u,d],\"-\",i)}function i(t,n){return t[1]}var a=t(\"ee\").get(\"events\"),s=t(\"wrap-function\")(a,!0),c=t(\"gos\"),f=XMLHttpRequest,u=\"addEventListener\",d=\"removeEventListener\";n.exports=a,\"getPrototypeOf\"in Object?(r(document),r(window),r(f.prototype)):f.prototype.hasOwnProperty(u)&&(o(window),o(f.prototype)),a.on(u+\"-start\",function(t,n){var e=t[1],r=c(e,\"nr@wrapped\",function(){function t(){if(\"function\"==typeof e.handleEvent)return e.handleEvent.apply(e,arguments)}var n={object:t,\"function\":e}[typeof e];return n?s(n,\"fn-\",null,n.name||\"anonymous\"):e});this.wrapped=t[1]=r}),a.on(d+\"-start\",function(t){t[1]=this.wrapped||t[1]})},{}],6:[function(t,n,e){function r(t,n,e){var r=t[n];\"function\"==typeof r&&(t[n]=function(){var t=i(arguments),n={};o.emit(e+\"before-start\",[t],n);var a;n[m]&&n[m].dt&&(a=n[m].dt);var s=r.apply(this,t);return o.emit(e+\"start\",[t,a],s),s.then(function(t){return o.emit(e+\"end\",[null,t],s),t},function(t){throw o.emit(e+\"end\",[t],s),t})})}var o=t(\"ee\").get(\"fetch\"),i=t(22),a=t(21);n.exports=o;var s=window,c=\"fetch-\",f=c+\"body-\",u=[\"arrayBuffer\",\"blob\",\"json\",\"text\",\"formData\"],d=s.Request,l=s.Response,p=s.fetch,h=\"prototype\",m=\"nr@context\";d&&l&&p&&(a(u,function(t,n){r(d[h],n,f),r(l[h],n,f)}),r(s,\"fetch\",c),o.on(c+\"end\",function(t,n){var e=this;if(n){var r=n.headers.get(\"content-length\");null!==r&&(e.rxSize=r),o.emit(c+\"done\",[null,n],e)}else o.emit(c+\"done\",[t],e)}))},{}],7:[function(t,n,e){var r=t(\"ee\").get(\"history\"),o=t(\"wrap-function\")(r);n.exports=r;var i=window.history&&window.history.constructor&&window.history.constructor.prototype,a=window.history;i&&i.pushState&&i.replaceState&&(a=i),o.inPlace(a,[\"pushState\",\"replaceState\"],\"-\")},{}],8:[function(t,n,e){var r=t(\"ee\").get(\"raf\"),o=t(\"wrap-function\")(r),i=\"equestAnimationFrame\";n.exports=r,o.inPlace(window,[\"r\"+i,\"mozR\"+i,\"webkitR\"+i,\"msR\"+i],\"raf-\"),r.on(\"raf-start\",function(t){t[0]=o(t[0],\"fn-\")})},{}],9:[function(t,n,e){function r(t,n,e){t[0]=a(t[0],\"fn-\",null,e)}function o(t,n,e){this.method=e,this.timerDuration=isNaN(t[1])?0:+t[1],t[0]=a(t[0],\"fn-\",this,e)}var i=t(\"ee\").get(\"timer\"),a=t(\"wrap-function\")(i),s=\"setTimeout\",c=\"setInterval\",f=\"clearTimeout\",u=\"-start\",d=\"-\";n.exports=i,a.inPlace(window,[s,\"setImmediate\"],s+d),a.inPlace(window,[c],c+d),a.inPlace(window,[f,\"clearImmediate\"],f+d),i.on(c+u,r),i.on(s+u,o)},{}],10:[function(t,n,e){function r(t,n){d.inPlace(n,[\"onreadystatechange\"],\"fn-\",s)}function o(){var t=this,n=u.context(t);t.readyState>3&&!n.resolved&&(n.resolved=!0,u.emit(\"xhr-resolved\",[],t)),d.inPlace(t,g,\"fn-\",s)}function i(t){y.push(t),h&&(b?b.then(a):w?w(a):(E=-E,O.data=E))}function a(){for(var t=0;t<y.length;t++)r([],y[t]);y.length&&(y=[])}function s(t,n){return n}function c(t,n){for(var e in t)n[e]=t[e];return n}t(5);var f=t(\"ee\"),u=f.get(\"xhr\"),d=t(\"wrap-function\")(u),l=NREUM.o,p=l.XHR,h=l.MO,m=l.PR,w=l.SI,v=\"readystatechange\",g=[\"onload\",\"onerror\",\"onabort\",\"onloadstart\",\"onloadend\",\"onprogress\",\"ontimeout\"],y=[];n.exports=u;var x=window.XMLHttpRequest=function(t){var n=new p(t);try{u.emit(\"new-xhr\",[n],n),n.addEventListener(v,o,!1)}catch(e){try{u.emit(\"internal-error\",[e])}catch(r){}}return n};if(c(p,x),x.prototype=p.prototype,d.inPlace(x.prototype,[\"open\",\"send\"],\"-xhr-\",s),u.on(\"send-xhr-start\",function(t,n){r(t,n),i(n)}),u.on(\"open-xhr-start\",r),h){var b=m&&m.resolve();if(!w&&!m){var E=1,O=document.createTextNode(E);new h(a).observe(O,{characterData:!0})}}else f.on(\"fn-end\",function(t){t[0]&&t[0].type===v||a()})},{}],11:[function(t,n,e){function r(t){if(!i(t))return null;var n=window.NREUM;if(!n.loader_config)return null;var e=(n.loader_config.accountID||\"\").toString()||null,r=(n.loader_config.agentID||\"\").toString()||null,s=(n.loader_config.trustKey||\"\").toString()||null;if(!e||!r)return null;var c=a.generateCatId(),f=a.generateCatId(),u=Date.now(),d=o(c,f,u,e,r,s);return{header:d,guid:c,traceId:f,timestamp:u}}function o(t,n,e,r,o,i){var a=\"btoa\"in window&&\"function\"==typeof window.btoa;if(!a)return null;var s={v:[0,1],d:{ty:\"Browser\",ac:r,ap:o,id:t,tr:n,ti:e}};return i&&r!==i&&(s.d.tk=i),btoa(JSON.stringify(s))}function i(t){var n=!1,e=!1,r={};if(\"init\"in NREUM&&\"distributed_tracing\"in NREUM.init&&(r=NREUM.init.distributed_tracing,e=!!r.enabled),e)if(t.sameOrigin)n=!0;else if(r.allowed_origins instanceof Array)for(var o=0;o<r.allowed_origins.length;o++){var i=s(r.allowed_origins[o]);if(t.hostname===i.hostname&&t.protocol===i.protocol&&t.port===i.port){n=!0;break}}return e&&n}var a=t(19),s=t(13);n.exports={generateTracePayload:r,shouldGenerateTrace:i}},{}],12:[function(t,n,e){function r(t){var n=this.params,e=this.metrics;if(!this.ended){this.ended=!0;for(var r=0;r<l;r++)t.removeEventListener(d[r],this.listener,!1);n.aborted||(e.duration=a.now()-this.startTime,this.loadCaptureCalled||4!==t.readyState?null==n.status&&(n.status=0):i(this,t),e.cbTime=this.cbTime,u.emit(\"xhr-done\",[t],t),s(\"xhr\",[n,e,this.startTime]))}}function o(t,n){var e=c(n),r=t.params;r.host=e.hostname+\":\"+e.port,r.pathname=e.pathname,t.parsedOrigin=c(n),t.sameOrigin=t.parsedOrigin.sameOrigin}function i(t,n){t.params.status=n.status;var e=w(n,t.lastSize);if(e&&(t.metrics.rxSize=e),t.sameOrigin){var r=n.getResponseHeader(\"X-NewRelic-App-Data\");r&&(t.params.cat=r.split(\", \").pop())}t.loadCaptureCalled=!0}var a=t(\"loader\");if(a.xhrWrappable){var s=t(\"handle\"),c=t(13),f=t(11).generateTracePayload,u=t(\"ee\"),d=[\"load\",\"error\",\"abort\",\"timeout\"],l=d.length,p=t(\"id\"),h=t(17),m=t(16),w=t(14),v=window.XMLHttpRequest;a.features.xhr=!0,t(10),t(6),u.on(\"new-xhr\",function(t){var n=this;n.totalCbs=0,n.called=0,n.cbTime=0,n.end=r,n.ended=!1,n.xhrGuids={},n.lastSize=null,n.loadCaptureCalled=!1,t.addEventListener(\"load\",function(e){i(n,t)},!1),h&&(h>34||h<10)||window.opera||t.addEventListener(\"progress\",function(t){n.lastSize=t.loaded},!1)}),u.on(\"open-xhr-start\",function(t){this.params={method:t[0]},o(this,t[1]),this.metrics={}}),u.on(\"open-xhr-end\",function(t,n){\"loader_config\"in NREUM&&\"xpid\"in NREUM.loader_config&&this.sameOrigin&&n.setRequestHeader(\"X-NewRelic-ID\",NREUM.loader_config.xpid);var e=f(this.parsedOrigin);e&&e.header&&(n.setRequestHeader(\"newrelic\",e.header),this.dt=e)}),u.on(\"send-xhr-start\",function(t,n){var e=this.metrics,r=t[0],o=this;if(e&&r){var i=m(r);i&&(e.txSize=i)}this.startTime=a.now(),this.listener=function(t){try{\"abort\"!==t.type||o.loadCaptureCalled||(o.params.aborted=!0),(\"load\"!==t.type||o.called===o.totalCbs&&(o.onloadCalled||\"function\"!=typeof n.onload))&&o.end(n)}catch(e){try{u.emit(\"internal-error\",[e])}catch(r){}}};for(var s=0;s<l;s++)n.addEventListener(d[s],this.listener,!1)}),u.on(\"xhr-cb-time\",function(t,n,e){this.cbTime+=t,n?this.onloadCalled=!0:this.called+=1,this.called!==this.totalCbs||!this.onloadCalled&&\"function\"==typeof e.onload||this.end(e)}),u.on(\"xhr-load-added\",function(t,n){var e=\"\"+p(t)+!!n;this.xhrGuids&&!this.xhrGuids[e]&&(this.xhrGuids[e]=!0,this.totalCbs+=1)}),u.on(\"xhr-load-removed\",function(t,n){var e=\"\"+p(t)+!!n;this.xhrGuids&&this.xhrGuids[e]&&(delete this.xhrGuids[e],this.totalCbs-=1)}),u.on(\"addEventListener-end\",function(t,n){n instanceof v&&\"load\"===t[0]&&u.emit(\"xhr-load-added\",[t[1],t[2]],n)}),u.on(\"removeEventListener-end\",function(t,n){n instanceof v&&\"load\"===t[0]&&u.emit(\"xhr-load-removed\",[t[1],t[2]],n)}),u.on(\"fn-start\",function(t,n,e){n instanceof v&&(\"onload\"===e&&(this.onload=!0),(\"load\"===(t[0]&&t[0].type)||this.onload)&&(this.xhrCbStart=a.now()))}),u.on(\"fn-end\",function(t,n){this.xhrCbStart&&u.emit(\"xhr-cb-time\",[a.now()-this.xhrCbStart,this.onload,n],n)}),u.on(\"fetch-before-start\",function(t){var n,e=t[1]||{};\"string\"==typeof t[0]?n=t[0]:t[0]&&t[0].url&&(n=t[0].url),n&&(this.parsedOrigin=c(n),this.sameOrigin=this.parsedOrigin.sameOrigin);var r=f(this.parsedOrigin);if(r&&r.header){var o=r.header;if(\"string\"==typeof t[0]){var i={};for(var a in e)i[a]=e[a];i.headers=new Headers(e.headers||{}),i.headers.set(\"newrelic\",o),this.dt=r,t.length>1?t[1]=i:t.push(i)}else t[0]&&t[0].headers&&(t[0].headers.append(\"newrelic\",o),this.dt=r)}})}},{}],13:[function(t,n,e){var r={};n.exports=function(t){if(t in r)return r[t];var n=document.createElement(\"a\"),e=window.location,o={};n.href=t,o.port=n.port;var i=n.href.split(\"://\");!o.port&&i[1]&&(o.port=i[1].split(\"/\")[0].split(\"@\").pop().split(\":\")[1]),o.port&&\"0\"!==o.port||(o.port=\"https\"===i[0]?\"443\":\"80\"),o.hostname=n.hostname||e.hostname,o.pathname=n.pathname,o.protocol=i[0],\"/\"!==o.pathname.charAt(0)&&(o.pathname=\"/\"+o.pathname);var a=!n.protocol||\":\"===n.protocol||n.protocol===e.protocol,s=n.hostname===document.domain&&n.port===e.port;return o.sameOrigin=a&&(!n.hostname||s),\"/\"===o.pathname&&(r[t]=o),o}},{}],14:[function(t,n,e){function r(t,n){var e=t.responseType;return\"json\"===e&&null!==n?n:\"arraybuffer\"===e||\"blob\"===e||\"json\"===e?o(t.response):\"text\"===e||\"document\"===e||\"\"===e||void 0===e?o(t.responseText):void 0}var o=t(16);n.exports=r},{}],15:[function(t,n,e){function r(){}function o(t,n,e){return function(){return i(t,[f.now()].concat(s(arguments)),n?null:this,e),n?void 0:this}}var i=t(\"handle\"),a=t(21),s=t(22),c=t(\"ee\").get(\"tracer\"),f=t(\"loader\"),u=NREUM;\"undefined\"==typeof window.newrelic&&(newrelic=u);var d=[\"setPageViewName\",\"setCustomAttribute\",\"setErrorHandler\",\"finished\",\"addToTrace\",\"inlineHit\",\"addRelease\"],l=\"api-\",p=l+\"ixn-\";a(d,function(t,n){u[n]=o(l+n,!0,\"api\")}),u.addPageAction=o(l+\"addPageAction\",!0),u.setCurrentRouteName=o(l+\"routeName\",!0),n.exports=newrelic,u.interaction=function(){return(new r).get()};var h=r.prototype={createTracer:function(t,n){var e={},r=this,o=\"function\"==typeof n;return i(p+\"tracer\",[f.now(),t,e],r),function(){if(c.emit((o?\"\":\"no-\")+\"fn-start\",[f.now(),r,o],e),o)try{return n.apply(this,arguments)}catch(t){throw c.emit(\"fn-err\",[arguments,this,t],e),t}finally{c.emit(\"fn-end\",[f.now()],e)}}}};a(\"actionText,setName,setAttribute,save,ignore,onEnd,getContext,end,get\".split(\",\"),function(t,n){h[n]=o(p+n)}),newrelic.noticeError=function(t,n){\"string\"==typeof t&&(t=new Error(t)),i(\"err\",[t,f.now(),!1,n])}},{}],16:[function(t,n,e){n.exports=function(t){if(\"string\"==typeof t&&t.length)return t.length;if(\"object\"==typeof t){if(\"undefined\"!=typeof ArrayBuffer&&t instanceof ArrayBuffer&&t.byteLength)return t.byteLength;if(\"undefined\"!=typeof Blob&&t instanceof Blob&&t.size)return t.size;if(!(\"undefined\"!=typeof FormData&&t instanceof FormData))try{return JSON.stringify(t).length}catch(n){return}}}},{}],17:[function(t,n,e){var r=0,o=navigator.userAgent.match(/Firefox[\\/\\s](\\d+\\.\\d+)/);o&&(r=+o[1]),n.exports=r},{}],18:[function(t,n,e){function r(t,n){var e=t.getEntries();e.forEach(function(t){\"first-paint\"===t.name?c(\"timing\",[\"fp\",Math.floor(t.startTime)]):\"first-contentful-paint\"===t.name&&c(\"timing\",[\"fcp\",Math.floor(t.startTime)])})}function o(t,n){var e=t.getEntries();e.length>0&&c(\"lcp\",[e[e.length-1]])}function i(t){if(t instanceof u&&!l){var n,e=Math.round(t.timeStamp);n=e>1e12?Date.now()-e:f.now()-e,l=!0,c(\"timing\",[\"fi\",e,{type:t.type,fid:n}])}}if(!(\"init\"in NREUM&&\"page_view_timing\"in NREUM.init&&\"enabled\"in NREUM.init.page_view_timing&&NREUM.init.page_view_timing.enabled===!1)){var a,s,c=t(\"handle\"),f=t(\"loader\"),u=NREUM.o.EV;if(\"PerformanceObserver\"in window&&\"function\"==typeof window.PerformanceObserver){a=new PerformanceObserver(r),s=new PerformanceObserver(o);try{a.observe({entryTypes:[\"paint\"]}),s.observe({entryTypes:[\"largest-contentful-paint\"]})}catch(d){}}if(\"addEventListener\"in document){var l=!1,p=[\"click\",\"keydown\",\"mousedown\",\"pointerdown\",\"touchstart\"];p.forEach(function(t){document.addEventListener(t,i,!1)})}}},{}],19:[function(t,n,e){function r(){function t(){return n?15&n[e++]:16*Math.random()|0}var n=null,e=0,r=window.crypto||window.msCrypto;r&&r.getRandomValues&&(n=r.getRandomValues(new Uint8Array(31)));for(var o,i=\"xxxxxxxx-xxxx-4xxx-yxxx-xxxxxxxxxxxx\",a=\"\",s=0;s<i.length;s++)o=i[s],\"x\"===o?a+=t().toString(16):\"y\"===o?(o=3&t()|8,a+=o.toString(16)):a+=o;return a}function o(){function t(){return n?15&n[e++]:16*Math.random()|0}var n=null,e=0,r=window.crypto||window.msCrypto;r&&r.getRandomValues&&Uint8Array&&(n=r.getRandomValues(new Uint8Array(31)));for(var o=[],i=0;i<16;i++)o.push(t().toString(16));return o.join(\"\")}n.exports={generateUuid:r,generateCatId:o}},{}],20:[function(t,n,e){function r(t,n){if(!o)return!1;if(t!==o)return!1;if(!n)return!0;if(!i)return!1;for(var e=i.split(\".\"),r=n.split(\".\"),a=0;a<r.length;a++)if(r[a]!==e[a])return!1;return!0}var o=null,i=null,a=/Version\\/(\\S+)\\s+Safari/;if(navigator.userAgent){var s=navigator.userAgent,c=s.match(a);c&&s.indexOf(\"Chrome\")===-1&&s.indexOf(\"Chromium\")===-1&&(o=\"Safari\",i=c[1])}n.exports={agent:o,version:i,match:r}},{}],21:[function(t,n,e){function r(t,n){var e=[],r=\"\",i=0;for(r in t)o.call(t,r)&&(e[i]=n(r,t[r]),i+=1);return e}var o=Object.prototype.hasOwnProperty;n.exports=r},{}],22:[function(t,n,e){function r(t,n,e){n||(n=0),\"undefined\"==typeof e&&(e=t?t.length:0);for(var r=-1,o=e-n||0,i=Array(o<0?0:o);++r<o;)i[r]=t[n+r];return i}n.exports=r},{}],23:[function(t,n,e){n.exports={exists:\"undefined\"!=typeof window.performance&&window.performance.timing&&\"undefined\"!=typeof window.performance.timing.navigationStart}},{}],ee:[function(t,n,e){function r(){}function o(t){function n(t){return t&&t instanceof r?t:t?c(t,s,i):i()}function e(e,r,o,i){if(!l.aborted||i){t&&t(e,r,o);for(var a=n(o),s=m(e),c=s.length,f=0;f<c;f++)s[f].apply(a,r);var d=u[y[e]];return d&&d.push([x,e,r,a]),a}}function p(t,n){g[t]=m(t).concat(n)}function h(t,n){var e=g[t];if(e)for(var r=0;r<e.length;r++)e[r]===n&&e.splice(r,1)}function m(t){return g[t]||[]}function w(t){return d[t]=d[t]||o(e)}function v(t,n){f(t,function(t,e){n=n||\"feature\",y[e]=n,n in u||(u[n]=[])})}var g={},y={},x={on:p,addEventListener:p,removeEventListener:h,emit:e,get:w,listeners:m,context:n,buffer:v,abort:a,aborted:!1};return x}function i(){return new r}function a(){(u.api||u.feature)&&(l.aborted=!0,u=l.backlog={})}var s=\"nr@context\",c=t(\"gos\"),f=t(21),u={},d={},l=n.exports=o();l.backlog=u},{}],gos:[function(t,n,e){function r(t,n,e){if(o.call(t,n))return t[n];var r=e();if(Object.defineProperty&&Object.keys)try{return Object.defineProperty(t,n,{value:r,writable:!0,enumerable:!1}),r}catch(i){}return t[n]=r,r}var o=Object.prototype.hasOwnProperty;n.exports=r},{}],handle:[function(t,n,e){function r(t,n,e,r){o.buffer([t],r),o.emit(t,n,e)}var o=t(\"ee\").get(\"handle\");n.exports=r,r.ee=o},{}],id:[function(t,n,e){function r(t){var n=typeof t;return!t||\"object\"!==n&&\"function\"!==n?-1:t===window?0:a(t,i,function(){return o++})}var o=1,i=\"nr@id\",a=t(\"gos\");n.exports=r},{}],loader:[function(t,n,e){function r(){if(!E++){var t=b.info=NREUM.info,n=p.getElementsByTagName(\"script\")[0];if(setTimeout(u.abort,3e4),!(t&&t.licenseKey&&t.applicationID&&n))return u.abort();f(y,function(n,e){t[n]||(t[n]=e)}),c(\"mark\",[\"onload\",a()+b.offset],null,\"api\");var e=p.createElement(\"script\");e.src=\"https://\"+t.agent,n.parentNode.insertBefore(e,n)}}function o(){\"complete\"===p.readyState&&i()}function i(){c(\"mark\",[\"domContent\",a()+b.offset],null,\"api\")}function a(){return O.exists&&performance.now?Math.round(performance.now()):(s=Math.max((new Date).getTime(),s))-b.offset}var s=(new Date).getTime(),c=t(\"handle\"),f=t(21),u=t(\"ee\"),d=t(20),l=window,p=l.document,h=\"addEventListener\",m=\"attachEvent\",w=l.XMLHttpRequest,v=w&&w.prototype;NREUM.o={ST:setTimeout,SI:l.setImmediate,CT:clearTimeout,XHR:w,REQ:l.Request,EV:l.Event,PR:l.Promise,MO:l.MutationObserver};var g=\"\"+location,y={beacon:\"bam.nr-data.net\",errorBeacon:\"bam.nr-data.net\",agent:\"js-agent.newrelic.com/nr-1167.min.js\"},x=w&&v&&v[h]&&!/CriOS/.test(navigator.userAgent),b=n.exports={offset:s,now:a,origin:g,features:{},xhrWrappable:x,userAgent:d};t(15),t(18),p[h]?(p[h](\"DOMContentLoaded\",i,!1),l[h](\"load\",r,!1)):(p[m](\"onreadystatechange\",o),l[m](\"onload\",r)),c(\"mark\",[\"firstbyte\",s],null,\"api\");var E=0,O=t(23)},{}],\"wrap-function\":[function(t,n,e){function r(t){return!(t&&t instanceof Function&&t.apply&&!t[a])}var o=t(\"ee\"),i=t(22),a=\"nr@original\",s=Object.prototype.hasOwnProperty,c=!1;n.exports=function(t,n){function e(t,n,e,o){function nrWrapper(){var r,a,s,c;try{a=this,r=i(arguments),s=\"function\"==typeof e?e(r,a):e||{}}catch(f){l([f,\"\",[r,a,o],s])}u(n+\"start\",[r,a,o],s);try{return c=t.apply(a,r)}catch(d){throw u(n+\"err\",[r,a,d],s),d}finally{u(n+\"end\",[r,a,c],s)}}return r(t)?t:(n||(n=\"\"),nrWrapper[a]=t,d(t,nrWrapper),nrWrapper)}function f(t,n,o,i){o||(o=\"\");var a,s,c,f=\"-\"===o.charAt(0);for(c=0;c<n.length;c++)s=n[c],a=t[s],r(a)||(t[s]=e(a,f?s+o:o,i,s))}function u(e,r,o){if(!c||n){var i=c;c=!0;try{t.emit(e,r,o,n)}catch(a){l([a,e,r,o])}c=i}}function d(t,n){if(Object.defineProperty&&Object.keys)try{var e=Object.keys(t);return e.forEach(function(e){Object.defineProperty(n,e,{get:function(){return t[e]},set:function(n){return t[e]=n,n}})}),n}catch(r){l([r])}for(var o in t)s.call(t,o)&&(n[o]=t[o]);return n}function l(n){try{t.emit(\"internal-error\",n)}catch(e){}}return t||(t=o),e.inPlace=f,e.flag=a,e}},{}]},{},[\"loader\",2,12,4,3]);</script>\n",
       "<meta content=\"Drupal 7 (http://drupal.org)\" name=\"Generator\"/>\n",
       "<link href=\"https://www.colorado.gov/sites/default/files/favicon.ico\" rel=\"shortcut icon\" type=\"image/vnd.microsoft.icon\"/>\n",
       "<link href=\"https://www.w3.org/1999/xhtml/vocab\" rel=\"profile\"/>\n",
       "<meta content=\"true\" name=\"HandheldFriendly\"/>\n",
       "<meta content=\"width\" name=\"MobileOptimized\"/>\n",
       "<meta content=\"on\" http-equiv=\"cleartype\"/>\n",
       "<link href=\"https://www.colorado.gov/sites/all/themes/omega/omega/apple-touch-icon-precomposed-114x114.png\" rel=\"apple-touch-icon-precomposed\" sizes=\"114x114\"/>\n",
       "<link href=\"https://www.colorado.gov/sites/all/themes/omega/omega/apple-touch-icon-precomposed-144x144.png\" rel=\"apple-touch-icon-precomposed\" sizes=\"144x144\"/>\n",
       "<link href=\"https://www.colorado.gov/sites/all/themes/omega/omega/apple-touch-icon-precomposed-72x72.png\" rel=\"apple-touch-icon-precomposed\" sizes=\"72x72\"/>\n",
       "<link href=\"https://www.colorado.gov/sites/all/themes/omega/omega/apple-touch-icon-precomposed.png\" rel=\"apple-touch-icon-precomposed\"/>\n",
       "<meta content=\"width=device-width, minimum-scale=1.0, maximum-scale=1.0\" name=\"viewport\"/>\n",
       "<title>Latest News | Colorado.gov</title>\n",
       "<link href=\"https://www.colorado.gov/sites/default/files/css/css_ouuKCcMsO3ATXMWUHVi4N-VhoTgdR1DttsA324xlXwg.css\" media=\"all\" rel=\"stylesheet\" type=\"text/css\"/>\n",
       "<link href=\"https://www.colorado.gov/sites/default/files/css/css_2pJEPuHW5oZeN4Qn4xiBcgeJRJfXZ0dYoaFyWPYtWNE.css\" media=\"all\" rel=\"stylesheet\" type=\"text/css\"/>\n",
       "<link href=\"https://www.colorado.gov/sites/default/files/css/css_5nHOwVT1EAsMudMDGg1Bv8q5SZHis6mk0cmlxOSRk-Q.css\" media=\"all\" rel=\"stylesheet\" type=\"text/css\"/>\n",
       "<!--[if lte IE 8]>\n",
       "<link type=\"text/css\" rel=\"stylesheet\" href=\"https://www.colorado.gov/sites/all/themes/colorado_gov/css/ie-lte-8.css?q58u70\" media=\"all\" />\n",
       "<![endif]-->\n",
       "<!--[if lte IE 7]>\n",
       "<link type=\"text/css\" rel=\"stylesheet\" href=\"https://www.colorado.gov/sites/all/themes/colorado_gov/css/ie-lte-7.css?q58u70\" media=\"all\" />\n",
       "<![endif]-->\n",
       "<!--[if IE 6]>\n",
       "<link type=\"text/css\" rel=\"stylesheet\" href=\"https://www.colorado.gov/sites/all/themes/colorado_gov/css/ie-6.css?q58u70\" media=\"all\" />\n",
       "<![endif]-->\n",
       "<link href=\"https://www.colorado.gov/sites/default/files/css/css_jUBkLqZj-a-eIfZHLE7nQO3ql3oGtU-UyRvyVuuZAXQ.css\" media=\"all\" rel=\"stylesheet\" type=\"text/css\"/>\n",
       "<script>document.cookie = 'adaptive_image=' + Math.max(screen.width, screen.height) + '; path=/';</script>\n",
       "<script src=\"https://www.colorado.gov/sites/default/files/js/js_xmSTppMSa146VwDF2wc_0CgRKXlO4AFRpDnC9PxTCzw.js\"></script>\n",
       "<script src=\"https://www.colorado.gov/sites/default/files/js/js_H7q2xORKmR9AN8Qx5spKEIBp7R_wG2apAswJoCUZY7I.js\"></script>\n",
       "<script src=\"https://www.colorado.gov/sites/default/files/js/js_LYnsNokJ3hCwYVzOkOBap0cPdxFI3f_jpkPxZtvMMyw.js\"></script>\n",
       "<!--[if (gte IE 6)&(lte IE 8)]>\n",
       "<script src=\"https://www.colorado.gov/sites/default/files/js/js_A_U-5-tob6Ni8NWZVDSwNIGfUBPEmx51QxDhZbBIRGc.js\"></script>\n",
       "<![endif]-->\n",
       "<script src=\"https://www.colorado.gov/sites/default/files/js/js_mEGA-lkaqzKTJb0LnmIlSIvq7SSVWKJgsdzqLCdsx1g.js\"></script>\n",
       "<script defer=\"defer\" src=\"//script.crazyegg.com/pages/scripts/0011/7387.js\"></script>\n",
       "<script src=\"https://www.colorado.gov/sites/default/files/js/js_gPqjYq7fqdMzw8-29XWQIVoDSWTmZCGy9OqaHppNxuQ.js\"></script>\n",
       "<script>(function(i,s,o,g,r,a,m){i[\"GoogleAnalyticsObject\"]=r;i[r]=i[r]||function(){(i[r].q=i[r].q||[]).push(arguments)},i[r].l=1*new Date();a=s.createElement(o),m=s.getElementsByTagName(o)[0];a.async=1;a.src=g;m.parentNode.insertBefore(a,m)})(window,document,\"script\",\"https://www.google-analytics.com/analytics.js\",\"ga\");ga(\"create\", \"UA-15981586-5\", {\"cookieDomain\":\"auto\"});ga(\"require\", \"linkid\", \"linkid.js\");ga(\"require\", \"displayfeatures\");ga(\"set\", \"anonymizeIp\", true);ga(\"send\", \"pageview\");</script>\n",
       "<script src=\"https://www.colorado.gov/sites/default/files/js/js_XxnCis21icV6euhAXEKEYO-Fd0jBJpnruJ7EXMN160g.js\"></script>\n",
       "<script src=\"https://www.colorado.gov/sites/default/files/js/js_e8UIpcMWDGOtm-L2V9aNE7iw_2pLaL25jIgWwV6F-BA.js\"></script>\n",
       "<script>jQuery.extend(Drupal.settings, {\"basePath\":\"\\/\",\"pathPrefix\":\"\",\"urlIsAjaxTrusted\":{\"\\/news\":true},\"facetapi\":{\"facets\":[{\"limit\":\"20\",\"id\":\"facetapi-facet-search-apistate-agencies-index-block-field-executive-office\",\"searcher\":\"search_api@state_agencies_index\",\"realmName\":\"block\",\"facetName\":\"field_executive_office\",\"queryType\":null,\"widget\":\"facetapi_links\",\"showMoreText\":\"Show more\",\"showFewerText\":\"Show fewer\"},{\"limit\":20,\"id\":\"facetapi-facet-search-apistate-agencies-index-block-field-state-agency-related\",\"searcher\":\"search_api@state_agencies_index\",\"realmName\":\"block\",\"facetName\":\"field_state_agency_related\",\"queryType\":null,\"widget\":\"facetapi_links\",\"showMoreText\":\"Show more\",\"showFewerText\":\"Show fewer\"},{\"limit\":\"20\",\"id\":\"facetapi-facet-search-apistate-agencies-index-block-field-executive-officename\",\"searcher\":\"search_api@state_agencies_index\",\"realmName\":\"block\",\"facetName\":\"field_executive_office:name\",\"queryType\":null,\"widget\":\"collapsible\",\"showMoreText\":\"Show more\",\"showFewerText\":\"Show fewer\"},{\"limit\":\"20\",\"id\":\"facetapi-facet-search-apistate-agencies-index-block-field-state-agencyname\",\"searcher\":\"search_api@state_agencies_index\",\"realmName\":\"block\",\"facetName\":\"field_state_agency:name\",\"queryType\":null,\"widget\":\"collapsible\",\"showMoreText\":\"Show more\",\"showFewerText\":\"Show fewer\"}]},\"equalHeightsModule\":{\"classes\":[{\"selector\":\"#latest_news-block, .bean-tiles .sixth\",\"mediaquery\":\"\",\"minheight\":\"\",\"maxheight\":\"\",\"overflow\":\"auto\"},{\"selector\":\".card\",\"mediaquery\":\"\",\"minheight\":\"\",\"maxheight\":\"\",\"overflow\":\"auto\"},{\"selector\":\"#contact-overlay .card p\",\"mediaquery\":\"\",\"minheight\":\"\",\"maxheight\":\"\",\"overflow\":\"auto\"},{\"selector\":\"#contact-overlay .card\",\"mediaquery\":\"\",\"minheight\":\"322\",\"maxheight\":\"\",\"overflow\":\"auto\"}],\"imagesloaded_ie8\":1},\"googleanalytics\":{\"trackOutbound\":1,\"trackMailto\":1,\"trackDownload\":1,\"trackDownloadExtensions\":\"7z|aac|arc|arj|asf|asx|avi|bin|csv|doc(x|m)?|dot(x|m)?|exe|flv|gif|gz|gzip|hqx|jar|jpe?g|js|mp(2|3|4|e?g)|mov(ie)?|msi|msp|pdf|phps|png|ppt(x|m)?|pot(x|m)?|pps(x|m)?|ppam|sld(x|m)?|thmx|qtm?|ra(m|r)?|sea|sit|tar|tgz|torrent|txt|wav|wma|wmv|wpd|xls(x|m|b)?|xlt(x|m)|xlam|xml|z|zip\"},\"facetapi_collapsible\":{\"field_executive_office:name\":{\"keep_open\":0,\"expand\":0,\"collapsible_children\":1},\"field_state_agency:name\":{\"keep_open\":0,\"expand\":0,\"collapsible_children\":1}}});</script>\n",
       "</head>\n",
       "<body class=\"html not-front not-logged-in page-news section-news\">\n",
       "<a class=\"element-invisible element-focusable\" href=\"#main-content\">Skip to main content</a>\n",
       "<!-- Header -->\n",
       "<!-- Alerts -->\n",
       "<header class=\"\" id=\"main-header\">\n",
       "<div class=\"container\">\n",
       "<a class=\"site-logo\" href=\"/\" rel=\"home\" title=\"Home\">\n",
       "<img alt=\"Home\" id=\"main-logo\" src=\"/sites/all/themes/colorado_gov/logo.svg\"/>\n",
       "</a>\n",
       "<ul class=\"header-utilities\">\n",
       "<li class=\"search-btn\">Search</li>\n",
       "<li class=\"contact-us-btn\">Contact Us</li>\n",
       "<li class=\"menu-toggle-btn \"><span class=\"hamburger\"></span><span class=\"menu-toggle-title\">Menu</span></li>\n",
       "</ul>\n",
       "</div>\n",
       "</header>\n",
       "<!-- end header -->\n",
       "<div class=\"content-container\">\n",
       "<div class=\"main-content\" id=\"main-content\">\n",
       "<!-- Title -->\n",
       "<div class=\"grid--row padded-x-2 grey\">\n",
       "<div class=\"grid--2-3 rwd\">\n",
       "<h1 class=\"heading--news\">Latest News</h1>\n",
       "</div>\n",
       "<div class=\"grid--1-3 rwd\">\n",
       "<ul class=\"breadcrumb\">\n",
       "<li><a href=\"/\">Home</a></li>\n",
       "<li>News</li>\n",
       "</ul>\n",
       "</div>\n",
       "</div>\n",
       "<div class=\"grid--row padded-x-2\">\n",
       "<!-- Main Content -->\n",
       "<main class=\"grid--4-5\">\n",
       "<div class=\"content-wrap\">\n",
       "<div class=\"view view-nv view-id-nv view-display-id-page view-dom-id-919fe3251d0e664b0718760b93191ced\">\n",
       "<div class=\"view-content\">\n",
       "<h3>February</h3>\n",
       "<div class=\"views-row views-row-1 views-row-odd views-row-first views-row-last\">\n",
       "<div class=\"view-page-item\">\n",
       "<div class=\"date margin-b\">\n",
       "<span class=\"field-content\"><span class=\"date-display-single\" content=\"2020-02-17T07:54:43-07:00\" datatype=\"xsd:dateTime\" property=\"dc:date\">Monday, February 17, 2020</span></span></div>\n",
       "<h3 class=\"no-padding x-small lighter-text\"><span class=\"field-content\"><a href=\"https://www.colorado.gov/pacific/cssrc/news/schoolsafetygov-launches-help-educators-administrators-parents-and-law-enforcement-prepare\">SchoolSafety.gov Launches to Help Educators, Administrators, Parents, and Law Enforcement Prepare for Threats</a></span></h3>\n",
       "<div class=\"margin-b lighter-text smaller-text-views\">\n",
       "<span class=\"field-content\">From Department of Public Safety, School Safety Resource Center  </span></div>\n",
       "</div> </div>\n",
       "<h3>January</h3>\n",
       "<div class=\"views-row views-row-1 views-row-odd views-row-first views-row-last\">\n",
       "<div class=\"view-page-item\">\n",
       "<div class=\"date margin-b\">\n",
       "<span class=\"field-content\"><span class=\"date-display-single\" content=\"2020-01-23T10:42:41-07:00\" datatype=\"xsd:dateTime\" property=\"dc:date\">Thursday, January 23, 2020</span></span></div>\n",
       "<h3 class=\"no-padding x-small lighter-text\"><span class=\"field-content\"><a href=\"https://www.colorado.gov/pacific/hcpf/news/report-shows-hospitals-continue-increase-prices-coloradans-private-insurance\">Report Shows Hospitals Continue to Increase Prices for Coloradans with Private Insurance</a></span></h3>\n",
       "<div class=\"margin-b lighter-text smaller-text-views\">\n",
       "<span class=\"field-content\">From Department of Health Care Policy and Financing  </span></div>\n",
       "</div> </div>\n",
       "<h3>December</h3>\n",
       "<div class=\"views-row views-row-1 views-row-odd views-row-first views-row-last\">\n",
       "<div class=\"view-page-item\">\n",
       "<div class=\"date margin-b\">\n",
       "<span class=\"field-content\"><span class=\"date-display-single\" content=\"2019-12-19T15:52:12-07:00\" datatype=\"xsd:dateTime\" property=\"dc:date\">Thursday, December 19, 2019</span></span></div>\n",
       "<h3 class=\"no-padding x-small lighter-text\"><span class=\"field-content\"><a href=\"https://www.colorado.gov/pacific/hcpf/news/colorado-medicaid-selected-federal-program-reduce-maternal-opioid-misuse\">Colorado Medicaid Selected for Federal Program  to Reduce Maternal Opioid Misuse</a></span></h3>\n",
       "<div class=\"margin-b lighter-text smaller-text-views\">\n",
       "<span class=\"field-content\">From Department of Health Care Policy and Financing  </span></div>\n",
       "</div> </div>\n",
       "<h3>November</h3>\n",
       "<div class=\"views-row views-row-1 views-row-odd views-row-first\">\n",
       "<div class=\"view-page-item\">\n",
       "<div class=\"date margin-b\">\n",
       "<span class=\"field-content\"><span class=\"date-display-single\" content=\"2019-11-27T15:21:10-07:00\" datatype=\"xsd:dateTime\" property=\"dc:date\">Wednesday, November 27, 2019</span></span></div>\n",
       "<h3 class=\"no-padding x-small lighter-text\"><span class=\"field-content\"><a href=\"https://www.colorado.gov/pacific/cdle/news/public-comment-open-colorado-overtime-rule\">Public Comment Open for Colorado Overtime Rule</a></span></h3>\n",
       "<div class=\"margin-b lighter-text smaller-text-views\">\n",
       "<span class=\"field-content\">From Department of Labor and Employment  </span></div>\n",
       "</div> </div>\n",
       "<div class=\"views-row views-row-2 views-row-even\">\n",
       "<div class=\"view-page-item\">\n",
       "<div class=\"date margin-b\">\n",
       "<span class=\"field-content\"><span class=\"date-display-single\" content=\"2019-11-26T18:07:26-07:00\" datatype=\"xsd:dateTime\" property=\"dc:date\">Tuesday, November 26, 2019</span></span></div>\n",
       "<h3 class=\"no-padding x-small lighter-text\"><span class=\"field-content\"><a href=\"https://www.colorado.gov/pacific/cdle/news/expected-revisions-colorado-nonfarm-payroll-jobs-2\">Expected Revisions to Colorado Nonfarm Payroll Jobs</a></span></h3>\n",
       "<div class=\"margin-b lighter-text smaller-text-views\">\n",
       "<span class=\"field-content\">From Department of Labor and Employment  </span></div>\n",
       "</div> </div>\n",
       "<div class=\"views-row views-row-3 views-row-odd\">\n",
       "<div class=\"view-page-item\">\n",
       "<div class=\"date margin-b\">\n",
       "<span class=\"field-content\"><span class=\"date-display-single\" content=\"2019-11-25T13:04:30-07:00\" datatype=\"xsd:dateTime\" property=\"dc:date\">Monday, November 25, 2019</span></span></div>\n",
       "<h3 class=\"no-padding x-small lighter-text\"><span class=\"field-content\"><a href=\"https://www.colorado.gov/pacific/cdle/news/gov-jared-polis-joins-20-state-agencies-rural-state-job-and-resource-fair\">Gov. Jared Polis Joins 20+ State Agencies in Rural State Job and Resource Fair </a></span></h3>\n",
       "<div class=\"margin-b lighter-text smaller-text-views\">\n",
       "<span class=\"field-content\">From Department of Labor and Employment  </span></div>\n",
       "</div> </div>\n",
       "<div class=\"views-row views-row-4 views-row-even\">\n",
       "<div class=\"view-page-item\">\n",
       "<div class=\"date margin-b\">\n",
       "<span class=\"field-content\"><span class=\"date-display-single\" content=\"2019-11-18T16:53:37-07:00\" datatype=\"xsd:dateTime\" property=\"dc:date\">Monday, November 18, 2019</span></span></div>\n",
       "<h3 class=\"no-padding x-small lighter-text\"><span class=\"field-content\"><a href=\"https://www.colorado.gov/pacific/cdle/news/colorado-employment-situation-october-2019\">Colorado Employment Situation - October 2019</a></span></h3>\n",
       "<div class=\"margin-b lighter-text smaller-text-views\">\n",
       "<span class=\"field-content\">From Department of Labor and Employment  </span></div>\n",
       "</div> </div>\n",
       "<div class=\"views-row views-row-5 views-row-odd\">\n",
       "<div class=\"view-page-item\">\n",
       "<div class=\"date margin-b\">\n",
       "<span class=\"field-content\"><span class=\"date-display-single\" content=\"2019-11-15T15:06:33-07:00\" datatype=\"xsd:dateTime\" property=\"dc:date\">Friday, November 15, 2019</span></span></div>\n",
       "<h3 class=\"no-padding x-small lighter-text\"><span class=\"field-content\"><a href=\"https://www.colorado.gov/pacific/hcpf/news/public-option-recommendation-make-health-care-more-affordable-0\">Public Option Recommendation to Make Health Care More Affordable</a></span></h3>\n",
       "<div class=\"margin-b lighter-text smaller-text-views\">\n",
       "<span class=\"field-content\">From Department of Health Care Policy and Financing  </span></div>\n",
       "</div> </div>\n",
       "<div class=\"views-row views-row-6 views-row-even\">\n",
       "<div class=\"view-page-item\">\n",
       "<div class=\"date margin-b\">\n",
       "<span class=\"field-content\"><span class=\"date-display-single\" content=\"2019-11-12T11:29:14-07:00\" datatype=\"xsd:dateTime\" property=\"dc:date\">Tuesday, November 12, 2019</span></span></div>\n",
       "<h3 class=\"no-padding x-small lighter-text\"><span class=\"field-content\"><a href=\"https://www.colorado.gov/pacific/cdle/news/state-agencies-hold-job-fair-november-23\">State Agencies to Hold Job Fair November 23</a></span></h3>\n",
       "<div class=\"margin-b lighter-text smaller-text-views\">\n",
       "<span class=\"field-content\">From Department of Labor and Employment  </span></div>\n",
       "</div> </div>\n",
       "<div class=\"views-row views-row-7 views-row-odd views-row-last\">\n",
       "<div class=\"view-page-item\">\n",
       "<div class=\"date margin-b\">\n",
       "<span class=\"field-content\"><span class=\"date-display-single\" content=\"2019-11-06T11:46:50-07:00\" datatype=\"xsd:dateTime\" property=\"dc:date\">Wednesday, November 6, 2019</span></span></div>\n",
       "<h3 class=\"no-padding x-small lighter-text\"><span class=\"field-content\"><a href=\"https://www.colorado.gov/pacific/cdle/news/%E2%80%9Capprenticeships-make-colorado-stronger%E2%80%9D-%E2%80%94-business-experiential-learning-commission-and-lt-gov\">“Apprenticeships Make Colorado Stronger” — Business Experiential-Learning Commission and Lt. Gov. Primavera Honor Apprenticeship Advocates in “Celebration of Excellence” Award Ceremony </a></span></h3>\n",
       "<div class=\"margin-b lighter-text smaller-text-views\">\n",
       "<span class=\"field-content\">From Department of Labor and Employment  </span></div>\n",
       "</div> </div>\n",
       "</div>\n",
       "<h2 class=\"element-invisible\">Pages</h2><ul class=\"pager\"><li class=\"pager__item pager__item--current\">1</li>\n",
       "<li class=\"pager__item\"><a href=\"/news?page=1\" title=\"Go to page 2\">2</a></li>\n",
       "<li class=\"pager__item\"><a href=\"/news?page=2\" title=\"Go to page 3\">3</a></li>\n",
       "<li class=\"pager__item\"><a href=\"/news?page=3\" title=\"Go to page 4\">4</a></li>\n",
       "<li class=\"pager__item\"><a href=\"/news?page=4\" title=\"Go to page 5\">5</a></li>\n",
       "<li class=\"pager__item\"><a href=\"/news?page=5\" title=\"Go to page 6\">6</a></li>\n",
       "<li class=\"pager__item\"><a href=\"/news?page=6\" title=\"Go to page 7\">7</a></li>\n",
       "<li class=\"pager__item\"><a href=\"/news?page=7\" title=\"Go to page 8\">8</a></li>\n",
       "<li class=\"pager__item\"><a href=\"/news?page=8\" title=\"Go to page 9\">9</a></li>\n",
       "<li class=\"pager__item pager__item--ellipsis\">…</li>\n",
       "<li class=\"pager__item pager__item--next\"><a href=\"/news?page=1\" title=\"Go to next page\">next ›</a></li>\n",
       "<li class=\"pager__item pager__item--last\"><a href=\"/news?page=69\"></a></li>\n",
       "</ul>\n",
       "</div> </div>\n",
       "</main>\n",
       "<!-- Sidebar -->\n",
       "<aside aria-label=\"filter by\" class=\"grid--1-5\">\n",
       "<aside class=\"l-region l-region--sidebar-second\">\n",
       "<div class=\"block block--facetapi facetapi-collapsible block--facetapi-ufxklr9hzq4mu3iozrjuhh4a5yfwprnj\" id=\"block-facetapi-ufxklr9hzq4mu3iozrjuhh4a5yfwprnj\">\n",
       "<h2 class=\"block__title\">Executive Office</h2>\n",
       "<div class=\"block__content\">\n",
       "<div class=\"facet-collapsible-wrapper\" id=\"facet-collapsible-field-executive-office:name\"><ul class=\"facetapi-collapsible facetapi-facet-field-executive-officename facetapi-collapsible\" id=\"facetapi-facet-search-apistate-agencies-index-block-field-executive-officename\"><li class=\"leaf\"><div class=\"facetapi-facet facetapi-inactive\"><a class=\"facetapi-inactive\" href=\"/news?f%5B0%5D=field_executive_office%253Aname%3AOffice%20of%20the%20Governor\" id=\"facetapi-link--3\" rel=\"nofollow\">Office of the Governor (207)<span class=\"element-invisible\"> Apply Office of the Governor filter </span></a></div></li>\n",
       "<li class=\"leaf\"><div class=\"facetapi-facet facetapi-inactive\"><a class=\"facetapi-inactive\" href=\"/news?f%5B0%5D=field_executive_office%253Aname%3AOffice%20of%20Lieutenant%20Governor\" id=\"facetapi-link--4\" rel=\"nofollow\">Office of Lieutenant Governor (24)<span class=\"element-invisible\"> Apply Office of Lieutenant Governor filter </span></a></div></li>\n",
       "</ul></div> </div>\n",
       "</div>\n",
       "<div class=\"block block--facetapi facetapi-collapsible block--facetapi-pd0ucomka8gmv2rffe1s6y7xxo4qru2n\" id=\"block-facetapi-pd0ucomka8gmv2rffe1s6y7xxo4qru2n\">\n",
       "<h2 class=\"block__title\">State Agency</h2>\n",
       "<div class=\"block__content\">\n",
       "<div class=\"facet-collapsible-wrapper\" id=\"facet-collapsible-field-state-agency:name\"><ul class=\"facetapi-collapsible facetapi-facet-field-state-agencyname facetapi-collapsible\" id=\"facetapi-facet-search-apistate-agencies-index-block-field-state-agencyname\"><li class=\"leaf\"><div class=\"facetapi-facet facetapi-inactive\"><a class=\"facetapi-inactive\" href=\"/news?f%5B0%5D=field_state_agency%253Aname%3ADepartment%20of%20Labor%20and%20Employment%2C%20Division%20of%20Oil%20and%20Public%20Safety\" id=\"facetapi-link--5\" rel=\"nofollow\">Department of Labor and Employment, Division of Oil and Public Safety (78)<span class=\"element-invisible\"> Apply Department of Labor and Employment, Division of Oil and Public Safety filter </span></a></div></li>\n",
       "<li class=\"leaf\"><div class=\"facetapi-facet facetapi-inactive\"><a class=\"facetapi-inactive\" href=\"/news?f%5B0%5D=field_state_agency%253Aname%3ADepartment%20of%20Labor%20and%20Employment\" id=\"facetapi-link--6\" rel=\"nofollow\">Department of Labor and Employment (73)<span class=\"element-invisible\"> Apply Department of Labor and Employment filter </span></a></div></li>\n",
       "<li class=\"leaf\"><div class=\"facetapi-facet facetapi-inactive\"><a class=\"facetapi-inactive\" href=\"/news?f%5B0%5D=field_state_agency%253Aname%3ADepartment%20of%20Public%20Health%20%26%20Environment\" id=\"facetapi-link--7\" rel=\"nofollow\">Department of Public Health &amp; Environment (54)<span class=\"element-invisible\"> Apply Department of Public Health &amp; Environment filter </span></a></div></li>\n",
       "<li class=\"leaf\"><div class=\"facetapi-facet facetapi-inactive\"><a class=\"facetapi-inactive\" href=\"/news?f%5B0%5D=field_state_agency%253Aname%3ADepartment%20of%20Regulatory%20Agencies\" id=\"facetapi-link--8\" rel=\"nofollow\">Department of Regulatory Agencies (51)<span class=\"element-invisible\"> Apply Department of Regulatory Agencies filter </span></a></div></li>\n",
       "<li class=\"leaf\"><div class=\"facetapi-facet facetapi-inactive\"><a class=\"facetapi-inactive\" href=\"/news?f%5B0%5D=field_state_agency%253Aname%3ADepartment%20of%20Health%20Care%20Policy%20and%20Financing\" id=\"facetapi-link--9\" rel=\"nofollow\">Department of Health Care Policy and Financing (49)<span class=\"element-invisible\"> Apply Department of Health Care Policy and Financing filter </span></a></div></li>\n",
       "<li class=\"leaf\"><div class=\"facetapi-facet facetapi-inactive\"><a class=\"facetapi-inactive\" href=\"/news?f%5B0%5D=field_state_agency%253Aname%3ADepartment%20of%20Public%20Safety\" id=\"facetapi-link--10\" rel=\"nofollow\">Department of Public Safety (43)<span class=\"element-invisible\"> Apply Department of Public Safety filter </span></a></div></li>\n",
       "<li class=\"leaf\"><div class=\"facetapi-facet facetapi-inactive\"><a class=\"facetapi-inactive\" href=\"/news?f%5B0%5D=field_state_agency%253Aname%3ADepartment%20of%20Agriculture\" id=\"facetapi-link--11\" rel=\"nofollow\">Department of Agriculture (42)<span class=\"element-invisible\"> Apply Department of Agriculture filter </span></a></div></li>\n",
       "<li class=\"leaf\"><div class=\"facetapi-facet facetapi-inactive\"><a class=\"facetapi-inactive\" href=\"/news?f%5B0%5D=field_state_agency%253Aname%3AColorado%20Energy%20Office\" id=\"facetapi-link--12\" rel=\"nofollow\">Colorado Energy Office (33)<span class=\"element-invisible\"> Apply Colorado Energy Office filter </span></a></div></li>\n",
       "<li class=\"leaf\"><div class=\"facetapi-facet facetapi-inactive\"><a class=\"facetapi-inactive\" href=\"/news?f%5B0%5D=field_state_agency%253Aname%3ADepartment%20of%20Personnel%20and%20Administration\" id=\"facetapi-link--13\" rel=\"nofollow\">Department of Personnel and Administration (19)<span class=\"element-invisible\"> Apply Department of Personnel and Administration filter </span></a></div></li>\n",
       "<li class=\"leaf\"><div class=\"facetapi-facet facetapi-inactive\"><a class=\"facetapi-inactive\" href=\"/news?f%5B0%5D=field_state_agency%253Aname%3AColorado%20Workforce%20Development%20Council\" id=\"facetapi-link--14\" rel=\"nofollow\">Colorado Workforce Development Council (17)<span class=\"element-invisible\"> Apply Colorado Workforce Development Council filter </span></a></div></li>\n",
       "<li class=\"leaf\"><div class=\"facetapi-facet facetapi-inactive\"><a class=\"facetapi-inactive\" href=\"/news?f%5B0%5D=field_state_agency%253Aname%3ADepartment%20of%20Public%20Safety%2C%20School%20Safety%20Resource%20Center\" id=\"facetapi-link--15\" rel=\"nofollow\">Department of Public Safety, School Safety Resource Center (13)<span class=\"element-invisible\"> Apply Department of Public Safety, School Safety Resource Center filter </span></a></div></li>\n",
       "<li class=\"leaf\"><div class=\"facetapi-facet facetapi-inactive\"><a class=\"facetapi-inactive\" href=\"/news?f%5B0%5D=field_state_agency%253Aname%3ADepartment%20of%20Agriculture%2C%20Animal%20Health%20Division\" id=\"facetapi-link--16\" rel=\"nofollow\">Department of Agriculture, Animal Health Division (5)<span class=\"element-invisible\"> Apply Department of Agriculture, Animal Health Division filter </span></a></div></li>\n",
       "<li class=\"leaf\"><div class=\"facetapi-facet facetapi-inactive\"><a class=\"facetapi-inactive\" href=\"/news?f%5B0%5D=field_state_agency%253Aname%3ADepartment%20of%20Human%20Services\" id=\"facetapi-link--17\" rel=\"nofollow\">Department of Human Services (1)<span class=\"element-invisible\"> Apply Department of Human Services filter </span></a></div></li>\n",
       "<li class=\"leaf\"><div class=\"facetapi-facet facetapi-inactive\"><a class=\"facetapi-inactive\" href=\"/news?f%5B0%5D=field_state_agency%253Aname%3ADepartment%20of%20Revenue\" id=\"facetapi-link--18\" rel=\"nofollow\">Department of Revenue (1)<span class=\"element-invisible\"> Apply Department of Revenue filter </span></a></div></li>\n",
       "<li class=\"leaf\"><div class=\"facetapi-facet facetapi-inactive\"><a class=\"facetapi-inactive\" href=\"/news?f%5B0%5D=field_state_agency%253Aname%3ADepartment%20of%20Revenue%2C%20Division%20of%20Motor%20Vehicle\" id=\"facetapi-link--19\" rel=\"nofollow\">Department of Revenue, Division of Motor Vehicle (1)<span class=\"element-invisible\"> Apply Department of Revenue, Division of Motor Vehicle filter </span></a></div></li>\n",
       "<li class=\"leaf\"><div class=\"facetapi-facet facetapi-inactive\"><a class=\"facetapi-inactive\" href=\"/news?f%5B0%5D=field_state_agency%253Aname%3ADepartment%20of%20Revenue%2C%20Division%20of%20Taxation\" id=\"facetapi-link--20\" rel=\"nofollow\">Department of Revenue, Division of Taxation (1)<span class=\"element-invisible\"> Apply Department of Revenue, Division of Taxation filter </span></a></div></li>\n",
       "</ul></div> </div>\n",
       "</div>\n",
       "</aside>\n",
       "</aside>\n",
       "</div>\n",
       "<!-- Search Overlay -->\n",
       "<div class=\"overlay\" id=\"search-overlay\">\n",
       "<div class=\"grid--row grey padded-x-2\">\n",
       "<!-- Close Button -->\n",
       "<div class=\"close-overlay-btn\">\n",
       "</div>\n",
       "<div class=\"grid--1-3 type-to-search\">\n",
       "<h3 aria-labelledby=\"ID\" class=\"overlay-header green\" id=\"search\">Search</h3>\n",
       "</div>\n",
       "<!-- end grid 1-3 -->\n",
       "<div class=\"grid--2-3 popular-search align-right padded-r-x\">\n",
       "<span>Popular Search Terms:</span>\n",
       "<!-- The following three lines of code are used to dynamically pull in and populate search terms from Google.\n",
       "\t\t\t\tWe have had some issues with https and have decided to leave out for now, with every intention of coming back and fixing. -->\n",
       "<div id=\"queries\"></div>\n",
       "<script src=\"https://cse.google.com/query_renderer.js\"></script>\n",
       "<script src=\"https://cse.google.com/api/005331801672446424340/cse/vmhybt5tx_s/queries/js?view=month&amp;callback=(new+PopularQueryRenderer(document.getElementById(%22queries%22))).render\"></script>\n",
       "</div>\n",
       "<!-- end grid 2-3 -->\n",
       "</div>\n",
       "<!-- end row -->\n",
       "<!-- Large Search Input -->\n",
       "<div class=\"grid--row\">\n",
       "<div class=\"grid--1 padded-x-2\">\n",
       "<p aria-hidden=\"true\" hidden=\"\" id=\"access-popular-search-terms\">Press shift tab to access popular search terms</p>\n",
       "<gcse:searchbox-only queryparametername=\"tid\" resultsurl=\"/search\"></gcse:searchbox-only>\n",
       "</div>\n",
       "</div>\n",
       "<!-- end row -->\n",
       "<div class=\"grid--row\">\n",
       "<div class=\"grid--1 padded-x-2\">\n",
       "</div>\n",
       "</div>\n",
       "<!-- end row -->\n",
       "</div>\n",
       "<!-- end overlay -->\n",
       "<!-- Contact Overlay -->\n",
       "<div class=\"overlay is-overlay-not-visible\" id=\"contact-overlay\">\n",
       "<div class=\"grid--row grey padded-x-2\">\n",
       "<!-- Close Button -->\n",
       "<div class=\"close-overlay-btn\">\n",
       "</div>\n",
       "<div class=\"grid--1\">\n",
       "<h3 class=\"overlay-header green\">Contact Us</h3>\n",
       "</div>\n",
       "</div>\n",
       "<!-- end row -->\n",
       "<div class=\"grid--row padded-x-2\">\n",
       "<form id=\"contact-us-form\">\n",
       "<input aria-describedby=\"contact-us-supporting-text\" class=\"large-search-input\" id=\"contact-us-input\" placeholder=\"Agency Lookup by Keywords\" type=\"text\"/>\n",
       "<button aria-label=\"search contacts\" class=\"search-submit-btn\"></button>\n",
       "</form>\n",
       "<!-- end form -->\n",
       "<div class=\"supporting-text\">\n",
       "<p id=\"contact-us-supporting-text\">\n",
       "\t\t\t\tSearch results contain all keywords. Press 'esc' to close overlay.<br/>\n",
       "</p>\n",
       "<p>\n",
       "\t\t\t\tExample: \"Motor Vehicle\" will only present results for \"Motor Vehicle\" not \"Motor\" or \"Vehicle\".\n",
       "\t\t\t</p>\n",
       "</div>\n",
       "<svg height=\"0px\" version=\"1.1\" xmlns=\"http://www.w3.org/2000/svg\">\n",
       "<defs>\n",
       "<filter id=\"goo\">\n",
       "<fegaussianblur in=\"SourceGraphic\" result=\"blur\" stddeviation=\"10\"></fegaussianblur>\n",
       "<fecolormatrix in=\"blur\" mode=\"matrix\" result=\"goo\" values=\"1 0 0 0 0  0 1 0 0 0  0 0 1 0 0  0 0 0 19 -9\"></fecolormatrix>\n",
       "<fecomposite in=\"SourceGraphic\" in2=\"goo\" operator=\"atop\"></fecomposite>\n",
       "</filter>\n",
       "</defs>\n",
       "</svg>\n",
       "<!-- Departments -->\n",
       "<div id=\"contact-us-response-area\">\n",
       "</div>\n",
       "<!-- Cards -->\n",
       "<div class=\"equal-height-card card grey margin-y\">\n",
       "<div class=\"card-title\">\n",
       "\t\t\t\tGet In Touch\n",
       "\t\t\t</div>\n",
       "<div class=\"content\">\n",
       "<p class=\"no-margin\">\n",
       "<a href=\"/submit-case\">\n",
       "\t\t\t\t\t\tEmail\n",
       "\t\t\t\t\t</a><br/>\n",
       "<a href=\"/submit-case\">\n",
       "\t\t\t\t\t\tReport a Problem or Ask a Question\n",
       "\t\t\t\t\t</a><br/>\n",
       "\t\t\t\t\tFor technical support on online services <br/>\n",
       "\t\t\t\t\tcall 303-534-3468 X 0<br/>\n",
       "\t\t\t\t\tPlease note that we are not a state agency\n",
       "\t\t\t\t</p>\n",
       "<a class=\"card-btn\" href=\"javascript://Chat\" id=\"liveagent_button_online_573400000008OR4\" onclick=\"liveagent.startChat('573400000008OR4')\" style=\"display: none;\">\n",
       "<img alt=\"Live Chat is online\" src=\"sites/all/themes/colorado_gov/images/icons/live_chat_online_blue.svg\"/>\n",
       "</a>\n",
       "<a class=\"card-btn\" href=\"javascript://Chat\" id=\"liveagent_button_offline_573400000008OR4\" onclick=\"liveagent.startChat('573400000008OR4')\" style=\"display: none;\">\n",
       "<img alt=\"Live chat is offline\" src=\"sites/all/themes/colorado_gov/images/icons/live_chat_offline_gray.svg\"/>\n",
       "</a>\n",
       "</div>\n",
       "</div>\n",
       "<div class=\"equal-height-card card grey margin-y\">\n",
       "<div class=\"card-title\">\n",
       "\t\t\t\tGovernment Directories\n",
       "\t\t\t</div>\n",
       "<div class=\"content\">\n",
       "<p class=\"no-margin\">\n",
       "<a href=\"http://www.colorado.gov/apps/oit/directory/start.jsf\">\n",
       "\t\t\t\t\tState Employee Directory\n",
       "\t\t\t\t</a><br/>\n",
       "<a href=\"/state-agencies\">\n",
       "\t\t\t\t\tState Agency Directory\n",
       "\t\t\t\t</a><br/>\n",
       "<a href=\"https://dola.colorado.gov/lgis/\">\n",
       "\t\t\t\t\tLocal Government Directory\n",
       "\t\t\t\t</a>\n",
       "</p>\n",
       "<a class=\"card-btn\" href=\"https://sipacoloradogov.maps.arcgis.com/apps/webappviewer/index.html?id=4a33a01e6a3d4530adb9f98c5d5455f5\">\n",
       "<img alt=\"Find government services near you\" src=\"sites/all/themes/colorado_gov/images/icons/gov_services_blue.svg\"/>\n",
       "</a>\n",
       "</div>\n",
       "</div>\n",
       "<div class=\"equal-height-card card grey margin-y\">\n",
       "<div class=\"card-title\">\n",
       "\t\t\t\tCitizens Assistance\n",
       "\t\t\t</div>\n",
       "<div class=\"content\">\n",
       "<p class=\"no-margin\">\n",
       "<a href=\"/gethelp\">Explore this interactive service</a> designed to help citizens with common questions.\n",
       "\t\t\t\t</p>\n",
       "<a class=\"card-btn\" href=\"/apps/feedback/servlet/begin?application=colorado-cms-website\">\n",
       "<img alt=\"Leave feedback\" src=\"sites/all/themes/colorado_gov/images/icons/feedback_blue.svg\"/>\n",
       "</a>\n",
       "</div>\n",
       "</div>\n",
       "</div>\n",
       "</div>\n",
       "<!-- end overlay -->\n",
       "<!-- Footer -->\n",
       "<!-- Live Chat -->\n",
       "<script type=\"text/javascript\">\n",
       "  if (!window._laq) { \n",
       "  \twindow._laq = []; \n",
       "  }\n",
       "\n",
       "  window._laq.push( function() {\n",
       "  \tliveagent.showWhenOnline(\n",
       "  \t\t'573400000008OR4', \n",
       "  \t\tdocument.getElementById('liveagent_button_online_573400000008OR4')\n",
       "  \t);\n",
       "  \tliveagent.showWhenOffline(\n",
       "  \t\t'573400000008OR4', \n",
       "  \t\tdocument.getElementById('liveagent_button_offline_573400000008OR4')\n",
       "  \t);\n",
       "  });\n",
       "</script>\n",
       "<script src=\"https://c.la2c1.salesforceliveagent.com/content/g/deployment.js\" type=\"text/javascript\"></script>\n",
       "<script type=\"text/javascript\">\n",
       "\tliveagent.init('https://d.la2c1.salesforceliveagent.com/chat', '572400000008OQu', '00D40000000MqIX');\n",
       "</script>\n",
       "<footer class=\"internal\" id=\"main-footer\">\n",
       "<!-- Main content | Menus and Online Chat -->\n",
       "<div class=\"footer--main-content padded-x-2 padded-b\">\n",
       "<!-- Online -->\n",
       "<!--  <a class=\"support-box\" id=\"liveagent_button_online_573400000008OR4\" style=\"display: none;\" href=\"javascript://Chat\" onclick=\"liveagent.startChat('573400000008OR4')\">\n",
       "\t    </a> -->\n",
       "<!-- Offline -->\n",
       "<!--  <div class=\"support-box\" id=\"liveagent_button_offline_573400000008OR4\" style=\"display: none;\">\n",
       "\t    </div> -->\n",
       "<div class=\"container footer-menus max-width padded-x-2\">\n",
       "<div class=\"l-region l-region--footer\">\n",
       "<div class=\"block block--block colorblock block--block-1\" id=\"block-block-1\">\n",
       "<h2 class=\"block__title\">Gov. Jared Polis</h2>\n",
       "<div class=\"block__content\">\n",
       "<p><img alt=\"\" class=\"media-image\" height=\"384\" src=\"https://www.colorado.gov/sites/default/files/styles/large/public/governor_polis_img_footer.jpg?itok=AYvATqab\" style=\"width: 110px; height: 88px;\" typeof=\"foaf:Image\" width=\"480\"/> <a href=\"/governor\">Homepage</a></p>\n",
       "<p> <a href=\"/governor/contact-us\">Contact</a></p>\n",
       "<div class=\"gov-social-links\">\n",
       "<p><a href=\"https://www.facebook.com/jaredpolis\"><img alt=\"\" class=\"media-image\" height=\"58\" src=\"https://www.colorado.gov/sites/default/files/facebook-icon.png\" style=\"width: 20px; height: 20px;\" typeof=\"foaf:Image\" width=\"57\"/></a><a href=\"https://twitter.com/GovofCO\"><img alt=\"\" class=\"media-image\" height=\"47\" src=\"https://www.colorado.gov/sites/default/files/twitter-icon.png\" style=\"width: 24px; height: 20px;\" typeof=\"foaf:Image\" width=\"57\"/></a><a href=\"https://www.instagram.com/govofco/\"><img alt=\"\" class=\"media-image\" height=\"30\" src=\"https://www.colorado.gov/sites/default/files/instgram-icon.png\" style=\"width: 20px; height: 20px;\" typeof=\"foaf:Image\" width=\"30\"/></a></p>\n",
       "</div>\n",
       "</div>\n",
       "</div>\n",
       "<nav class=\"block block--menu block--menu-menu-alerts\" id=\"block-menu-menu-alerts\" role=\"navigation\">\n",
       "<h2 class=\"block__title\">Alerts</h2>\n",
       "<ul class=\"menu\"><li class=\"first leaf\"><a href=\"https://www.colorado.gov/sites/default/files/ERG_Master_PageView_01.03.19.pdf\" title=\"\">Emergency Response Guide</a></li>\n",
       "<li class=\"leaf\"><a href=\"http://www.dhsem.state.co.us/emergency-management/emergency-management\" title=\"\">Emergency Management</a></li>\n",
       "<li class=\"leaf\"><a href=\"https://www.readycolorado.com/\" title=\"\">Community Preparedness</a></li>\n",
       "<li class=\"leaf\"><a href=\"http://www.dhsem.state.co.us/home\" title=\"\">Homeland Security</a></li>\n",
       "<li class=\"leaf\"><a href=\"http://www.cotrip.org/travelAlerts.htm\" title=\"\">Travel Alerts</a></li>\n",
       "<li class=\"leaf\"><a href=\"http://www.cotrip.org/roadConditions.htm\" title=\"\">Road Conditions</a></li>\n",
       "<li class=\"last leaf\"><a href=\"http://www.oit.state.co.us/ois\" title=\"\">Cyber Security</a></li>\n",
       "</ul></nav>\n",
       "<nav class=\"block block--menu accordionclear block--menu-menu-help-center\" id=\"block-menu-menu-help-center\" role=\"navigation\">\n",
       "<h2 class=\"block__title\">Help Center</h2>\n",
       "<ul class=\"menu\"><li class=\"first leaf\"><a href=\"/state-agencies\" title=\"\">State Agencies</a></li>\n",
       "<li class=\"leaf\"><a href=\"http://www.colorado.gov/apps/oit/directory/start.jsf\" title=\"\">State Employee Directory</a></li>\n",
       "<li class=\"leaf\"><a href=\"https://dashboard.state.co.us/\" title=\"\">Governor's Dashboard</a></li>\n",
       "<li class=\"leaf\"><a href=\"https://www.colorado.gov/apps/oit/transparency/index.html\" title=\"\">Transparency Online Project (TOPS)</a></li>\n",
       "<li class=\"leaf\"><a href=\"/registered-services\" title=\"\">Registered Services</a></li>\n",
       "<li class=\"leaf\"><a href=\"http://www.colorado.gov/apps/feedback/servlet/begin?application=colorado-cms-website\" title=\"\">Feedback</a></li>\n",
       "<li class=\"leaf\"><a href=\"https://211colorado.communityos.org/cms/home\" title=\"\">211 Health</a></li>\n",
       "<li class=\"leaf\"><a href=\"http://www.wc211.org/\" title=\"\">211 Health Western Colorado</a></li>\n",
       "<li class=\"leaf\"><a href=\"http://www.cotrip.org/home.htm\" title=\"\">511 Traffic</a></li>\n",
       "<li class=\"last leaf\"><a href=\"http://call811.com/\" title=\"\">811 Dig</a></li>\n",
       "</ul></nav>\n",
       "<nav class=\"block block--menu block--menu-menu-policies\" id=\"block-menu-menu-policies\" role=\"navigation\">\n",
       "<h2 class=\"block__title\">Policies</h2>\n",
       "<ul class=\"menu\"><li class=\"first leaf\"><a href=\"/accessibility-standards\" title=\"\">Accessibility</a></li>\n",
       "<li class=\"leaf\"><a href=\"/legal-notices\" title=\"\">Legal Notices</a></li>\n",
       "<li class=\"leaf\"><a href=\"/linking-policy\" title=\"\">Linking Policy</a></li>\n",
       "<li class=\"leaf\"><a href=\"/privacy-statement\" title=\"\">Privacy Statement</a></li>\n",
       "<li class=\"leaf\"><a href=\"/security-statement\" title=\"\">Security Statement</a></li>\n",
       "<li class=\"last leaf\"><a href=\"/supported-browsers\" title=\"\">Supported Browsers</a></li>\n",
       "</ul></nav>\n",
       "</div>\n",
       "</div>\n",
       "</div>\n",
       "<!-- Copyright and Social -->\n",
       "<div class=\"footer--bottom-content padded-x-2\">\n",
       "<div class=\"container max-width padded-x\">\n",
       "<div class=\"copyright grid--2-3\">\n",
       "\t\t\t\t© 2020 State of Colorado\n",
       "\t\t\t</div>\n",
       "<div class=\"social-icons grid--1-3\">\n",
       "<a class=\"facebook-icon\" href=\"https://www.facebook.com/Colorado.gov/timeline\" title=\"Visit our Facebook Page\"></a>\n",
       "<a class=\"twitter-icon\" href=\"https://twitter.com/coloradogov\" title=\"Visit our Twitter Feed\"></a>\n",
       "</div>\n",
       "</div>\n",
       "</div>\n",
       "</footer> </div>\n",
       "<!-- end main content -->\n",
       "<!-- Navigation -->\n",
       "<div class=\"l-nav is-nav-collapsed\">\n",
       "<div class=\"l-region l-region--navigation\">\n",
       "<nav class=\"block block--system block--menu block--system-main-menu\" id=\"block-system-main-menu\" role=\"navigation\">\n",
       "<ul class=\"menu\"><li class=\"first leaf\"><a href=\"http://www.colorado.gov/governor\" title=\"\">Governor</a></li>\n",
       "<li class=\"expanded\"><span class=\"nolink\" title=\"\">Government</span><ul class=\"menu\"><li class=\"first leaf\"><a href=\"/state-agencies\" title=\"\">State Agencies</a></li>\n",
       "<li class=\"leaf\"><a href=\"/government-branches\">Branches of Government</a></li>\n",
       "<li class=\"last leaf\"><a href=\"/local-government\" title=\"\">Local Government</a></li>\n",
       "</ul></li>\n",
       "<li class=\"expanded\"><span class=\"nolink\" title=\"\">Business</span><ul class=\"menu\"><li class=\"first leaf\"><a href=\"/businesses-employers\" title=\"\">Businesses &amp; Employers</a></li>\n",
       "<li class=\"last leaf\"><a href=\"/business-resources\" title=\"\">Resources</a></li>\n",
       "</ul></li>\n",
       "<li class=\"expanded\"><span class=\"nolink\" title=\"\">Employment</span><ul class=\"menu\"><li class=\"first leaf\"><a href=\"/jobs-training\" title=\"\">Jobs &amp; Training</a></li>\n",
       "<li class=\"leaf\"><a href=\"/unemployment\">Unemployment</a></li>\n",
       "<li class=\"last leaf\"><a href=\"/professional-licenses\">Professional Licenses</a></li>\n",
       "</ul></li>\n",
       "<li class=\"expanded\"><span class=\"nolink\" title=\"\">Education</span><ul class=\"menu\"><li class=\"first leaf\"><a href=\"/k-12-education\" title=\"\">K - 12 Education</a></li>\n",
       "<li class=\"last leaf\"><a href=\"/higher-education\" title=\"\">Higher Education</a></li>\n",
       "</ul></li>\n",
       "<li class=\"expanded\"><span class=\"nolink\" title=\"\">Residents</span><ul class=\"menu\"><li class=\"first leaf\"><a href=\"/family-resources\">Family Resources</a></li>\n",
       "<li class=\"last leaf\"><a href=\"/civic-resources\">Civic Resources</a></li>\n",
       "</ul></li>\n",
       "<li class=\"expanded\"><span class=\"nolink\" title=\"\">Visitors</span><ul class=\"menu\"><li class=\"first leaf\"><a href=\"/outdoor-activities\">Outdoor Activities</a></li>\n",
       "<li class=\"last leaf\"><a href=\"/leisure-activities\">Leisure Activities</a></li>\n",
       "</ul></li>\n",
       "<li class=\"expanded\"><span class=\"nolink\" title=\"\">About Colorado</span><ul class=\"menu\"><li class=\"first leaf\"><a href=\"/colorado-history\" title=\"\">Colorado's History</a></li>\n",
       "<li class=\"last leaf\"><a href=\"/state-information\">State Information</a></li>\n",
       "</ul></li>\n",
       "<li class=\"last leaf\"><a href=\"/online-services\" title=\"\">Online Services</a></li>\n",
       "</ul></nav>\n",
       "</div>\n",
       "</div>\n",
       "<div class=\"is-hidden\" id=\"nav-info\">\n",
       "\tpress enter to expand a category\n",
       "</div>\n",
       "<!-- end nav -->\n",
       "</div>\n",
       "<!-- end content-container -->\n",
       "<script type=\"text/javascript\">window.NREUM||(NREUM={});NREUM.info={\"beacon\":\"bam.nr-data.net\",\"licenseKey\":\"b4a288a9ff\",\"applicationID\":\"9085368\",\"transactionName\":\"YQFSMhBXDRcHVkxeC1hLZRQLGQoKAlBAGRReFA==\",\"queueTime\":0,\"applicationTime\":18,\"atts\":\"TUZRRFhNHhk=\",\"errorBeacon\":\"bam.nr-data.net\",\"agent\":\"\"}</script></body>\n",
       "</html>"
      ]
     },
     "execution_count": 31,
     "metadata": {},
     "output_type": "execute_result"
    }
   ],
   "source": [
    "soup2"
   ]
  },
  {
   "cell_type": "markdown",
   "metadata": {},
   "source": [
    "Navigating back to the webpage we're looking for the div class tags for each article as shown below: "
   ]
  },
  {
   "cell_type": "code",
   "execution_count": 32,
   "metadata": {},
   "outputs": [],
   "source": [
    "divs2 = soup2.find_all('div', {'class': 'view-page-item'})"
   ]
  },
  {
   "cell_type": "code",
   "execution_count": 33,
   "metadata": {},
   "outputs": [
    {
     "data": {
      "text/plain": [
       "<div class=\"view-page-item\">\n",
       "<div class=\"date margin-b\">\n",
       "<span class=\"field-content\"><span class=\"date-display-single\" content=\"2020-02-17T07:54:43-07:00\" datatype=\"xsd:dateTime\" property=\"dc:date\">Monday, February 17, 2020</span></span></div>\n",
       "<h3 class=\"no-padding x-small lighter-text\"><span class=\"field-content\"><a href=\"https://www.colorado.gov/pacific/cssrc/news/schoolsafetygov-launches-help-educators-administrators-parents-and-law-enforcement-prepare\">SchoolSafety.gov Launches to Help Educators, Administrators, Parents, and Law Enforcement Prepare for Threats</a></span></h3>\n",
       "<div class=\"margin-b lighter-text smaller-text-views\">\n",
       "<span class=\"field-content\">From Department of Public Safety, School Safety Resource Center  </span></div>\n",
       "</div>"
      ]
     },
     "execution_count": 33,
     "metadata": {},
     "output_type": "execute_result"
    }
   ],
   "source": [
    "divs2[0]"
   ]
  },
  {
   "cell_type": "code",
   "execution_count": 34,
   "metadata": {},
   "outputs": [
    {
     "data": {
      "text/plain": [
       "10"
      ]
     },
     "execution_count": 34,
     "metadata": {},
     "output_type": "execute_result"
    }
   ],
   "source": [
    "#Number of articles \n",
    "len(divs2)"
   ]
  },
  {
   "cell_type": "code",
   "execution_count": 35,
   "metadata": {},
   "outputs": [
    {
     "data": {
      "text/plain": [
       "'\\n\\nMonday, February 17, 2020\\nSchoolSafety.gov Launches to Help Educators, Administrators, Parents, and Law Enforcement Prepare for Threats\\n\\nFrom Department of Public Safety, School Safety Resource Center  \\n'"
      ]
     },
     "execution_count": 35,
     "metadata": {},
     "output_type": "execute_result"
    }
   ],
   "source": [
    "divs2[0].text"
   ]
  },
  {
   "cell_type": "code",
   "execution_count": 36,
   "metadata": {},
   "outputs": [
    {
     "data": {
      "text/plain": [
       "'Monday, February 17, 2020'"
      ]
     },
     "execution_count": 36,
     "metadata": {},
     "output_type": "execute_result"
    }
   ],
   "source": [
    "import pandas as pd\n",
    "divs2[0].find('span', {'class': 'date-display-single'}).text"
   ]
  },
  {
   "cell_type": "code",
   "execution_count": 37,
   "metadata": {},
   "outputs": [
    {
     "data": {
      "text/plain": [
       "Timestamp('2020-02-17 00:00:00')"
      ]
     },
     "execution_count": 37,
     "metadata": {},
     "output_type": "execute_result"
    }
   ],
   "source": [
    "pd.to_datetime(divs2[0].find('span', {'class': 'date-display-single'}).text)"
   ]
  },
  {
   "cell_type": "code",
   "execution_count": 38,
   "metadata": {},
   "outputs": [],
   "source": [
    "BASE_URL2 = 'https://www.colorado.gov/news'"
   ]
  },
  {
   "cell_type": "code",
   "execution_count": 39,
   "metadata": {},
   "outputs": [
    {
     "data": {
      "text/plain": [
       "'SchoolSafety.gov Launches to Help Educators, Administrators, Parents, and Law Enforcement Prepare for Threats'"
      ]
     },
     "execution_count": 39,
     "metadata": {},
     "output_type": "execute_result"
    }
   ],
   "source": [
    "divs2[0].find('a').text #title"
   ]
  },
  {
   "cell_type": "code",
   "execution_count": 40,
   "metadata": {},
   "outputs": [
    {
     "data": {
      "text/plain": [
       "'https://www.colorado.gov/pacific/cssrc/news/schoolsafetygov-launches-help-educators-administrators-parents-and-law-enforcement-prepare'"
      ]
     },
     "execution_count": 40,
     "metadata": {},
     "output_type": "execute_result"
    }
   ],
   "source": [
    "divs2[0].find('a').get('href')"
   ]
  },
  {
   "cell_type": "code",
   "execution_count": 41,
   "metadata": {},
   "outputs": [
    {
     "data": {
      "text/plain": [
       "'From Department of Public Safety, School Safety Resource Center'"
      ]
     },
     "execution_count": 41,
     "metadata": {},
     "output_type": "execute_result"
    }
   ],
   "source": [
    "divs2[0].find('div', {'class': 'smaller-text-views'}).text.strip()"
   ]
  },
  {
   "cell_type": "code",
   "execution_count": 42,
   "metadata": {},
   "outputs": [
    {
     "data": {
      "text/plain": [
       "'https://www.colorado.gov/newshttps://www.colorado.gov/pacific/cssrc/news/schoolsafetygov-launches-help-educators-administrators-parents-and-law-enforcement-prepare'"
      ]
     },
     "execution_count": 42,
     "metadata": {},
     "output_type": "execute_result"
    }
   ],
   "source": [
    "BASE_URL2 + divs2[0].find('a').get('href')"
   ]
  },
  {
   "cell_type": "markdown",
   "metadata": {},
   "source": [
    "Now we have all the elements, so we will just need to loop through as shown below: "
   ]
  },
  {
   "cell_type": "code",
   "execution_count": 128,
   "metadata": {},
   "outputs": [],
   "source": [
    "for d in divs2: \n",
    "    link = d.find('a')\n",
    "    date = pd.to_datetime(divs2[0].find('span', {'class': 'date-display-single'}).text)\n",
    "    href = BASE_URL2 + link.get('href') \n",
    "    title = link.text"
   ]
  },
  {
   "cell_type": "code",
   "execution_count": 43,
   "metadata": {},
   "outputs": [
    {
     "data": {
      "text/plain": [
       "\"Changes Made to Denver's Anti-Discrimination Ordinance \""
      ]
     },
     "execution_count": 43,
     "metadata": {},
     "output_type": "execute_result"
    }
   ],
   "source": [
    "title"
   ]
  },
  {
   "cell_type": "code",
   "execution_count": 44,
   "metadata": {},
   "outputs": [
    {
     "data": {
      "text/plain": [
       "<a href=\"/content/denvergov/en/human-rights-and-community-partnerships/news-events/2019/changes-to-denver-anti-discrimination-ordinance-.html\">Changes Made to Denver's Anti-Discrimination Ordinance </a>"
      ]
     },
     "execution_count": 44,
     "metadata": {},
     "output_type": "execute_result"
    }
   ],
   "source": [
    "link"
   ]
  },
  {
   "cell_type": "code",
   "execution_count": 45,
   "metadata": {},
   "outputs": [
    {
     "data": {
      "text/plain": [
       "Timestamp('2020-02-18 00:00:00')"
      ]
     },
     "execution_count": 45,
     "metadata": {},
     "output_type": "execute_result"
    }
   ],
   "source": [
    "date"
   ]
  },
  {
   "cell_type": "code",
   "execution_count": 46,
   "metadata": {},
   "outputs": [
    {
     "data": {
      "text/plain": [
       "'https://www.denvergov.org/content/denvergov/en/human-rights-and-community-partnerships/news-events/2019/changes-to-denver-anti-discrimination-ordinance-.html'"
      ]
     },
     "execution_count": 46,
     "metadata": {},
     "output_type": "execute_result"
    }
   ],
   "source": [
    "href"
   ]
  },
  {
   "cell_type": "code",
   "execution_count": 47,
   "metadata": {},
   "outputs": [
    {
     "data": {
      "text/plain": [
       "<a href=\"/content/denvergov/en/human-rights-and-community-partnerships/news-events/2019/changes-to-denver-anti-discrimination-ordinance-.html\">Changes Made to Denver's Anti-Discrimination Ordinance </a>"
      ]
     },
     "execution_count": 47,
     "metadata": {},
     "output_type": "execute_result"
    }
   ],
   "source": [
    "link"
   ]
  },
  {
   "cell_type": "code",
   "execution_count": 135,
   "metadata": {},
   "outputs": [
    {
     "name": "stdout",
     "output_type": "stream",
     "text": [
      "https://www.colorado.gov/news?page=1\n",
      "https://www.colorado.gov/news?page=2\n",
      "https://www.colorado.gov/news?page=3\n",
      "https://www.colorado.gov/news?page=4\n",
      "https://www.colorado.gov/news?page=5\n",
      "https://www.colorado.gov/news?page=6\n",
      "https://www.colorado.gov/news?page=7\n",
      "https://www.colorado.gov/news?page=8\n",
      "https://www.colorado.gov/news?page=9\n",
      "https://www.colorado.gov/news?page=10\n",
      "https://www.colorado.gov/news?page=11\n",
      "https://www.colorado.gov/news?page=12\n",
      "https://www.colorado.gov/news?page=13\n",
      "https://www.colorado.gov/news?page=14\n",
      "https://www.colorado.gov/news?page=15\n",
      "https://www.colorado.gov/news?page=16\n",
      "https://www.colorado.gov/news?page=17\n",
      "https://www.colorado.gov/news?page=18\n",
      "https://www.colorado.gov/news?page=19\n",
      "https://www.colorado.gov/news?page=20\n",
      "https://www.colorado.gov/news?page=21\n",
      "https://www.colorado.gov/news?page=22\n",
      "https://www.colorado.gov/news?page=23\n",
      "https://www.colorado.gov/news?page=24\n",
      "https://www.colorado.gov/news?page=25\n",
      "https://www.colorado.gov/news?page=26\n",
      "https://www.colorado.gov/news?page=27\n",
      "https://www.colorado.gov/news?page=28\n",
      "https://www.colorado.gov/news?page=29\n",
      "https://www.colorado.gov/news?page=30\n",
      "https://www.colorado.gov/news?page=31\n",
      "https://www.colorado.gov/news?page=32\n",
      "https://www.colorado.gov/news?page=33\n",
      "https://www.colorado.gov/news?page=34\n",
      "https://www.colorado.gov/news?page=35\n",
      "https://www.colorado.gov/news?page=36\n",
      "https://www.colorado.gov/news?page=37\n",
      "https://www.colorado.gov/news?page=38\n",
      "https://www.colorado.gov/news?page=39\n",
      "https://www.colorado.gov/news?page=40\n",
      "https://www.colorado.gov/news?page=41\n",
      "https://www.colorado.gov/news?page=42\n",
      "https://www.colorado.gov/news?page=43\n",
      "https://www.colorado.gov/news?page=44\n",
      "https://www.colorado.gov/news?page=45\n",
      "https://www.colorado.gov/news?page=46\n",
      "https://www.colorado.gov/news?page=47\n",
      "https://www.colorado.gov/news?page=48\n",
      "https://www.colorado.gov/news?page=49\n",
      "https://www.colorado.gov/news?page=50\n",
      "https://www.colorado.gov/news?page=51\n",
      "https://www.colorado.gov/news?page=52\n",
      "https://www.colorado.gov/news?page=53\n",
      "https://www.colorado.gov/news?page=54\n",
      "https://www.colorado.gov/news?page=55\n",
      "https://www.colorado.gov/news?page=56\n",
      "https://www.colorado.gov/news?page=57\n",
      "https://www.colorado.gov/news?page=58\n",
      "https://www.colorado.gov/news?page=59\n",
      "https://www.colorado.gov/news?page=60\n",
      "https://www.colorado.gov/news?page=61\n",
      "https://www.colorado.gov/news?page=62\n",
      "https://www.colorado.gov/news?page=63\n",
      "https://www.colorado.gov/news?page=64\n",
      "https://www.colorado.gov/news?page=65\n",
      "https://www.colorado.gov/news?page=66\n",
      "https://www.colorado.gov/news?page=67\n",
      "https://www.colorado.gov/news?page=68\n",
      "https://www.colorado.gov/news?page=69\n",
      "https://www.colorado.gov/news?page=70\n"
     ]
    }
   ],
   "source": [
    "for i in range(1,71): #70 is the last page with data within the colorado news website :\n",
    "    print('https://www.colorado.gov/news?page={}'.format(i))"
   ]
  },
  {
   "cell_type": "code",
   "execution_count": null,
   "metadata": {},
   "outputs": [],
   "source": [
    "for i in range(1,71):\n",
    "    url2 = ('https://www.colorado.gov/news?page?page={}'.format(i))\n",
    "    res2 = req.get(url)"
   ]
  },
  {
   "cell_type": "code",
   "execution_count": 50,
   "metadata": {},
   "outputs": [
    {
     "data": {
      "application/vnd.jupyter.widget-view+json": {
       "model_id": "34953059db444997b2ec5c67d5b3f76a",
       "version_major": 2,
       "version_minor": 0
      },
      "text/plain": [
       "HBox(children=(IntProgress(value=0, max=71), HTML(value='')))"
      ]
     },
     "metadata": {},
     "output_type": "display_data"
    },
    {
     "name": "stdout",
     "output_type": "stream",
     "text": [
      "\n"
     ]
    }
   ],
   "source": [
    "import pandas as pd\n",
    "from tqdm import tqdm_notebook\n",
    "from pymongo import MongoClient\n",
    "\n",
    "PAGE_URL2 = 'https://www.colorado.gov/news?page?page={}'\n",
    "\n",
    "client = MongoClient()\n",
    "db = client['news2']\n",
    "coll = db['Colorado']\n",
    "\n",
    "for page in tqdm_notebook(range(0, 71)):\n",
    "#     for testing, we can stop it after a few iterations\n",
    "#     if page == 3:\n",
    "#         break      \n",
    "    res2 = req.get(PAGE_URL2.format(page))\n",
    "    soup2 = bs(res2.content, 'lxml')\n",
    "    divs2 = soup2.find_all('div', {'class': 'views-row'})\n",
    "    for d in divs2:\n",
    "        date = pd.to_datetime(d.find('span', {'class': 'date-display-single'}).text)\n",
    "        link = divs2[0].find('a')\n",
    "        title = link.text\n",
    "        href = link.get('href')\n",
    "        subtitle = d.find('div', {'class': 'smaller-text-views'}).text.strip()\n",
    "        \n",
    "        coll.insert_one({'date': date,\n",
    "                         'title': title,\n",
    "                         'link': href,\n",
    "                         'subtitle': subtitle})\n",
    "\n",
    "client.close()"
   ]
  },
  {
   "cell_type": "code",
   "execution_count": 51,
   "metadata": {},
   "outputs": [
    {
     "name": "stdout",
     "output_type": "stream",
     "text": [
      "{'_id': ObjectId('5e53205c2c989e31046493b9'),\n",
      " 'date': datetime.datetime(2020, 2, 17, 0, 0),\n",
      " 'link': 'https://www.colorado.gov/pacific/cssrc/news/schoolsafetygov-launches-help-educators-administrators-parents-and-law-enforcement-prepare',\n",
      " 'subtitle': 'From Department of Public Safety, School Safety Resource Center',\n",
      " 'title': 'SchoolSafety.gov Launches to Help Educators, Administrators, '\n",
      "          'Parents, and Law Enforcement Prepare for Threats'}\n"
     ]
    }
   ],
   "source": [
    "from pprint import pprint \n",
    "\n",
    "client = MongoClient()\n",
    "db = client['news2']\n",
    "coll = db['Colorado']\n",
    "\n",
    "pprint(coll.find_one())"
   ]
  }
 ],
 "metadata": {
  "kernelspec": {
   "display_name": "Python 3",
   "language": "python",
   "name": "python3"
  },
  "language_info": {
   "codemirror_mode": {
    "name": "ipython",
    "version": 3
   },
   "file_extension": ".py",
   "mimetype": "text/x-python",
   "name": "python",
   "nbconvert_exporter": "python",
   "pygments_lexer": "ipython3",
   "version": "3.8.3"
  }
 },
 "nbformat": 4,
 "nbformat_minor": 2
}
