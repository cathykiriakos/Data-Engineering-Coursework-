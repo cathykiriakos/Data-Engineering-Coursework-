{
 "cells": [
  {
   "cell_type": "markdown",
   "metadata": {},
   "source": [
    "This lab will grab data from metaweather api"
   ]
  },
  {
   "cell_type": "code",
   "execution_count": 19,
   "metadata": {},
   "outputs": [
    {
     "data": {
      "text/plain": [
       "{'consolidated_weather': [{'id': 5126859123589120,\n",
       "   'weather_state_name': 'Heavy Cloud',\n",
       "   'weather_state_abbr': 'hc',\n",
       "   'wind_direction_compass': 'SE',\n",
       "   'created': '2020-02-17T00:49:08.231789Z',\n",
       "   'applicable_date': '2020-02-16',\n",
       "   'min_temp': -1.9249999999999998,\n",
       "   'max_temp': 8.91,\n",
       "   'the_temp': 6.33,\n",
       "   'wind_speed': 2.9742915116148363,\n",
       "   'wind_direction': 125.53817152196085,\n",
       "   'air_pressure': 1008.5,\n",
       "   'humidity': 68,\n",
       "   'visibility': 13.599019227710173,\n",
       "   'predictability': 71},\n",
       "  {'id': 5186705734762496,\n",
       "   'weather_state_name': 'Light Rain',\n",
       "   'weather_state_abbr': 'lr',\n",
       "   'wind_direction_compass': 'ENE',\n",
       "   'created': '2020-02-17T00:49:11.208852Z',\n",
       "   'applicable_date': '2020-02-17',\n",
       "   'min_temp': -5.21,\n",
       "   'max_temp': 4.145,\n",
       "   'the_temp': 3.71,\n",
       "   'wind_speed': 4.691227553789867,\n",
       "   'wind_direction': 64.44882051978648,\n",
       "   'air_pressure': 1015.0,\n",
       "   'humidity': 58,\n",
       "   'visibility': 13.9423268114213,\n",
       "   'predictability': 75},\n",
       "  {'id': 4769998880899072,\n",
       "   'weather_state_name': 'Hail',\n",
       "   'weather_state_abbr': 'h',\n",
       "   'wind_direction_compass': 'ESE',\n",
       "   'created': '2020-02-17T00:49:14.210324Z',\n",
       "   'applicable_date': '2020-02-18',\n",
       "   'min_temp': -6.225,\n",
       "   'max_temp': 0.255,\n",
       "   'the_temp': -2.06,\n",
       "   'wind_speed': 2.9655724579177605,\n",
       "   'wind_direction': 121.16158536535293,\n",
       "   'air_pressure': 1028.5,\n",
       "   'humidity': 67,\n",
       "   'visibility': 10.99609530342798,\n",
       "   'predictability': 82},\n",
       "  {'id': 4509022910676992,\n",
       "   'weather_state_name': 'Hail',\n",
       "   'weather_state_abbr': 'h',\n",
       "   'wind_direction_compass': 'N',\n",
       "   'created': '2020-02-17T00:49:17.899559Z',\n",
       "   'applicable_date': '2020-02-19',\n",
       "   'min_temp': -6.5,\n",
       "   'max_temp': -2.785,\n",
       "   'the_temp': -3.665,\n",
       "   'wind_speed': 4.216967092977014,\n",
       "   'wind_direction': 8.464957104960027,\n",
       "   'air_pressure': 1028.0,\n",
       "   'humidity': 75,\n",
       "   'visibility': 10.389947705400461,\n",
       "   'predictability': 82},\n",
       "  {'id': 6396491654496256,\n",
       "   'weather_state_name': 'Clear',\n",
       "   'weather_state_abbr': 'c',\n",
       "   'wind_direction_compass': 'S',\n",
       "   'created': '2020-02-17T00:49:20.193934Z',\n",
       "   'applicable_date': '2020-02-20',\n",
       "   'min_temp': -8.405000000000001,\n",
       "   'max_temp': 2.0949999999999998,\n",
       "   'the_temp': -1.73,\n",
       "   'wind_speed': 2.0455348848431822,\n",
       "   'wind_direction': 180.5612393361752,\n",
       "   'air_pressure': 1033.0,\n",
       "   'humidity': 65,\n",
       "   'visibility': 13.26844975343991,\n",
       "   'predictability': 68},\n",
       "  {'id': 6252759030431744,\n",
       "   'weather_state_name': 'Clear',\n",
       "   'weather_state_abbr': 'c',\n",
       "   'wind_direction_compass': 'SSW',\n",
       "   'created': '2020-02-17T00:49:23.306127Z',\n",
       "   'applicable_date': '2020-02-21',\n",
       "   'min_temp': -4.95,\n",
       "   'max_temp': 10.719999999999999,\n",
       "   'the_temp': 6.65,\n",
       "   'wind_speed': 2.885988228744134,\n",
       "   'wind_direction': 203.0,\n",
       "   'air_pressure': 1023.0,\n",
       "   'humidity': 43,\n",
       "   'visibility': 9.999726596675416,\n",
       "   'predictability': 68}],\n",
       " 'time': '2020-02-16T17:51:25.149494-07:00',\n",
       " 'sun_rise': '2020-02-16T06:51:38.567389-07:00',\n",
       " 'sun_set': '2020-02-16T17:35:48.841359-07:00',\n",
       " 'timezone_name': 'LMT',\n",
       " 'parent': {'title': 'Colorado',\n",
       "  'location_type': 'Region / State / Province',\n",
       "  'woeid': 2347564,\n",
       "  'latt_long': '38.997921,-105.550957'},\n",
       " 'sources': [{'title': 'BBC',\n",
       "   'slug': 'bbc',\n",
       "   'url': 'http://www.bbc.co.uk/weather/',\n",
       "   'crawl_rate': 360},\n",
       "  {'title': 'Forecast.io',\n",
       "   'slug': 'forecast-io',\n",
       "   'url': 'http://forecast.io/',\n",
       "   'crawl_rate': 480},\n",
       "  {'title': 'HAMweather',\n",
       "   'slug': 'hamweather',\n",
       "   'url': 'http://www.hamweather.com/',\n",
       "   'crawl_rate': 360},\n",
       "  {'title': 'Met Office',\n",
       "   'slug': 'met-office',\n",
       "   'url': 'http://www.metoffice.gov.uk/',\n",
       "   'crawl_rate': 180},\n",
       "  {'title': 'OpenWeatherMap',\n",
       "   'slug': 'openweathermap',\n",
       "   'url': 'http://openweathermap.org/',\n",
       "   'crawl_rate': 360},\n",
       "  {'title': 'Weather Underground',\n",
       "   'slug': 'wunderground',\n",
       "   'url': 'https://www.wunderground.com/?apiref=fc30dc3cd224e19b',\n",
       "   'crawl_rate': 720},\n",
       "  {'title': 'World Weather Online',\n",
       "   'slug': 'world-weather-online',\n",
       "   'url': 'http://www.worldweatheronline.com/',\n",
       "   'crawl_rate': 360}],\n",
       " 'title': 'Denver',\n",
       " 'location_type': 'City',\n",
       " 'woeid': 2391279,\n",
       " 'latt_long': '39.740009,-104.992264',\n",
       " 'timezone': 'US/Mountain'}"
      ]
     },
     "execution_count": 19,
     "metadata": {},
     "output_type": "execute_result"
    }
   ],
   "source": [
    "import requests as req\n",
    "from pymongo import MongoClient\n",
    "response = req.get('https://www.metaweather.com/api/location/2391279')\n",
    "response \n",
    "response.json()"
   ]
  },
  {
   "cell_type": "markdown",
   "metadata": {},
   "source": [
    "Add consolidarted weather to response.json, and run again "
   ]
  },
  {
   "cell_type": "code",
   "execution_count": 20,
   "metadata": {},
   "outputs": [
    {
     "data": {
      "text/plain": [
       "[{'id': 5126859123589120,\n",
       "  'weather_state_name': 'Heavy Cloud',\n",
       "  'weather_state_abbr': 'hc',\n",
       "  'wind_direction_compass': 'SE',\n",
       "  'created': '2020-02-17T00:49:08.231789Z',\n",
       "  'applicable_date': '2020-02-16',\n",
       "  'min_temp': -1.9249999999999998,\n",
       "  'max_temp': 8.91,\n",
       "  'the_temp': 6.33,\n",
       "  'wind_speed': 2.9742915116148363,\n",
       "  'wind_direction': 125.53817152196085,\n",
       "  'air_pressure': 1008.5,\n",
       "  'humidity': 68,\n",
       "  'visibility': 13.599019227710173,\n",
       "  'predictability': 71},\n",
       " {'id': 5186705734762496,\n",
       "  'weather_state_name': 'Light Rain',\n",
       "  'weather_state_abbr': 'lr',\n",
       "  'wind_direction_compass': 'ENE',\n",
       "  'created': '2020-02-17T00:49:11.208852Z',\n",
       "  'applicable_date': '2020-02-17',\n",
       "  'min_temp': -5.21,\n",
       "  'max_temp': 4.145,\n",
       "  'the_temp': 3.71,\n",
       "  'wind_speed': 4.691227553789867,\n",
       "  'wind_direction': 64.44882051978648,\n",
       "  'air_pressure': 1015.0,\n",
       "  'humidity': 58,\n",
       "  'visibility': 13.9423268114213,\n",
       "  'predictability': 75},\n",
       " {'id': 4769998880899072,\n",
       "  'weather_state_name': 'Hail',\n",
       "  'weather_state_abbr': 'h',\n",
       "  'wind_direction_compass': 'ESE',\n",
       "  'created': '2020-02-17T00:49:14.210324Z',\n",
       "  'applicable_date': '2020-02-18',\n",
       "  'min_temp': -6.225,\n",
       "  'max_temp': 0.255,\n",
       "  'the_temp': -2.06,\n",
       "  'wind_speed': 2.9655724579177605,\n",
       "  'wind_direction': 121.16158536535293,\n",
       "  'air_pressure': 1028.5,\n",
       "  'humidity': 67,\n",
       "  'visibility': 10.99609530342798,\n",
       "  'predictability': 82},\n",
       " {'id': 4509022910676992,\n",
       "  'weather_state_name': 'Hail',\n",
       "  'weather_state_abbr': 'h',\n",
       "  'wind_direction_compass': 'N',\n",
       "  'created': '2020-02-17T00:49:17.899559Z',\n",
       "  'applicable_date': '2020-02-19',\n",
       "  'min_temp': -6.5,\n",
       "  'max_temp': -2.785,\n",
       "  'the_temp': -3.665,\n",
       "  'wind_speed': 4.216967092977014,\n",
       "  'wind_direction': 8.464957104960027,\n",
       "  'air_pressure': 1028.0,\n",
       "  'humidity': 75,\n",
       "  'visibility': 10.389947705400461,\n",
       "  'predictability': 82},\n",
       " {'id': 6396491654496256,\n",
       "  'weather_state_name': 'Clear',\n",
       "  'weather_state_abbr': 'c',\n",
       "  'wind_direction_compass': 'S',\n",
       "  'created': '2020-02-17T00:49:20.193934Z',\n",
       "  'applicable_date': '2020-02-20',\n",
       "  'min_temp': -8.405000000000001,\n",
       "  'max_temp': 2.0949999999999998,\n",
       "  'the_temp': -1.73,\n",
       "  'wind_speed': 2.0455348848431822,\n",
       "  'wind_direction': 180.5612393361752,\n",
       "  'air_pressure': 1033.0,\n",
       "  'humidity': 65,\n",
       "  'visibility': 13.26844975343991,\n",
       "  'predictability': 68},\n",
       " {'id': 6252759030431744,\n",
       "  'weather_state_name': 'Clear',\n",
       "  'weather_state_abbr': 'c',\n",
       "  'wind_direction_compass': 'SSW',\n",
       "  'created': '2020-02-17T00:49:23.306127Z',\n",
       "  'applicable_date': '2020-02-21',\n",
       "  'min_temp': -4.95,\n",
       "  'max_temp': 10.719999999999999,\n",
       "  'the_temp': 6.65,\n",
       "  'wind_speed': 2.885988228744134,\n",
       "  'wind_direction': 203.0,\n",
       "  'air_pressure': 1023.0,\n",
       "  'humidity': 43,\n",
       "  'visibility': 9.999726596675416,\n",
       "  'predictability': 68}]"
      ]
     },
     "execution_count": 20,
     "metadata": {},
     "output_type": "execute_result"
    }
   ],
   "source": [
    "response.json()['consolidated_weather']"
   ]
  },
  {
   "cell_type": "markdown",
   "metadata": {},
   "source": [
    "Import pandas which is add on package.  Add a Panda Data Frame object called df that uses the json normalize and then display the head (top)"
   ]
  },
  {
   "cell_type": "code",
   "execution_count": 21,
   "metadata": {},
   "outputs": [
    {
     "name": "stderr",
     "output_type": "stream",
     "text": [
      "C:\\Users\\Cathy\\Anaconda3.5\\lib\\site-packages\\ipykernel_launcher.py:4: FutureWarning:\n",
      "\n",
      "pandas.io.json.json_normalize is deprecated, use pandas.json_normalize instead\n",
      "\n"
     ]
    },
    {
     "data": {
      "text/plain": [
       "<bound method NDFrame.head of                                 consolidated_weather  \\\n",
       "0  [{'id': 5126859123589120, 'weather_state_name'...   \n",
       "\n",
       "                               time                          sun_rise  \\\n",
       "0  2020-02-16T17:51:25.904584-07:00  2020-02-16T06:51:38.567389-07:00   \n",
       "\n",
       "                            sun_set timezone_name  \\\n",
       "0  2020-02-16T17:35:48.841359-07:00           LMT   \n",
       "\n",
       "                                             sources   title location_type  \\\n",
       "0  [{'title': 'BBC', 'slug': 'bbc', 'url': 'http:...  Denver          City   \n",
       "\n",
       "     woeid              latt_long     timezone parent.title  \\\n",
       "0  2391279  39.740009,-104.992264  US/Mountain     Colorado   \n",
       "\n",
       "        parent.location_type  parent.woeid       parent.latt_long  \n",
       "0  Region / State / Province       2347564  38.997921,-105.550957  >"
      ]
     },
     "execution_count": 21,
     "metadata": {},
     "output_type": "execute_result"
    }
   ],
   "source": [
    "import pandas as pd\n",
    "import requests as req\n",
    "response = req.get('https://www.metaweather.com/api/location/2391279/')\n",
    "df = pd.io.json.json_normalize(response.json())\n",
    "df.head"
   ]
  },
  {
   "cell_type": "markdown",
   "metadata": {},
   "source": [
    "Import pandas which is add on package.  Add a Panda Data Frame object called df that uses the json normalize and then display the head (top).import pandas as pdimport requests as reqresponse = req.get('https://www.metaweather.com/api/location/2391279/')df = pd.io.json.json_normalize(response.json())df.headThen we will change the python program to include a new array called days.  The first entry inthe array shows the first day, to reference the second day we would use [1] since the array is zero relative"
   ]
  },
  {
   "cell_type": "code",
   "execution_count": 22,
   "metadata": {},
   "outputs": [
    {
     "data": {
      "text/plain": [
       "{'id': 5126859123589120,\n",
       " 'weather_state_name': 'Heavy Cloud',\n",
       " 'weather_state_abbr': 'hc',\n",
       " 'wind_direction_compass': 'SE',\n",
       " 'created': '2020-02-17T00:49:08.231789Z',\n",
       " 'applicable_date': '2020-02-16',\n",
       " 'min_temp': -1.9249999999999998,\n",
       " 'max_temp': 8.91,\n",
       " 'the_temp': 6.33,\n",
       " 'wind_speed': 2.9742915116148363,\n",
       " 'wind_direction': 125.53817152196085,\n",
       " 'air_pressure': 1008.5,\n",
       " 'humidity': 68,\n",
       " 'visibility': 13.599019227710173,\n",
       " 'predictability': 71}"
      ]
     },
     "execution_count": 22,
     "metadata": {},
     "output_type": "execute_result"
    }
   ],
   "source": [
    "days = response.json()['consolidated_weather']\n",
    "days[0]"
   ]
  },
  {
   "cell_type": "markdown",
   "metadata": {},
   "source": [
    "We will continue to embellish the program.This is the current code of the program after more changes.  When you run, you will see the results shown below"
   ]
  },
  {
   "cell_type": "code",
   "execution_count": 23,
   "metadata": {},
   "outputs": [
    {
     "name": "stderr",
     "output_type": "stream",
     "text": [
      "C:\\Users\\Cathy\\Anaconda3.5\\lib\\site-packages\\urllib3\\connectionpool.py:857: InsecureRequestWarning:\n",
      "\n",
      "Unverified HTTPS request is being made. Adding certificate verification is strongly advised. See: https://urllib3.readthedocs.io/en/latest/advanced-usage.html#ssl-warnings\n",
      "\n",
      "C:\\Users\\Cathy\\Anaconda3.5\\lib\\site-packages\\urllib3\\connectionpool.py:857: InsecureRequestWarning:\n",
      "\n",
      "Unverified HTTPS request is being made. Adding certificate verification is strongly advised. See: https://urllib3.readthedocs.io/en/latest/advanced-usage.html#ssl-warnings\n",
      "\n",
      "C:\\Users\\Cathy\\Anaconda3.5\\lib\\site-packages\\ipykernel_launcher.py:5: FutureWarning:\n",
      "\n",
      "pandas.io.json.json_normalize is deprecated, use pandas.json_normalize instead\n",
      "\n"
     ]
    },
    {
     "data": {
      "text/plain": [
       "<bound method NDFrame.head of                  id weather_state_name weather_state_abbr  \\\n",
       "0  5126859123589120        Heavy Cloud                 hc   \n",
       "\n",
       "  wind_direction_compass                      created applicable_date  \\\n",
       "0                     SE  2020-02-17T00:49:08.231789Z      2020-02-16   \n",
       "\n",
       "   min_temp  max_temp  the_temp  wind_speed  wind_direction  air_pressure  \\\n",
       "0    -1.925      8.91      6.33    2.974292      125.538172        1008.5   \n",
       "\n",
       "   humidity  visibility  predictability  \n",
       "0        68   13.599019              71  >"
      ]
     },
     "execution_count": 23,
     "metadata": {},
     "output_type": "execute_result"
    }
   ],
   "source": [
    "import pandas as pd\n",
    "import requests as req\n",
    "response = req.get('https://metaweather.com/api/location/2391279/',verify=False)\n",
    "days = response.json()['consolidated_weather']\n",
    "df=pd.io.json.json_normalize(days[0])\n",
    "df.head"
   ]
  },
  {
   "cell_type": "markdown",
   "metadata": {},
   "source": [
    "We will continue to embellish the program.This is the current code of the program after more changes.  When you run, you will see the results shown below.import pandas as pdimport requests as reqresponse = req.get('https://www.metaweather.com/api/location/2391279/')days = response.json()['consolidated_weather']df = pd.io.json.json_normalize(days[0])df.headNow we will add a for loop to the program that loops thru the days array, appending each day to the date frame.  Remember to indent for Python.import pandas as pdimport requests as reqresponse = req.get('https://www.metaweather.com/api/location/2391279/')days = response.json()['consolidated_weather']for day in days[1:]:df = df.append(pd.io.json.json_normalize(day))df.shapeThe Panda shape command will show the dimensions of the data frame at the bottom which is 6 x 15"
   ]
  },
  {
   "cell_type": "code",
   "execution_count": 24,
   "metadata": {},
   "outputs": [
    {
     "name": "stderr",
     "output_type": "stream",
     "text": [
      "C:\\Users\\Cathy\\Anaconda3.5\\lib\\site-packages\\urllib3\\connectionpool.py:857: InsecureRequestWarning:\n",
      "\n",
      "Unverified HTTPS request is being made. Adding certificate verification is strongly advised. See: https://urllib3.readthedocs.io/en/latest/advanced-usage.html#ssl-warnings\n",
      "\n",
      "C:\\Users\\Cathy\\Anaconda3.5\\lib\\site-packages\\urllib3\\connectionpool.py:857: InsecureRequestWarning:\n",
      "\n",
      "Unverified HTTPS request is being made. Adding certificate verification is strongly advised. See: https://urllib3.readthedocs.io/en/latest/advanced-usage.html#ssl-warnings\n",
      "\n",
      "C:\\Users\\Cathy\\Anaconda3.5\\lib\\site-packages\\ipykernel_launcher.py:4: FutureWarning:\n",
      "\n",
      "pandas.io.json.json_normalize is deprecated, use pandas.json_normalize instead\n",
      "\n"
     ]
    },
    {
     "data": {
      "text/plain": [
       "(6, 15)"
      ]
     },
     "execution_count": 24,
     "metadata": {},
     "output_type": "execute_result"
    }
   ],
   "source": [
    "response = req.get('https://metaweather.com/api/location/2391279/',verify=False)\n",
    "days = response.json()['consolidated_weather']\n",
    "for day in days[1:]:\n",
    "    df = df.append(pd.io.json.json_normalize(day))\n",
    "df.shape"
   ]
  },
  {
   "cell_type": "markdown",
   "metadata": {},
   "source": [
    "If we add a df command, python will display the Data Frame in a tabular form"
   ]
  },
  {
   "cell_type": "code",
   "execution_count": 25,
   "metadata": {},
   "outputs": [
    {
     "name": "stderr",
     "output_type": "stream",
     "text": [
      "C:\\Users\\Cathy\\Anaconda3.5\\lib\\site-packages\\urllib3\\connectionpool.py:857: InsecureRequestWarning:\n",
      "\n",
      "Unverified HTTPS request is being made. Adding certificate verification is strongly advised. See: https://urllib3.readthedocs.io/en/latest/advanced-usage.html#ssl-warnings\n",
      "\n",
      "C:\\Users\\Cathy\\Anaconda3.5\\lib\\site-packages\\urllib3\\connectionpool.py:857: InsecureRequestWarning:\n",
      "\n",
      "Unverified HTTPS request is being made. Adding certificate verification is strongly advised. See: https://urllib3.readthedocs.io/en/latest/advanced-usage.html#ssl-warnings\n",
      "\n",
      "C:\\Users\\Cathy\\Anaconda3.5\\lib\\site-packages\\ipykernel_launcher.py:4: FutureWarning:\n",
      "\n",
      "pandas.io.json.json_normalize is deprecated, use pandas.json_normalize instead\n",
      "\n"
     ]
    },
    {
     "data": {
      "text/html": [
       "<div>\n",
       "<style scoped>\n",
       "    .dataframe tbody tr th:only-of-type {\n",
       "        vertical-align: middle;\n",
       "    }\n",
       "\n",
       "    .dataframe tbody tr th {\n",
       "        vertical-align: top;\n",
       "    }\n",
       "\n",
       "    .dataframe thead th {\n",
       "        text-align: right;\n",
       "    }\n",
       "</style>\n",
       "<table border=\"1\" class=\"dataframe\">\n",
       "  <thead>\n",
       "    <tr style=\"text-align: right;\">\n",
       "      <th></th>\n",
       "      <th>id</th>\n",
       "      <th>weather_state_name</th>\n",
       "      <th>weather_state_abbr</th>\n",
       "      <th>wind_direction_compass</th>\n",
       "      <th>created</th>\n",
       "      <th>applicable_date</th>\n",
       "      <th>min_temp</th>\n",
       "      <th>max_temp</th>\n",
       "      <th>the_temp</th>\n",
       "      <th>wind_speed</th>\n",
       "      <th>wind_direction</th>\n",
       "      <th>air_pressure</th>\n",
       "      <th>humidity</th>\n",
       "      <th>visibility</th>\n",
       "      <th>predictability</th>\n",
       "    </tr>\n",
       "  </thead>\n",
       "  <tbody>\n",
       "    <tr>\n",
       "      <th>0</th>\n",
       "      <td>5126859123589120</td>\n",
       "      <td>Heavy Cloud</td>\n",
       "      <td>hc</td>\n",
       "      <td>SE</td>\n",
       "      <td>2020-02-17T00:49:08.231789Z</td>\n",
       "      <td>2020-02-16</td>\n",
       "      <td>-1.925</td>\n",
       "      <td>8.910</td>\n",
       "      <td>6.330</td>\n",
       "      <td>2.974292</td>\n",
       "      <td>125.538172</td>\n",
       "      <td>1008.5</td>\n",
       "      <td>68</td>\n",
       "      <td>13.599019</td>\n",
       "      <td>71</td>\n",
       "    </tr>\n",
       "    <tr>\n",
       "      <th>0</th>\n",
       "      <td>5186705734762496</td>\n",
       "      <td>Light Rain</td>\n",
       "      <td>lr</td>\n",
       "      <td>ENE</td>\n",
       "      <td>2020-02-17T00:49:11.208852Z</td>\n",
       "      <td>2020-02-17</td>\n",
       "      <td>-5.210</td>\n",
       "      <td>4.145</td>\n",
       "      <td>3.710</td>\n",
       "      <td>4.691228</td>\n",
       "      <td>64.448821</td>\n",
       "      <td>1015.0</td>\n",
       "      <td>58</td>\n",
       "      <td>13.942327</td>\n",
       "      <td>75</td>\n",
       "    </tr>\n",
       "    <tr>\n",
       "      <th>0</th>\n",
       "      <td>4769998880899072</td>\n",
       "      <td>Hail</td>\n",
       "      <td>h</td>\n",
       "      <td>ESE</td>\n",
       "      <td>2020-02-17T00:49:14.210324Z</td>\n",
       "      <td>2020-02-18</td>\n",
       "      <td>-6.225</td>\n",
       "      <td>0.255</td>\n",
       "      <td>-2.060</td>\n",
       "      <td>2.965572</td>\n",
       "      <td>121.161585</td>\n",
       "      <td>1028.5</td>\n",
       "      <td>67</td>\n",
       "      <td>10.996095</td>\n",
       "      <td>82</td>\n",
       "    </tr>\n",
       "    <tr>\n",
       "      <th>0</th>\n",
       "      <td>4509022910676992</td>\n",
       "      <td>Hail</td>\n",
       "      <td>h</td>\n",
       "      <td>N</td>\n",
       "      <td>2020-02-17T00:49:17.899559Z</td>\n",
       "      <td>2020-02-19</td>\n",
       "      <td>-6.500</td>\n",
       "      <td>-2.785</td>\n",
       "      <td>-3.665</td>\n",
       "      <td>4.216967</td>\n",
       "      <td>8.464957</td>\n",
       "      <td>1028.0</td>\n",
       "      <td>75</td>\n",
       "      <td>10.389948</td>\n",
       "      <td>82</td>\n",
       "    </tr>\n",
       "    <tr>\n",
       "      <th>0</th>\n",
       "      <td>6396491654496256</td>\n",
       "      <td>Clear</td>\n",
       "      <td>c</td>\n",
       "      <td>S</td>\n",
       "      <td>2020-02-17T00:49:20.193934Z</td>\n",
       "      <td>2020-02-20</td>\n",
       "      <td>-8.405</td>\n",
       "      <td>2.095</td>\n",
       "      <td>-1.730</td>\n",
       "      <td>2.045535</td>\n",
       "      <td>180.561239</td>\n",
       "      <td>1033.0</td>\n",
       "      <td>65</td>\n",
       "      <td>13.268450</td>\n",
       "      <td>68</td>\n",
       "    </tr>\n",
       "    <tr>\n",
       "      <th>0</th>\n",
       "      <td>6252759030431744</td>\n",
       "      <td>Clear</td>\n",
       "      <td>c</td>\n",
       "      <td>SSW</td>\n",
       "      <td>2020-02-17T00:49:23.306127Z</td>\n",
       "      <td>2020-02-21</td>\n",
       "      <td>-4.950</td>\n",
       "      <td>10.720</td>\n",
       "      <td>6.650</td>\n",
       "      <td>2.885988</td>\n",
       "      <td>203.000000</td>\n",
       "      <td>1023.0</td>\n",
       "      <td>43</td>\n",
       "      <td>9.999727</td>\n",
       "      <td>68</td>\n",
       "    </tr>\n",
       "    <tr>\n",
       "      <th>0</th>\n",
       "      <td>5186705734762496</td>\n",
       "      <td>Light Rain</td>\n",
       "      <td>lr</td>\n",
       "      <td>ENE</td>\n",
       "      <td>2020-02-17T00:49:11.208852Z</td>\n",
       "      <td>2020-02-17</td>\n",
       "      <td>-5.210</td>\n",
       "      <td>4.145</td>\n",
       "      <td>3.710</td>\n",
       "      <td>4.691228</td>\n",
       "      <td>64.448821</td>\n",
       "      <td>1015.0</td>\n",
       "      <td>58</td>\n",
       "      <td>13.942327</td>\n",
       "      <td>75</td>\n",
       "    </tr>\n",
       "    <tr>\n",
       "      <th>0</th>\n",
       "      <td>4769998880899072</td>\n",
       "      <td>Hail</td>\n",
       "      <td>h</td>\n",
       "      <td>ESE</td>\n",
       "      <td>2020-02-17T00:49:14.210324Z</td>\n",
       "      <td>2020-02-18</td>\n",
       "      <td>-6.225</td>\n",
       "      <td>0.255</td>\n",
       "      <td>-2.060</td>\n",
       "      <td>2.965572</td>\n",
       "      <td>121.161585</td>\n",
       "      <td>1028.5</td>\n",
       "      <td>67</td>\n",
       "      <td>10.996095</td>\n",
       "      <td>82</td>\n",
       "    </tr>\n",
       "    <tr>\n",
       "      <th>0</th>\n",
       "      <td>4509022910676992</td>\n",
       "      <td>Hail</td>\n",
       "      <td>h</td>\n",
       "      <td>N</td>\n",
       "      <td>2020-02-17T00:49:17.899559Z</td>\n",
       "      <td>2020-02-19</td>\n",
       "      <td>-6.500</td>\n",
       "      <td>-2.785</td>\n",
       "      <td>-3.665</td>\n",
       "      <td>4.216967</td>\n",
       "      <td>8.464957</td>\n",
       "      <td>1028.0</td>\n",
       "      <td>75</td>\n",
       "      <td>10.389948</td>\n",
       "      <td>82</td>\n",
       "    </tr>\n",
       "    <tr>\n",
       "      <th>0</th>\n",
       "      <td>6396491654496256</td>\n",
       "      <td>Clear</td>\n",
       "      <td>c</td>\n",
       "      <td>S</td>\n",
       "      <td>2020-02-17T00:49:20.193934Z</td>\n",
       "      <td>2020-02-20</td>\n",
       "      <td>-8.405</td>\n",
       "      <td>2.095</td>\n",
       "      <td>-1.730</td>\n",
       "      <td>2.045535</td>\n",
       "      <td>180.561239</td>\n",
       "      <td>1033.0</td>\n",
       "      <td>65</td>\n",
       "      <td>13.268450</td>\n",
       "      <td>68</td>\n",
       "    </tr>\n",
       "    <tr>\n",
       "      <th>0</th>\n",
       "      <td>6252759030431744</td>\n",
       "      <td>Clear</td>\n",
       "      <td>c</td>\n",
       "      <td>SSW</td>\n",
       "      <td>2020-02-17T00:49:23.306127Z</td>\n",
       "      <td>2020-02-21</td>\n",
       "      <td>-4.950</td>\n",
       "      <td>10.720</td>\n",
       "      <td>6.650</td>\n",
       "      <td>2.885988</td>\n",
       "      <td>203.000000</td>\n",
       "      <td>1023.0</td>\n",
       "      <td>43</td>\n",
       "      <td>9.999727</td>\n",
       "      <td>68</td>\n",
       "    </tr>\n",
       "  </tbody>\n",
       "</table>\n",
       "</div>"
      ],
      "text/plain": [
       "                 id weather_state_name weather_state_abbr  \\\n",
       "0  5126859123589120        Heavy Cloud                 hc   \n",
       "0  5186705734762496         Light Rain                 lr   \n",
       "0  4769998880899072               Hail                  h   \n",
       "0  4509022910676992               Hail                  h   \n",
       "0  6396491654496256              Clear                  c   \n",
       "0  6252759030431744              Clear                  c   \n",
       "0  5186705734762496         Light Rain                 lr   \n",
       "0  4769998880899072               Hail                  h   \n",
       "0  4509022910676992               Hail                  h   \n",
       "0  6396491654496256              Clear                  c   \n",
       "0  6252759030431744              Clear                  c   \n",
       "\n",
       "  wind_direction_compass                      created applicable_date  \\\n",
       "0                     SE  2020-02-17T00:49:08.231789Z      2020-02-16   \n",
       "0                    ENE  2020-02-17T00:49:11.208852Z      2020-02-17   \n",
       "0                    ESE  2020-02-17T00:49:14.210324Z      2020-02-18   \n",
       "0                      N  2020-02-17T00:49:17.899559Z      2020-02-19   \n",
       "0                      S  2020-02-17T00:49:20.193934Z      2020-02-20   \n",
       "0                    SSW  2020-02-17T00:49:23.306127Z      2020-02-21   \n",
       "0                    ENE  2020-02-17T00:49:11.208852Z      2020-02-17   \n",
       "0                    ESE  2020-02-17T00:49:14.210324Z      2020-02-18   \n",
       "0                      N  2020-02-17T00:49:17.899559Z      2020-02-19   \n",
       "0                      S  2020-02-17T00:49:20.193934Z      2020-02-20   \n",
       "0                    SSW  2020-02-17T00:49:23.306127Z      2020-02-21   \n",
       "\n",
       "   min_temp  max_temp  the_temp  wind_speed  wind_direction  air_pressure  \\\n",
       "0    -1.925     8.910     6.330    2.974292      125.538172        1008.5   \n",
       "0    -5.210     4.145     3.710    4.691228       64.448821        1015.0   \n",
       "0    -6.225     0.255    -2.060    2.965572      121.161585        1028.5   \n",
       "0    -6.500    -2.785    -3.665    4.216967        8.464957        1028.0   \n",
       "0    -8.405     2.095    -1.730    2.045535      180.561239        1033.0   \n",
       "0    -4.950    10.720     6.650    2.885988      203.000000        1023.0   \n",
       "0    -5.210     4.145     3.710    4.691228       64.448821        1015.0   \n",
       "0    -6.225     0.255    -2.060    2.965572      121.161585        1028.5   \n",
       "0    -6.500    -2.785    -3.665    4.216967        8.464957        1028.0   \n",
       "0    -8.405     2.095    -1.730    2.045535      180.561239        1033.0   \n",
       "0    -4.950    10.720     6.650    2.885988      203.000000        1023.0   \n",
       "\n",
       "   humidity  visibility  predictability  \n",
       "0        68   13.599019              71  \n",
       "0        58   13.942327              75  \n",
       "0        67   10.996095              82  \n",
       "0        75   10.389948              82  \n",
       "0        65   13.268450              68  \n",
       "0        43    9.999727              68  \n",
       "0        58   13.942327              75  \n",
       "0        67   10.996095              82  \n",
       "0        75   10.389948              82  \n",
       "0        65   13.268450              68  \n",
       "0        43    9.999727              68  "
      ]
     },
     "execution_count": 25,
     "metadata": {},
     "output_type": "execute_result"
    }
   ],
   "source": [
    "response = req.get('https://metaweather.com/api/location/2391279/',verify=False)\n",
    "days = response.json()['consolidated_weather']\n",
    "for day in days[1:]:\n",
    "    df = df.append(pd.io.json.json_normalize(day))\n",
    "df.shape\n",
    "df"
   ]
  },
  {
   "cell_type": "markdown",
   "metadata": {},
   "source": [
    "We can now add df.info()Pandasdataframe.info() function is used to get a concise summary of the dataframe. It comes really handy when doing exploratory analysis of the data."
   ]
  },
  {
   "cell_type": "code",
   "execution_count": 26,
   "metadata": {},
   "outputs": [
    {
     "name": "stderr",
     "output_type": "stream",
     "text": [
      "C:\\Users\\Cathy\\Anaconda3.5\\lib\\site-packages\\urllib3\\connectionpool.py:857: InsecureRequestWarning:\n",
      "\n",
      "Unverified HTTPS request is being made. Adding certificate verification is strongly advised. See: https://urllib3.readthedocs.io/en/latest/advanced-usage.html#ssl-warnings\n",
      "\n",
      "C:\\Users\\Cathy\\Anaconda3.5\\lib\\site-packages\\urllib3\\connectionpool.py:857: InsecureRequestWarning:\n",
      "\n",
      "Unverified HTTPS request is being made. Adding certificate verification is strongly advised. See: https://urllib3.readthedocs.io/en/latest/advanced-usage.html#ssl-warnings\n",
      "\n"
     ]
    },
    {
     "name": "stdout",
     "output_type": "stream",
     "text": [
      "<class 'pandas.core.frame.DataFrame'>\n",
      "Int64Index: 16 entries, 0 to 0\n",
      "Data columns (total 15 columns):\n",
      " #   Column                  Non-Null Count  Dtype  \n",
      "---  ------                  --------------  -----  \n",
      " 0   id                      16 non-null     int64  \n",
      " 1   weather_state_name      16 non-null     object \n",
      " 2   weather_state_abbr      16 non-null     object \n",
      " 3   wind_direction_compass  16 non-null     object \n",
      " 4   created                 16 non-null     object \n",
      " 5   applicable_date         16 non-null     object \n",
      " 6   min_temp                16 non-null     float64\n",
      " 7   max_temp                16 non-null     float64\n",
      " 8   the_temp                16 non-null     float64\n",
      " 9   wind_speed              16 non-null     float64\n",
      " 10  wind_direction          16 non-null     float64\n",
      " 11  air_pressure            16 non-null     float64\n",
      " 12  humidity                16 non-null     int64  \n",
      " 13  visibility              16 non-null     float64\n",
      " 14  predictability          16 non-null     int64  \n",
      "dtypes: float64(7), int64(3), object(5)\n",
      "memory usage: 2.0+ KB\n"
     ]
    },
    {
     "name": "stderr",
     "output_type": "stream",
     "text": [
      "C:\\Users\\Cathy\\Anaconda3.5\\lib\\site-packages\\ipykernel_launcher.py:4: FutureWarning:\n",
      "\n",
      "pandas.io.json.json_normalize is deprecated, use pandas.json_normalize instead\n",
      "\n"
     ]
    }
   ],
   "source": [
    "response = req.get('https://metaweather.com/api/location/2391279/',verify=False)\n",
    "days = response.json()['consolidated_weather']\n",
    "for day in days[1:]:\n",
    "    df = df.append(pd.io.json.json_normalize(day))\n",
    "df.shape\n",
    "df.info()"
   ]
  },
  {
   "cell_type": "markdown",
   "metadata": {},
   "source": [
    "Add three statements above the df.info() statement, as shown below to format dates and remove unwanted columns.  Also, I added # comments and improved the format of the program with spaces before we go much further.  Also, within Notebooks, you can click to save (disk symbol) the program for later use.  A tip from an ‘old programmer’ is to save frequently."
   ]
  },
  {
   "cell_type": "code",
   "execution_count": 29,
   "metadata": {},
   "outputs": [
    {
     "ename": "TypeError",
     "evalue": "Cannot convert tz-naive timestamps, use tz_localize to localize",
     "output_type": "error",
     "traceback": [
      "\u001b[1;31m---------------------------------------------------------------------------\u001b[0m",
      "\u001b[1;31mTypeError\u001b[0m                                 Traceback (most recent call last)",
      "\u001b[1;32m<ipython-input-29-13acd6051f00>\u001b[0m in \u001b[0;36m<module>\u001b[1;34m()\u001b[0m\n\u001b[0;32m      1\u001b[0m \u001b[0mdf\u001b[0m\u001b[1;33m[\u001b[0m\u001b[1;34m'created'\u001b[0m\u001b[1;33m]\u001b[0m \u001b[1;33m=\u001b[0m \u001b[0mpd\u001b[0m\u001b[1;33m.\u001b[0m\u001b[0mto_datetime\u001b[0m\u001b[1;33m(\u001b[0m\u001b[0mdf\u001b[0m\u001b[1;33m[\u001b[0m\u001b[1;34m'created'\u001b[0m\u001b[1;33m]\u001b[0m\u001b[1;33m,\u001b[0m \u001b[0mutc\u001b[0m\u001b[1;33m=\u001b[0m\u001b[1;32mTrue\u001b[0m\u001b[1;33m)\u001b[0m\u001b[1;33m\u001b[0m\u001b[0m\n\u001b[1;32m----> 2\u001b[1;33m \u001b[0mdf\u001b[0m\u001b[1;33m[\u001b[0m\u001b[1;34m'applicable_date'\u001b[0m\u001b[1;33m]\u001b[0m \u001b[1;33m=\u001b[0m \u001b[0mpd\u001b[0m\u001b[1;33m.\u001b[0m\u001b[0mto_datetime\u001b[0m\u001b[1;33m(\u001b[0m\u001b[0mdf\u001b[0m\u001b[1;33m[\u001b[0m\u001b[1;34m'applicable_date'\u001b[0m\u001b[1;33m]\u001b[0m\u001b[1;33m)\u001b[0m\u001b[1;33m.\u001b[0m\u001b[0mdt\u001b[0m\u001b[1;33m.\u001b[0m\u001b[0mtz_convert\u001b[0m\u001b[1;33m(\u001b[0m\u001b[1;34m'US/Mountain'\u001b[0m\u001b[1;33m)\u001b[0m\u001b[1;33m\u001b[0m\u001b[0m\n\u001b[0m\u001b[0;32m      3\u001b[0m \u001b[0mdf\u001b[0m\u001b[1;33m.\u001b[0m\u001b[0mhead\u001b[0m\u001b[1;33m(\u001b[0m\u001b[1;33m)\u001b[0m\u001b[1;33m\u001b[0m\u001b[0m\n",
      "\u001b[1;32m~\\Anaconda3.5\\lib\\site-packages\\pandas\\core\\accessor.py\u001b[0m in \u001b[0;36mf\u001b[1;34m(self, *args, **kwargs)\u001b[0m\n\u001b[0;32m     97\u001b[0m         \u001b[1;32mdef\u001b[0m \u001b[0m_create_delegator_method\u001b[0m\u001b[1;33m(\u001b[0m\u001b[0mname\u001b[0m\u001b[1;33m)\u001b[0m\u001b[1;33m:\u001b[0m\u001b[1;33m\u001b[0m\u001b[0m\n\u001b[0;32m     98\u001b[0m             \u001b[1;32mdef\u001b[0m \u001b[0mf\u001b[0m\u001b[1;33m(\u001b[0m\u001b[0mself\u001b[0m\u001b[1;33m,\u001b[0m \u001b[1;33m*\u001b[0m\u001b[0margs\u001b[0m\u001b[1;33m,\u001b[0m \u001b[1;33m**\u001b[0m\u001b[0mkwargs\u001b[0m\u001b[1;33m)\u001b[0m\u001b[1;33m:\u001b[0m\u001b[1;33m\u001b[0m\u001b[0m\n\u001b[1;32m---> 99\u001b[1;33m                 \u001b[1;32mreturn\u001b[0m \u001b[0mself\u001b[0m\u001b[1;33m.\u001b[0m\u001b[0m_delegate_method\u001b[0m\u001b[1;33m(\u001b[0m\u001b[0mname\u001b[0m\u001b[1;33m,\u001b[0m \u001b[1;33m*\u001b[0m\u001b[0margs\u001b[0m\u001b[1;33m,\u001b[0m \u001b[1;33m**\u001b[0m\u001b[0mkwargs\u001b[0m\u001b[1;33m)\u001b[0m\u001b[1;33m\u001b[0m\u001b[0m\n\u001b[0m\u001b[0;32m    100\u001b[0m \u001b[1;33m\u001b[0m\u001b[0m\n\u001b[0;32m    101\u001b[0m             \u001b[0mf\u001b[0m\u001b[1;33m.\u001b[0m\u001b[0m__name__\u001b[0m \u001b[1;33m=\u001b[0m \u001b[0mname\u001b[0m\u001b[1;33m\u001b[0m\u001b[0m\n",
      "\u001b[1;32m~\\Anaconda3.5\\lib\\site-packages\\pandas\\core\\indexes\\accessors.py\u001b[0m in \u001b[0;36m_delegate_method\u001b[1;34m(self, name, *args, **kwargs)\u001b[0m\n\u001b[0;32m    101\u001b[0m \u001b[1;33m\u001b[0m\u001b[0m\n\u001b[0;32m    102\u001b[0m         \u001b[0mmethod\u001b[0m \u001b[1;33m=\u001b[0m \u001b[0mgetattr\u001b[0m\u001b[1;33m(\u001b[0m\u001b[0mvalues\u001b[0m\u001b[1;33m,\u001b[0m \u001b[0mname\u001b[0m\u001b[1;33m)\u001b[0m\u001b[1;33m\u001b[0m\u001b[0m\n\u001b[1;32m--> 103\u001b[1;33m         \u001b[0mresult\u001b[0m \u001b[1;33m=\u001b[0m \u001b[0mmethod\u001b[0m\u001b[1;33m(\u001b[0m\u001b[1;33m*\u001b[0m\u001b[0margs\u001b[0m\u001b[1;33m,\u001b[0m \u001b[1;33m**\u001b[0m\u001b[0mkwargs\u001b[0m\u001b[1;33m)\u001b[0m\u001b[1;33m\u001b[0m\u001b[0m\n\u001b[0m\u001b[0;32m    104\u001b[0m \u001b[1;33m\u001b[0m\u001b[0m\n\u001b[0;32m    105\u001b[0m         \u001b[1;32mif\u001b[0m \u001b[1;32mnot\u001b[0m \u001b[0mis_list_like\u001b[0m\u001b[1;33m(\u001b[0m\u001b[0mresult\u001b[0m\u001b[1;33m)\u001b[0m\u001b[1;33m:\u001b[0m\u001b[1;33m\u001b[0m\u001b[0m\n",
      "\u001b[1;32m~\\Anaconda3.5\\lib\\site-packages\\pandas\\core\\accessor.py\u001b[0m in \u001b[0;36mf\u001b[1;34m(self, *args, **kwargs)\u001b[0m\n\u001b[0;32m     97\u001b[0m         \u001b[1;32mdef\u001b[0m \u001b[0m_create_delegator_method\u001b[0m\u001b[1;33m(\u001b[0m\u001b[0mname\u001b[0m\u001b[1;33m)\u001b[0m\u001b[1;33m:\u001b[0m\u001b[1;33m\u001b[0m\u001b[0m\n\u001b[0;32m     98\u001b[0m             \u001b[1;32mdef\u001b[0m \u001b[0mf\u001b[0m\u001b[1;33m(\u001b[0m\u001b[0mself\u001b[0m\u001b[1;33m,\u001b[0m \u001b[1;33m*\u001b[0m\u001b[0margs\u001b[0m\u001b[1;33m,\u001b[0m \u001b[1;33m**\u001b[0m\u001b[0mkwargs\u001b[0m\u001b[1;33m)\u001b[0m\u001b[1;33m:\u001b[0m\u001b[1;33m\u001b[0m\u001b[0m\n\u001b[1;32m---> 99\u001b[1;33m                 \u001b[1;32mreturn\u001b[0m \u001b[0mself\u001b[0m\u001b[1;33m.\u001b[0m\u001b[0m_delegate_method\u001b[0m\u001b[1;33m(\u001b[0m\u001b[0mname\u001b[0m\u001b[1;33m,\u001b[0m \u001b[1;33m*\u001b[0m\u001b[0margs\u001b[0m\u001b[1;33m,\u001b[0m \u001b[1;33m**\u001b[0m\u001b[0mkwargs\u001b[0m\u001b[1;33m)\u001b[0m\u001b[1;33m\u001b[0m\u001b[0m\n\u001b[0m\u001b[0;32m    100\u001b[0m \u001b[1;33m\u001b[0m\u001b[0m\n\u001b[0;32m    101\u001b[0m             \u001b[0mf\u001b[0m\u001b[1;33m.\u001b[0m\u001b[0m__name__\u001b[0m \u001b[1;33m=\u001b[0m \u001b[0mname\u001b[0m\u001b[1;33m\u001b[0m\u001b[0m\n",
      "\u001b[1;32m~\\Anaconda3.5\\lib\\site-packages\\pandas\\core\\indexes\\datetimelike.py\u001b[0m in \u001b[0;36m_delegate_method\u001b[1;34m(self, name, *args, **kwargs)\u001b[0m\n\u001b[0;32m    908\u001b[0m \u001b[1;33m\u001b[0m\u001b[0m\n\u001b[0;32m    909\u001b[0m     \u001b[1;32mdef\u001b[0m \u001b[0m_delegate_method\u001b[0m\u001b[1;33m(\u001b[0m\u001b[0mself\u001b[0m\u001b[1;33m,\u001b[0m \u001b[0mname\u001b[0m\u001b[1;33m,\u001b[0m \u001b[1;33m*\u001b[0m\u001b[0margs\u001b[0m\u001b[1;33m,\u001b[0m \u001b[1;33m**\u001b[0m\u001b[0mkwargs\u001b[0m\u001b[1;33m)\u001b[0m\u001b[1;33m:\u001b[0m\u001b[1;33m\u001b[0m\u001b[0m\n\u001b[1;32m--> 910\u001b[1;33m         \u001b[0mresult\u001b[0m \u001b[1;33m=\u001b[0m \u001b[0moperator\u001b[0m\u001b[1;33m.\u001b[0m\u001b[0mmethodcaller\u001b[0m\u001b[1;33m(\u001b[0m\u001b[0mname\u001b[0m\u001b[1;33m,\u001b[0m \u001b[1;33m*\u001b[0m\u001b[0margs\u001b[0m\u001b[1;33m,\u001b[0m \u001b[1;33m**\u001b[0m\u001b[0mkwargs\u001b[0m\u001b[1;33m)\u001b[0m\u001b[1;33m(\u001b[0m\u001b[0mself\u001b[0m\u001b[1;33m.\u001b[0m\u001b[0m_data\u001b[0m\u001b[1;33m)\u001b[0m\u001b[1;33m\u001b[0m\u001b[0m\n\u001b[0m\u001b[0;32m    911\u001b[0m         \u001b[1;32mif\u001b[0m \u001b[0mname\u001b[0m \u001b[1;32mnot\u001b[0m \u001b[1;32min\u001b[0m \u001b[0mself\u001b[0m\u001b[1;33m.\u001b[0m\u001b[0m_raw_methods\u001b[0m\u001b[1;33m:\u001b[0m\u001b[1;33m\u001b[0m\u001b[0m\n\u001b[0;32m    912\u001b[0m             \u001b[0mresult\u001b[0m \u001b[1;33m=\u001b[0m \u001b[0mIndex\u001b[0m\u001b[1;33m(\u001b[0m\u001b[0mresult\u001b[0m\u001b[1;33m,\u001b[0m \u001b[0mname\u001b[0m\u001b[1;33m=\u001b[0m\u001b[0mself\u001b[0m\u001b[1;33m.\u001b[0m\u001b[0mname\u001b[0m\u001b[1;33m)\u001b[0m\u001b[1;33m\u001b[0m\u001b[0m\n",
      "\u001b[1;32m~\\Anaconda3.5\\lib\\site-packages\\pandas\\core\\arrays\\datetimes.py\u001b[0m in \u001b[0;36mtz_convert\u001b[1;34m(self, tz)\u001b[0m\n\u001b[0;32m    816\u001b[0m             \u001b[1;31m# tz naive, use tz_localize\u001b[0m\u001b[1;33m\u001b[0m\u001b[1;33m\u001b[0m\u001b[0m\n\u001b[0;32m    817\u001b[0m             raise TypeError(\n\u001b[1;32m--> 818\u001b[1;33m                 \u001b[1;34m\"Cannot convert tz-naive timestamps, use tz_localize to localize\"\u001b[0m\u001b[1;33m\u001b[0m\u001b[0m\n\u001b[0m\u001b[0;32m    819\u001b[0m             )\n\u001b[0;32m    820\u001b[0m \u001b[1;33m\u001b[0m\u001b[0m\n",
      "\u001b[1;31mTypeError\u001b[0m: Cannot convert tz-naive timestamps, use tz_localize to localize"
     ]
    }
   ],
   "source": [
    "df['created'] = pd.to_datetime(df['created'], utc=True)\n",
    "df['applicable_date'] = pd.to_datetime(df['applicable_date']).dt.tz_convert('US/Mountain')\n",
    "df.head()"
   ]
  },
  {
   "cell_type": "markdown",
   "metadata": {},
   "source": [
    "For this call below, I noticed that when pandas created the db, the weather_state_abbr and id were not located in any of the columns, because of this I am not making that call, as all the pertinant weather related data is incorporated into the the data frame at this point "
   ]
  },
  {
   "cell_type": "code",
   "execution_count": null,
   "metadata": {},
   "outputs": [],
   "source": [
    "#df.drop(['weather_state_abbr','id'], inplace=True, axis=1)\n",
    "df.info()"
   ]
  },
  {
   "cell_type": "markdown",
   "metadata": {},
   "source": [
    "Now adding the import fo Mongo client"
   ]
  },
  {
   "cell_type": "code",
   "execution_count": null,
   "metadata": {},
   "outputs": [],
   "source": [
    "client = MongoClient()\n",
    "db = client['weather_test']\n",
    "collection = db['denver']"
   ]
  },
  {
   "cell_type": "markdown",
   "metadata": {},
   "source": [
    "Use https to call API and get weather data"
   ]
  },
  {
   "cell_type": "code",
   "execution_count": null,
   "metadata": {},
   "outputs": [],
   "source": [
    "response = req.get('https://www.metaweather.com/api/location/2391279/')"
   ]
  },
  {
   "cell_type": "markdown",
   "metadata": {},
   "source": [
    "Create days array an data frame"
   ]
  },
  {
   "cell_type": "code",
   "execution_count": null,
   "metadata": {},
   "outputs": [],
   "source": [
    "days = response.json()['consolidated_weather']\n",
    "df = pd.io.json.json_normalize(days[0])"
   ]
  },
  {
   "cell_type": "raw",
   "metadata": {},
   "source": [
    "For loop to loop through days array  "
   ]
  },
  {
   "cell_type": "code",
   "execution_count": null,
   "metadata": {},
   "outputs": [],
   "source": [
    "for day in days[1:]:\n",
    "    df = df.append(pd.io.json.json_normalize(day))"
   ]
  },
  {
   "cell_type": "markdown",
   "metadata": {},
   "source": [
    "Format dates"
   ]
  },
  {
   "cell_type": "code",
   "execution_count": null,
   "metadata": {},
   "outputs": [],
   "source": [
    "df['created']=pd.to_datetime(df['created'], utc=True)\n",
    "df['applicable_date']=pd.to_datetime(df['applicable_date']).dt.tz_localize('US/Mountain')"
   ]
  },
  {
   "cell_type": "markdown",
   "metadata": {},
   "source": [
    "Remove unwanted columns "
   ]
  },
  {
   "cell_type": "code",
   "execution_count": null,
   "metadata": {},
   "outputs": [],
   "source": [
    "df.drop(['weather_state_abbr','id'],inplace = True, axis = 1)"
   ]
  },
  {
   "cell_type": "code",
   "execution_count": null,
   "metadata": {},
   "outputs": [],
   "source": [
    "df.head()"
   ]
  },
  {
   "cell_type": "code",
   "execution_count": null,
   "metadata": {},
   "outputs": [],
   "source": [
    "df.info()"
   ]
  },
  {
   "cell_type": "markdown",
   "metadata": {},
   "source": [
    "define connection for MongoDb to match database and collections we created for weather"
   ]
  },
  {
   "cell_type": "code",
   "execution_count": 30,
   "metadata": {},
   "outputs": [
    {
     "data": {
      "text/plain": [
       "{'_id': ObjectId('5e48a19235fb515ffc4e6d3f'),\n",
       " 'air_pressure': 1016.5,\n",
       " 'applicable_date': datetime.datetime(2020, 2, 15, 7, 0),\n",
       " 'created': datetime.datetime(2020, 2, 16, 0, 49, 7, 769000),\n",
       " 'humidity': 75,\n",
       " 'max_temp': 4.825,\n",
       " 'min_temp': -3.035,\n",
       " 'predictability': 68,\n",
       " 'the_temp': 2.7,\n",
       " 'visibility': 13.902248369521992,\n",
       " 'weather_state_name': 'Clear',\n",
       " 'wind_direction': 47.799339241283064,\n",
       " 'wind_direction_compass': 'NE',\n",
       " 'wind_speed': 3.4206984864763115}"
      ]
     },
     "execution_count": 30,
     "metadata": {},
     "output_type": "execute_result"
    }
   ],
   "source": [
    "client = MongoClient()\n",
    "db=client['weather_test']\n",
    "collection=db['denver']\n",
    "#insert data into collection \n",
    "collection.insert_many(df.to_dict('records'))\n",
    "#show an example \n",
    "collection.find_one()"
   ]
  },
  {
   "cell_type": "markdown",
   "metadata": {},
   "source": [
    "I used an example of utilizing python to obtain API data from Yahoo Finance, this idea/concept is coming from a Towards Data Science article https://towardsdatascience.com/python-for-finance-stock-portfolio-analyses-6da4c3e61054 with some tweaks to make it more pertinant to what I'm interested in.  "
   ]
  },
  {
   "cell_type": "code",
   "execution_count": 37,
   "metadata": {},
   "outputs": [],
   "source": [
    "import pandas as pd\n",
    "import numpy as np\n",
    "import datetime\n",
    "import matplotlib.pyplot as plt\n",
    "import plotly.graph_objs as go\n",
    "%matplotlib inline"
   ]
  },
  {
   "cell_type": "markdown",
   "metadata": {},
   "source": [
    "Date Ranges for SP 500 and for all tickers\n",
    "Modify these date ranges each week.\n",
    "The below will pull back stock prices from the start date until end date specified."
   ]
  },
  {
   "cell_type": "code",
   "execution_count": 38,
   "metadata": {},
   "outputs": [],
   "source": [
    "start_sp = datetime.datetime(2014, 1, 1)\n",
    "end_sp = datetime.datetime(2019, 3, 9)\n",
    "# YTD performance\n",
    "end_of_last_year = datetime.datetime(2019, 12, 31)\n",
    "# These are separate if for some reason want different date range than SP.\n",
    "stocks_start = datetime.datetime(2014, 1, 1)\n",
    "stocks_end = datetime.datetime(2019, 3, 9)"
   ]
  },
  {
   "cell_type": "code",
   "execution_count": 39,
   "metadata": {},
   "outputs": [
    {
     "name": "stdout",
     "output_type": "stream",
     "text": [
      "[*********************100%***********************]  1 of 1 completed\n"
     ]
    },
    {
     "data": {
      "text/html": [
       "<div>\n",
       "<style scoped>\n",
       "    .dataframe tbody tr th:only-of-type {\n",
       "        vertical-align: middle;\n",
       "    }\n",
       "\n",
       "    .dataframe tbody tr th {\n",
       "        vertical-align: top;\n",
       "    }\n",
       "\n",
       "    .dataframe thead th {\n",
       "        text-align: right;\n",
       "    }\n",
       "</style>\n",
       "<table border=\"1\" class=\"dataframe\">\n",
       "  <thead>\n",
       "    <tr style=\"text-align: right;\">\n",
       "      <th></th>\n",
       "      <th>Open</th>\n",
       "      <th>High</th>\n",
       "      <th>Low</th>\n",
       "      <th>Close</th>\n",
       "      <th>Adj Close</th>\n",
       "      <th>Volume</th>\n",
       "    </tr>\n",
       "    <tr>\n",
       "      <th>Date</th>\n",
       "      <th></th>\n",
       "      <th></th>\n",
       "      <th></th>\n",
       "      <th></th>\n",
       "      <th></th>\n",
       "      <th></th>\n",
       "    </tr>\n",
       "  </thead>\n",
       "  <tbody>\n",
       "    <tr>\n",
       "      <th>2014-01-02</th>\n",
       "      <td>1845.859985</td>\n",
       "      <td>1845.859985</td>\n",
       "      <td>1827.739990</td>\n",
       "      <td>1831.979980</td>\n",
       "      <td>1831.979980</td>\n",
       "      <td>3080600000</td>\n",
       "    </tr>\n",
       "    <tr>\n",
       "      <th>2014-01-03</th>\n",
       "      <td>1833.209961</td>\n",
       "      <td>1838.239990</td>\n",
       "      <td>1829.130005</td>\n",
       "      <td>1831.369995</td>\n",
       "      <td>1831.369995</td>\n",
       "      <td>2774270000</td>\n",
       "    </tr>\n",
       "    <tr>\n",
       "      <th>2014-01-06</th>\n",
       "      <td>1832.310059</td>\n",
       "      <td>1837.160034</td>\n",
       "      <td>1823.729980</td>\n",
       "      <td>1826.770020</td>\n",
       "      <td>1826.770020</td>\n",
       "      <td>3294850000</td>\n",
       "    </tr>\n",
       "    <tr>\n",
       "      <th>2014-01-07</th>\n",
       "      <td>1828.709961</td>\n",
       "      <td>1840.099976</td>\n",
       "      <td>1828.709961</td>\n",
       "      <td>1837.880005</td>\n",
       "      <td>1837.880005</td>\n",
       "      <td>3511750000</td>\n",
       "    </tr>\n",
       "    <tr>\n",
       "      <th>2014-01-08</th>\n",
       "      <td>1837.900024</td>\n",
       "      <td>1840.020020</td>\n",
       "      <td>1831.400024</td>\n",
       "      <td>1837.489990</td>\n",
       "      <td>1837.489990</td>\n",
       "      <td>3652140000</td>\n",
       "    </tr>\n",
       "  </tbody>\n",
       "</table>\n",
       "</div>"
      ],
      "text/plain": [
       "                   Open         High          Low        Close    Adj Close  \\\n",
       "Date                                                                          \n",
       "2014-01-02  1845.859985  1845.859985  1827.739990  1831.979980  1831.979980   \n",
       "2014-01-03  1833.209961  1838.239990  1829.130005  1831.369995  1831.369995   \n",
       "2014-01-06  1832.310059  1837.160034  1823.729980  1826.770020  1826.770020   \n",
       "2014-01-07  1828.709961  1840.099976  1828.709961  1837.880005  1837.880005   \n",
       "2014-01-08  1837.900024  1840.020020  1831.400024  1837.489990  1837.489990   \n",
       "\n",
       "                Volume  \n",
       "Date                    \n",
       "2014-01-02  3080600000  \n",
       "2014-01-03  2774270000  \n",
       "2014-01-06  3294850000  \n",
       "2014-01-07  3511750000  \n",
       "2014-01-08  3652140000  "
      ]
     },
     "execution_count": 39,
     "metadata": {},
     "output_type": "execute_result"
    }
   ],
   "source": [
    "from pandas_datareader import data as pdr\n",
    "import yfinance as yf\n",
    "yf.pdr_override()\n",
    "\n",
    "sp500 = pdr.get_data_yahoo('^GSPC',\n",
    "                           start_sp, \n",
    "                           end_sp)\n",
    "\n",
    "sp500.head()"
   ]
  },
  {
   "cell_type": "code",
   "execution_count": 41,
   "metadata": {},
   "outputs": [
    {
     "name": "stdout",
     "output_type": "stream",
     "text": [
      "<class 'pandas.core.frame.DataFrame'>\n",
      "DatetimeIndex: 1304 entries, 2014-01-02 to 2019-03-08\n",
      "Data columns (total 6 columns):\n",
      " #   Column     Non-Null Count  Dtype  \n",
      "---  ------     --------------  -----  \n",
      " 0   Open       1304 non-null   float64\n",
      " 1   High       1304 non-null   float64\n",
      " 2   Low        1304 non-null   float64\n",
      " 3   Close      1304 non-null   float64\n",
      " 4   Adj Close  1304 non-null   float64\n",
      " 5   Volume     1304 non-null   int64  \n",
      "dtypes: float64(5), int64(1)\n",
      "memory usage: 71.3 KB\n"
     ]
    }
   ],
   "source": [
    "sp500.info()"
   ]
  },
  {
   "cell_type": "markdown",
   "metadata": {},
   "source": [
    "Now I will create an array of all the tickers within the date time frame, the function below will read all of the tickers and data into a df \n",
    "\n",
    "First we will generate a list of tickers below: "
   ]
  },
  {
   "cell_type": "code",
   "execution_count": 50,
   "metadata": {},
   "outputs": [
    {
     "name": "stdout",
     "output_type": "stream",
     "text": [
      "3.6.1\n"
     ]
    },
    {
     "data": {
      "text/html": [
       "<script type=\"text/javascript\">window.PlotlyConfig = {MathJaxConfig: 'local'};</script><script type=\"text/javascript\">if (window.MathJax) {MathJax.Hub.Config({SVG: {font: \"STIX-Web\"}});}</script><script>requirejs.config({paths: { 'plotly': ['https://cdn.plot.ly/plotly-latest.min']},});if(!window._Plotly) {require(['plotly'],function(plotly) {window._Plotly=plotly;});}</script>"
      ],
      "text/vnd.plotly.v1+html": [
       "<script type=\"text/javascript\">window.PlotlyConfig = {MathJaxConfig: 'local'};</script><script type=\"text/javascript\">if (window.MathJax) {MathJax.Hub.Config({SVG: {font: \"STIX-Web\"}});}</script><script>requirejs.config({paths: { 'plotly': ['https://cdn.plot.ly/plotly-latest.min']},});if(!window._Plotly) {require(['plotly'],function(plotly) {window._Plotly=plotly;});}</script>"
      ]
     },
     "metadata": {},
     "output_type": "display_data"
    },
    {
     "ename": "FileNotFoundError",
     "evalue": "[Errno 2] No such file or directory: 'Sample stocks acquisition dates_costs.xlsx'",
     "output_type": "error",
     "traceback": [
      "\u001b[1;31m---------------------------------------------------------------------------\u001b[0m",
      "\u001b[1;31mFileNotFoundError\u001b[0m                         Traceback (most recent call last)",
      "\u001b[1;32m<ipython-input-50-1ae0efc97e01>\u001b[0m in \u001b[0;36m<module>\u001b[1;34m()\u001b[0m\n\u001b[0;32m      5\u001b[0m \u001b[0minit_notebook_mode\u001b[0m\u001b[1;33m(\u001b[0m\u001b[0mconnected\u001b[0m\u001b[1;33m=\u001b[0m\u001b[1;32mTrue\u001b[0m\u001b[1;33m)\u001b[0m\u001b[1;33m\u001b[0m\u001b[0m\n\u001b[0;32m      6\u001b[0m \u001b[1;31m# Import the Sample worksheet with acquisition dates and initial cost basis:\u001b[0m\u001b[1;33m\u001b[0m\u001b[1;33m\u001b[0m\u001b[0m\n\u001b[1;32m----> 7\u001b[1;33m \u001b[0mportfolio_df\u001b[0m \u001b[1;33m=\u001b[0m \u001b[0mpd\u001b[0m\u001b[1;33m.\u001b[0m\u001b[0mread_excel\u001b[0m\u001b[1;33m(\u001b[0m\u001b[1;34m'Sample stocks acquisition dates_costs.xlsx'\u001b[0m\u001b[1;33m,\u001b[0m \u001b[0msheet_name\u001b[0m\u001b[1;33m=\u001b[0m\u001b[1;34m'Sample'\u001b[0m\u001b[1;33m)\u001b[0m\u001b[1;33m\u001b[0m\u001b[0m\n\u001b[0m\u001b[0;32m      8\u001b[0m \u001b[0mportfolio_df\u001b[0m\u001b[1;33m.\u001b[0m\u001b[0mhead\u001b[0m\u001b[1;33m(\u001b[0m\u001b[1;36m10\u001b[0m\u001b[1;33m)\u001b[0m\u001b[1;33m\u001b[0m\u001b[0m\n\u001b[0;32m      9\u001b[0m \u001b[1;33m\u001b[0m\u001b[0m\n",
      "\u001b[1;32m~\\Anaconda3.5\\lib\\site-packages\\pandas\\io\\excel\\_base.py\u001b[0m in \u001b[0;36mread_excel\u001b[1;34m(io, sheet_name, header, names, index_col, usecols, squeeze, dtype, engine, converters, true_values, false_values, skiprows, nrows, na_values, keep_default_na, verbose, parse_dates, date_parser, thousands, comment, skipfooter, convert_float, mangle_dupe_cols, **kwds)\u001b[0m\n\u001b[0;32m    302\u001b[0m \u001b[1;33m\u001b[0m\u001b[0m\n\u001b[0;32m    303\u001b[0m     \u001b[1;32mif\u001b[0m \u001b[1;32mnot\u001b[0m \u001b[0misinstance\u001b[0m\u001b[1;33m(\u001b[0m\u001b[0mio\u001b[0m\u001b[1;33m,\u001b[0m \u001b[0mExcelFile\u001b[0m\u001b[1;33m)\u001b[0m\u001b[1;33m:\u001b[0m\u001b[1;33m\u001b[0m\u001b[0m\n\u001b[1;32m--> 304\u001b[1;33m         \u001b[0mio\u001b[0m \u001b[1;33m=\u001b[0m \u001b[0mExcelFile\u001b[0m\u001b[1;33m(\u001b[0m\u001b[0mio\u001b[0m\u001b[1;33m,\u001b[0m \u001b[0mengine\u001b[0m\u001b[1;33m=\u001b[0m\u001b[0mengine\u001b[0m\u001b[1;33m)\u001b[0m\u001b[1;33m\u001b[0m\u001b[0m\n\u001b[0m\u001b[0;32m    305\u001b[0m     \u001b[1;32melif\u001b[0m \u001b[0mengine\u001b[0m \u001b[1;32mand\u001b[0m \u001b[0mengine\u001b[0m \u001b[1;33m!=\u001b[0m \u001b[0mio\u001b[0m\u001b[1;33m.\u001b[0m\u001b[0mengine\u001b[0m\u001b[1;33m:\u001b[0m\u001b[1;33m\u001b[0m\u001b[0m\n\u001b[0;32m    306\u001b[0m         raise ValueError(\n",
      "\u001b[1;32m~\\Anaconda3.5\\lib\\site-packages\\pandas\\io\\excel\\_base.py\u001b[0m in \u001b[0;36m__init__\u001b[1;34m(self, io, engine)\u001b[0m\n\u001b[0;32m    819\u001b[0m         \u001b[0mself\u001b[0m\u001b[1;33m.\u001b[0m\u001b[0m_io\u001b[0m \u001b[1;33m=\u001b[0m \u001b[0mstringify_path\u001b[0m\u001b[1;33m(\u001b[0m\u001b[0mio\u001b[0m\u001b[1;33m)\u001b[0m\u001b[1;33m\u001b[0m\u001b[0m\n\u001b[0;32m    820\u001b[0m \u001b[1;33m\u001b[0m\u001b[0m\n\u001b[1;32m--> 821\u001b[1;33m         \u001b[0mself\u001b[0m\u001b[1;33m.\u001b[0m\u001b[0m_reader\u001b[0m \u001b[1;33m=\u001b[0m \u001b[0mself\u001b[0m\u001b[1;33m.\u001b[0m\u001b[0m_engines\u001b[0m\u001b[1;33m[\u001b[0m\u001b[0mengine\u001b[0m\u001b[1;33m]\u001b[0m\u001b[1;33m(\u001b[0m\u001b[0mself\u001b[0m\u001b[1;33m.\u001b[0m\u001b[0m_io\u001b[0m\u001b[1;33m)\u001b[0m\u001b[1;33m\u001b[0m\u001b[0m\n\u001b[0m\u001b[0;32m    822\u001b[0m \u001b[1;33m\u001b[0m\u001b[0m\n\u001b[0;32m    823\u001b[0m     \u001b[1;32mdef\u001b[0m \u001b[0m__fspath__\u001b[0m\u001b[1;33m(\u001b[0m\u001b[0mself\u001b[0m\u001b[1;33m)\u001b[0m\u001b[1;33m:\u001b[0m\u001b[1;33m\u001b[0m\u001b[0m\n",
      "\u001b[1;32m~\\Anaconda3.5\\lib\\site-packages\\pandas\\io\\excel\\_xlrd.py\u001b[0m in \u001b[0;36m__init__\u001b[1;34m(self, filepath_or_buffer)\u001b[0m\n\u001b[0;32m     19\u001b[0m         \u001b[0merr_msg\u001b[0m \u001b[1;33m=\u001b[0m \u001b[1;34m\"Install xlrd >= 1.0.0 for Excel support\"\u001b[0m\u001b[1;33m\u001b[0m\u001b[0m\n\u001b[0;32m     20\u001b[0m         \u001b[0mimport_optional_dependency\u001b[0m\u001b[1;33m(\u001b[0m\u001b[1;34m\"xlrd\"\u001b[0m\u001b[1;33m,\u001b[0m \u001b[0mextra\u001b[0m\u001b[1;33m=\u001b[0m\u001b[0merr_msg\u001b[0m\u001b[1;33m)\u001b[0m\u001b[1;33m\u001b[0m\u001b[0m\n\u001b[1;32m---> 21\u001b[1;33m         \u001b[0msuper\u001b[0m\u001b[1;33m(\u001b[0m\u001b[1;33m)\u001b[0m\u001b[1;33m.\u001b[0m\u001b[0m__init__\u001b[0m\u001b[1;33m(\u001b[0m\u001b[0mfilepath_or_buffer\u001b[0m\u001b[1;33m)\u001b[0m\u001b[1;33m\u001b[0m\u001b[0m\n\u001b[0m\u001b[0;32m     22\u001b[0m \u001b[1;33m\u001b[0m\u001b[0m\n\u001b[0;32m     23\u001b[0m     \u001b[1;33m@\u001b[0m\u001b[0mproperty\u001b[0m\u001b[1;33m\u001b[0m\u001b[0m\n",
      "\u001b[1;32m~\\Anaconda3.5\\lib\\site-packages\\pandas\\io\\excel\\_base.py\u001b[0m in \u001b[0;36m__init__\u001b[1;34m(self, filepath_or_buffer)\u001b[0m\n\u001b[0;32m    351\u001b[0m             \u001b[0mself\u001b[0m\u001b[1;33m.\u001b[0m\u001b[0mbook\u001b[0m \u001b[1;33m=\u001b[0m \u001b[0mself\u001b[0m\u001b[1;33m.\u001b[0m\u001b[0mload_workbook\u001b[0m\u001b[1;33m(\u001b[0m\u001b[0mfilepath_or_buffer\u001b[0m\u001b[1;33m)\u001b[0m\u001b[1;33m\u001b[0m\u001b[0m\n\u001b[0;32m    352\u001b[0m         \u001b[1;32melif\u001b[0m \u001b[0misinstance\u001b[0m\u001b[1;33m(\u001b[0m\u001b[0mfilepath_or_buffer\u001b[0m\u001b[1;33m,\u001b[0m \u001b[0mstr\u001b[0m\u001b[1;33m)\u001b[0m\u001b[1;33m:\u001b[0m\u001b[1;33m\u001b[0m\u001b[0m\n\u001b[1;32m--> 353\u001b[1;33m             \u001b[0mself\u001b[0m\u001b[1;33m.\u001b[0m\u001b[0mbook\u001b[0m \u001b[1;33m=\u001b[0m \u001b[0mself\u001b[0m\u001b[1;33m.\u001b[0m\u001b[0mload_workbook\u001b[0m\u001b[1;33m(\u001b[0m\u001b[0mfilepath_or_buffer\u001b[0m\u001b[1;33m)\u001b[0m\u001b[1;33m\u001b[0m\u001b[0m\n\u001b[0m\u001b[0;32m    354\u001b[0m         \u001b[1;32melif\u001b[0m \u001b[0misinstance\u001b[0m\u001b[1;33m(\u001b[0m\u001b[0mfilepath_or_buffer\u001b[0m\u001b[1;33m,\u001b[0m \u001b[0mbytes\u001b[0m\u001b[1;33m)\u001b[0m\u001b[1;33m:\u001b[0m\u001b[1;33m\u001b[0m\u001b[0m\n\u001b[0;32m    355\u001b[0m             \u001b[0mself\u001b[0m\u001b[1;33m.\u001b[0m\u001b[0mbook\u001b[0m \u001b[1;33m=\u001b[0m \u001b[0mself\u001b[0m\u001b[1;33m.\u001b[0m\u001b[0mload_workbook\u001b[0m\u001b[1;33m(\u001b[0m\u001b[0mBytesIO\u001b[0m\u001b[1;33m(\u001b[0m\u001b[0mfilepath_or_buffer\u001b[0m\u001b[1;33m)\u001b[0m\u001b[1;33m)\u001b[0m\u001b[1;33m\u001b[0m\u001b[0m\n",
      "\u001b[1;32m~\\Anaconda3.5\\lib\\site-packages\\pandas\\io\\excel\\_xlrd.py\u001b[0m in \u001b[0;36mload_workbook\u001b[1;34m(self, filepath_or_buffer)\u001b[0m\n\u001b[0;32m     34\u001b[0m             \u001b[1;32mreturn\u001b[0m \u001b[0mopen_workbook\u001b[0m\u001b[1;33m(\u001b[0m\u001b[0mfile_contents\u001b[0m\u001b[1;33m=\u001b[0m\u001b[0mdata\u001b[0m\u001b[1;33m)\u001b[0m\u001b[1;33m\u001b[0m\u001b[0m\n\u001b[0;32m     35\u001b[0m         \u001b[1;32melse\u001b[0m\u001b[1;33m:\u001b[0m\u001b[1;33m\u001b[0m\u001b[0m\n\u001b[1;32m---> 36\u001b[1;33m             \u001b[1;32mreturn\u001b[0m \u001b[0mopen_workbook\u001b[0m\u001b[1;33m(\u001b[0m\u001b[0mfilepath_or_buffer\u001b[0m\u001b[1;33m)\u001b[0m\u001b[1;33m\u001b[0m\u001b[0m\n\u001b[0m\u001b[0;32m     37\u001b[0m \u001b[1;33m\u001b[0m\u001b[0m\n\u001b[0;32m     38\u001b[0m     \u001b[1;33m@\u001b[0m\u001b[0mproperty\u001b[0m\u001b[1;33m\u001b[0m\u001b[0m\n",
      "\u001b[1;32m~\\Anaconda3.5\\lib\\site-packages\\xlrd\\__init__.py\u001b[0m in \u001b[0;36mopen_workbook\u001b[1;34m(filename, logfile, verbosity, use_mmap, file_contents, encoding_override, formatting_info, on_demand, ragged_rows)\u001b[0m\n\u001b[0;32m    114\u001b[0m         \u001b[0mpeek\u001b[0m \u001b[1;33m=\u001b[0m \u001b[0mfile_contents\u001b[0m\u001b[1;33m[\u001b[0m\u001b[1;33m:\u001b[0m\u001b[0mpeeksz\u001b[0m\u001b[1;33m]\u001b[0m\u001b[1;33m\u001b[0m\u001b[0m\n\u001b[0;32m    115\u001b[0m     \u001b[1;32melse\u001b[0m\u001b[1;33m:\u001b[0m\u001b[1;33m\u001b[0m\u001b[0m\n\u001b[1;32m--> 116\u001b[1;33m         \u001b[1;32mwith\u001b[0m \u001b[0mopen\u001b[0m\u001b[1;33m(\u001b[0m\u001b[0mfilename\u001b[0m\u001b[1;33m,\u001b[0m \u001b[1;34m\"rb\"\u001b[0m\u001b[1;33m)\u001b[0m \u001b[1;32mas\u001b[0m \u001b[0mf\u001b[0m\u001b[1;33m:\u001b[0m\u001b[1;33m\u001b[0m\u001b[0m\n\u001b[0m\u001b[0;32m    117\u001b[0m             \u001b[0mpeek\u001b[0m \u001b[1;33m=\u001b[0m \u001b[0mf\u001b[0m\u001b[1;33m.\u001b[0m\u001b[0mread\u001b[0m\u001b[1;33m(\u001b[0m\u001b[0mpeeksz\u001b[0m\u001b[1;33m)\u001b[0m\u001b[1;33m\u001b[0m\u001b[0m\n\u001b[0;32m    118\u001b[0m     \u001b[1;32mif\u001b[0m \u001b[0mpeek\u001b[0m \u001b[1;33m==\u001b[0m \u001b[1;34mb\"PK\\x03\\x04\"\u001b[0m\u001b[1;33m:\u001b[0m \u001b[1;31m# a ZIP file\u001b[0m\u001b[1;33m\u001b[0m\u001b[0m\n",
      "\u001b[1;31mFileNotFoundError\u001b[0m: [Errno 2] No such file or directory: 'Sample stocks acquisition dates_costs.xlsx'"
     ]
    }
   ],
   "source": [
    "# Imports in order to be able to use Plotly offline.\n",
    "from plotly import __version__\n",
    "from plotly.offline import download_plotlyjs, init_notebook_mode, plot, iplot\n",
    "print(__version__) # requires version >= 1.9.0\n",
    "init_notebook_mode(connected=True)\n",
    "# Import the Sample worksheet with acquisition dates and initial cost basis:\n",
    "portfolio_df = pd.read_excel('Sample stocks acquisition dates_costs.xlsx', sheet_name='Sample')\n",
    "portfolio_df.head(10)\n",
    "\n",
    "tickers = portfolio_df['Ticker'].unique()\n",
    "tickers"
   ]
  },
  {
   "cell_type": "code",
   "execution_count": 52,
   "metadata": {},
   "outputs": [
    {
     "data": {
      "text/plain": [
       "<matplotlib.axes._subplots.AxesSubplot at 0x238c3ee1fd0>"
      ]
     },
     "execution_count": 52,
     "metadata": {},
     "output_type": "execute_result"
    },
    {
     "data": {
      "image/png": "[encoded data removed]",
      "text/plain": [
       "<Figure size 432x288 with 1 Axes>"
      ]
     },
     "metadata": {
      "needs_background": "light"
     },
     "output_type": "display_data"
    }
   ],
   "source": [
    "import numpy as np\n",
    "import matplotlib.pyplot as plt\n",
    "sp500.iloc[-360:,1].plot()"
   ]
  },
  {
   "cell_type": "code",
   "execution_count": null,
   "metadata": {},
   "outputs": [],
   "source": []
  },
  {
   "cell_type": "code",
   "execution_count": null,
   "metadata": {},
   "outputs": [],
   "source": []
  },
  {
   "cell_type": "code",
   "execution_count": null,
   "metadata": {},
   "outputs": [],
   "source": []
  }
 ],
 "metadata": {
  "kernelspec": {
   "display_name": "Python 3",
   "language": "python",
   "name": "python3"
  },
  "language_info": {
   "codemirror_mode": {
    "name": "ipython",
    "version": 3
   },
   "file_extension": ".py",
   "mimetype": "text/x-python",
   "name": "python",
   "nbconvert_exporter": "python",
   "pygments_lexer": "ipython3",
   "version": "3.8.3"
  }
 },
 "nbformat": 4,
 "nbformat_minor": 2
}
